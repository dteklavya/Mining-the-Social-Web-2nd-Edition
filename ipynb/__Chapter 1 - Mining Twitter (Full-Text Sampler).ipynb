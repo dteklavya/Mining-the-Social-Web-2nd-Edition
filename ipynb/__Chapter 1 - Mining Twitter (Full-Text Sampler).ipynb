{
 "cells": [
  {
   "cell_type": "markdown",
   "metadata": {},
   "source": [
    "# Chapter 1. Mining Twitter: Exploring Trending Topics, Discovering What People Are Talking About, and More"
   ]
  },
  {
   "cell_type": "markdown",
   "metadata": {},
   "source": [
    "<blockquote>\n",
    "<p>This content is a full-text excerpt from <a href=\"http://bit.ly/135dHfs\" target=\"_blank\">Mining the Social Web (2nd Edition)</a> that has been minimally converted to IPython Notebook format so that you can interactively run the example code as you read the book. The purpose of this offering is to determine if there is sufficient interest to offer the remainder of the entire book as a collection of IPython Notebooks (as a standard distribution format that's in addition to PDF, Kindle, etc.) based on feedback from you.</p>\n",
    "<p>If you would like to see the full-text of this book (or other books like it) offered in a native IPython Notebook format, tweet something like <em>\"@OReillyMedia: Please distribute @SocialWebMining in IPython Notebook format\"</em> so that both O'Reilly Media and the author receive your feedback. Alternatively, contact O'Reilly Media using the link above. Thanks!</p>\n",
    "<p>\n",
    "You can also view this sampler chapter in O'Reilly's new <a href=\"http://chimera.labs.oreilly.com/books/1234000001583/index.html\" target=\"_blank\">Chimera ebook reader</a> or <a href=\"http://bit.ly/135dHfs\" target=\"_blank\">download a PDF</a>.\n",
    "</p>\n",
    "</blockquote>"
   ]
  },
  {
   "cell_type": "markdown",
   "metadata": {},
   "source": [
    "This chapter kicks off our journey of mining the social web with\n",
    "  Twitter, a rich source of social data that is a great starting point for\n",
    "  social web mining because of its inherent openness for public consumption,\n",
    "  clean and well-documented API, rich developer tooling, and broad appeal to\n",
    "  users from every walk of life. Twitter data is particularly interesting\n",
    "  because tweets happen at the \"speed of thought\" and are available for\n",
    "  consumption as they happen in near real time, represent the broadest\n",
    "  cross-section of society at an international level, and are so inherently\n",
    "  multifaceted. Tweets and Twitter's \"following\" mechanism link people in a variety of ways, ranging from short\n",
    "  (but often meaningful) conversational dialogues to interest graphs that\n",
    "  connect people and the things that they care about."
   ]
  },
  {
   "cell_type": "markdown",
   "metadata": {},
   "source": [
    "Since this is the first chapter, we'll take our time acclimating to\n",
    "  our journey in social web mining. However, given that Twitter data is so\n",
    "  accessible and open to public scrutiny, Chapter&#160;9, <em>Twitter Cookbook</em>\n",
    "  further elaborates on the broad number of data mining possibilities by\n",
    "  providing a terse collection of recipes in a convenient problem/solution\n",
    "  format that can be easily manipulated and readily applied to a wide range of\n",
    "  problems. You'll also be able to apply concepts from future chapters to\n",
    "  Twitter data."
   ]
  },
  {
   "cell_type": "markdown",
   "metadata": {},
   "source": [
    "<blockquote><div><strong>Note:</strong></div><p>Always get the latest bug-fixed source code for this chapter (and\n",
    "    every other chapter) online at <a class=\"ulink\" href=\"http://bit.ly/MiningTheSocialWeb2E\" target=\"\\_top\">http://bit.ly/MiningTheSocialWeb2E</a>.\n",
    "    Be sure to also take advantage of this book's virtual machine experience,\n",
    "    as described in Appendix&#160;A, <em>Information About This Book's Virtual Machine Experience</em>, to maximize your enjoyment of the\n",
    "    sample code.</p></blockquote>"
   ]
  },
  {
   "cell_type": "markdown",
   "metadata": {},
   "source": [
    "# Overview"
   ]
  },
  {
   "cell_type": "markdown",
   "metadata": {},
   "source": [
    "In this chapter, we'll ease into the process of getting situated\n",
    "    with a minimal (but effective) development environment with Python, survey\n",
    "    Twitter's API, and distill some analytical insights from tweets using\n",
    "    frequency analysis. Topics that you'll learn about in this chapter\n",
    "    include:"
   ]
  },
  {
   "cell_type": "markdown",
   "metadata": {},
   "source": [
    "<ul class=\"itemizedlist\">\n",
    "            <li class=\"listitem\">\n",
    "              <p>Twitter's developer platform and how to make API requests</p>\n",
    "            </li>\n",
    "            <li class=\"listitem\">\n",
    "              <p>Tweet metadata and how to use it</p>\n",
    "            </li>\n",
    "            <li class=\"listitem\">\n",
    "              <p>Extracting entities such as user mentions, hashtags, and URLs\n",
    "        from tweets</p>\n",
    "            </li>\n",
    "            <li class=\"listitem\">\n",
    "              <p>Techniques for performing frequency analysis with Python</p>\n",
    "            </li>\n",
    "            <li class=\"listitem\">\n",
    "              <p>Plotting histograms of Twitter data with IPython Notebook</p>\n",
    "            </li>\n",
    "          </ul>"
   ]
  },
  {
   "cell_type": "markdown",
   "metadata": {},
   "source": [
    "# Why Is Twitter All the Rage?"
   ]
  },
  {
   "cell_type": "markdown",
   "metadata": {},
   "source": [
    "Most chapters won't open with a reflective discussion, but since this is\n",
    "    the first chapter of the book and introduces a social website that is\n",
    "    often misunderstood, it seems appropriate to take a moment to examine\n",
    "    Twitter at a fundamental level."
   ]
  },
  {
   "cell_type": "markdown",
   "metadata": {},
   "source": [
    "How would you define Twitter?"
   ]
  },
  {
   "cell_type": "markdown",
   "metadata": {},
   "source": [
    "There are many ways to answer this question, but let's consider it\n",
    "    from an overarching angle that addresses some fundamental aspects of our\n",
    "    shared humanity that any technology needs to account for in order to be\n",
    "    useful and successful. After all, the purpose of technology is to enhance\n",
    "    our human experience."
   ]
  },
  {
   "cell_type": "markdown",
   "metadata": {},
   "source": [
    "As humans, what are some things that we want that technology might\n",
    "    help us to get?"
   ]
  },
  {
   "cell_type": "markdown",
   "metadata": {},
   "source": [
    "<ul class=\"itemizedlist\">\n",
    "            <li class=\"listitem\">\n",
    "              <p>We want to be heard.</p>\n",
    "            </li>\n",
    "            <li class=\"listitem\">\n",
    "              <p>We want to satisfy our curiosity.</p>\n",
    "            </li>\n",
    "            <li class=\"listitem\">\n",
    "              <p>We want it easy.</p>\n",
    "            </li>\n",
    "            <li class=\"listitem\">\n",
    "              <p>We want it now.</p>\n",
    "            </li>\n",
    "          </ul>"
   ]
  },
  {
   "cell_type": "markdown",
   "metadata": {},
   "source": [
    "In the context of the current discussion, these are just a few\n",
    "    observations that are generally true of humanity. We have a deeply rooted\n",
    "    need to share our ideas and experiences, which gives us the ability to\n",
    "    connect with other people, to be heard, and to feel a sense of worth and\n",
    "    importance. We are curious about the world around us and how to organize\n",
    "    and manipulate it, and we use communication to share our observations, ask\n",
    "    questions, and engage with other people in meaningful dialogues about our\n",
    "    quandaries."
   ]
  },
  {
   "cell_type": "markdown",
   "metadata": {},
   "source": [
    "The last two bullet points highlight our inherent intolerance to\n",
    "    friction. Ideally, we don't want to have to work any harder than is\n",
    "    absolutely necessary to satisfy our curiosity or get any particular job\n",
    "    done; we'd rather be doing \"something else\" or moving on to the next thing\n",
    "    because our time on this planet is so precious and short. Along similar\n",
    "    lines, we want things <span class=\"emphasis\"><em>now</em></span> and tend to be impatient\n",
    "    when actual progress doesn't happen at the speed of our own\n",
    "    thought."
   ]
  },
  {
   "cell_type": "markdown",
   "metadata": {},
   "source": [
    "One way to describe Twitter is as a microblogging service that\n",
    "    allows people to communicate with short, 140-character messages that\n",
    "    roughly correspond to thoughts or ideas. In that regard, you could think\n",
    "    of Twitter as being akin to a free, high-speed, global text-messaging\n",
    "    service. In other words, it's a glorified piece of valuable infrastructure\n",
    "    that enables rapid and easy communication. However, that’s not all of the\n",
    "    story. It doesn't adequately address our inherent curiosity and the value\n",
    "    proposition that emerges when you have over <a class=\"ulink\" href=\"http://bit.ly/1a1kNXR\" target=\"\\_top\">500 million curious people registered, with\n",
    "    over 100 million of them actively engaging</a> their curiosity on a\n",
    "    regular monthly basis."
   ]
  },
  {
   "cell_type": "markdown",
   "metadata": {},
   "source": [
    "Besides the macro-level possibilities for marketing and\n",
    "    advertising—which are always lucrative with a user base of that size—it's\n",
    "    the underlying network dynamics that created the gravity for such a user\n",
    "    base to emerge that are truly interesting, and that's why Twitter is all\n",
    "    the rage. While the communication bus that enables users to share short\n",
    "    quips at the speed of thought may be a <span class=\"emphasis\"><em>necessary</em></span>\n",
    "    condition for viral adoption and sustained engagement on the Twitter\n",
    "    platform, it's not a <span class=\"emphasis\"><em>sufficient</em></span> condition. The extra\n",
    "    ingredient that makes it sufficient is that Twitter's asymmetric\n",
    "    following model satisfies our curiosity. It is the\n",
    "    asymmetric following model that casts Twitter as more of an interest graph\n",
    "    than a social network, and the APIs that provide just enough of a\n",
    "    framework for structure and self-organizing behavior to emerge from the\n",
    "    chaos."
   ]
  },
  {
   "cell_type": "markdown",
   "metadata": {},
   "source": [
    "In other words, whereas some social websites like Facebook and\n",
    "    LinkedIn require the mutual acceptance of a connection between users\n",
    "    (which usually implies a real-world connection of some kind), Twitter's\n",
    "    relationship model allows you to keep up with the latest happenings of\n",
    "    <span class=\"emphasis\"><em>any</em></span> other user, even though that other user may not\n",
    "    choose to follow you back or even know that you exist. Twitter's\n",
    "    <span class=\"emphasis\"><em>following</em></span> model is simple but exploits a fundamental\n",
    "    aspect of what makes us human: our curiosity. Whether it be an infatuation\n",
    "    with celebrity gossip, an urge to keep up with a favorite sports team, a\n",
    "    keen interest in a particular political topic, or a desire to connect with\n",
    "    someone new, Twitter provides you with boundless opportunities to satisfy\n",
    "    your curiosity."
   ]
  },
  {
   "cell_type": "markdown",
   "metadata": {},
   "source": [
    "Think of an <span class=\"emphasis\"><em>interest graph</em></span> as a way of modeling\n",
    "    connections between people and their arbitrary interests. Interest graphs\n",
    "    provide a profound number of possibilities in the data mining realm that\n",
    "    primarily involve measuring correlations between things for the objective\n",
    "    of making intelligent recommendations and other applications in machine\n",
    "    learning. For example, you could use an interest graph to measure\n",
    "    correlations and make recommendations ranging from whom to follow on\n",
    "    Twitter to what to purchase online to whom you should date. To illustrate\n",
    "    the notion of Twitter as an interest graph, consider that a Twitter user\n",
    "    need not be a real person; it very well could be a person, but it could\n",
    "    also be an inanimate object, a company, a musical group, an imaginary\n",
    "    persona, an impersonation of someone (living or dead), or just about\n",
    "    anything else."
   ]
  },
  {
   "cell_type": "markdown",
   "metadata": {},
   "source": [
    "For example, the <a class=\"ulink\" href=\"http://bit.ly/1a1kQD1\" target=\"\\_top\">@HomerJSimpson</a> account is the official\n",
    "    account for Homer Simpson, a popular character from <span class=\"emphasis\"><em>The\n",
    "    Simpsons</em></span> television show. Although Homer Simpson isn't a real\n",
    "    person, he's a well-known personality throughout the world, and the\n",
    "    @HomerJSimpson Twitter persona acts as an conduit for him (or his\n",
    "    creators, actually) to engage his fans. Likewise, although this book will\n",
    "    probably never reach the popularity of Homer Simpson, <a class=\"ulink\" href=\"http://bit.ly/1a1kHzq\" target=\"\\_top\">@SocialWebMining</a> is its official\n",
    "    Twitter account and provides a means for a community that's interested in\n",
    "    its content to connect and engage on various levels. When you realize that\n",
    "    Twitter enables you to create, connect, and explore a community of\n",
    "    interest for an arbitrary topic of interest, the power of Twitter and the\n",
    "    insights you can gain from mining its data become much more\n",
    "    obvious."
   ]
  },
  {
   "cell_type": "markdown",
   "metadata": {},
   "source": [
    "There is very little governance of what a Twitter account can be aside from the badges on some\n",
    "    accounts that identify celebrities and public figures as \"verified\n",
    "    accounts\" and basic restrictions in Twitter's <a class=\"ulink\" href=\"http://bit.ly/1a1kRXl\" target=\"\\_top\">Terms of Service agreement</a>, which is\n",
    "    required for using the service. It may seem very subtle, but it's an\n",
    "    important distinction from some social websites in which accounts must\n",
    "    correspond to real, living people, businesses, or entities of a similar\n",
    "    nature that fit into a particular taxonomy. Twitter places no particular\n",
    "    restrictions on the persona of an account and relies on self-organizing\n",
    "    behavior such as following relationships and folksonomies that emerge from\n",
    "    the use of hashtags to create a certain kind of order within the system."
   ]
  },
  {
   "cell_type": "markdown",
   "metadata": {},
   "source": [
    "<blockquote><div><strong>Sidebar Discussion:</strong></div><div class=\"titlepage\">\n",
    "            <div>\n",
    "              <div>\n",
    "                <div class=\"sidebar-title\">Taxonomies and Folksonomies</div>\n",
    "              </div>\n",
    "            </div>\n",
    "          </div>\n",
    "          <p>A fundamental aspect of human intelligence is the desire to classify things and\n",
    "      derive a hierarchy in which each element &#8220;belongs to&#8221; or is a &#8220;child&#8221; of\n",
    "      a parent element one level higher in the hierarchy. Leaving aside some\n",
    "      of the <a class=\"ulink\" href=\"http://bit.ly/1a1kRXy\" target=\"\\_top\">finer distinctions between a\n",
    "      taxonomy and an ontology</a>, think of a\n",
    "      <span class=\"emphasis\"><em>taxonomy</em></span> as a hierarchical structure like a tree\n",
    "      that classifies elements into particular parent/child relationships,\n",
    "      whereas a <a class=\"ulink\" href=\"http://bit.ly/1a1kU5C\" target=\"\\_top\"><span class=\"emphasis\"><em>folksonomy</em></span></a> (a\n",
    "      term coined around 2004) describes the universe of\n",
    "      collaborative tagging and social indexing efforts that emerge in various\n",
    "      ecosystems of the Web. It&#8217;s a play on words in the sense that it blends\n",
    "      <span class=\"emphasis\"><em>folk</em></span> and <span class=\"emphasis\"><em>taxonomy</em></span>. So, in\n",
    "      essence, a folksonomy is just a fancy way of describing the\n",
    "      decentralized universe of tags that emerges as a mechanism of <span class=\"emphasis\"><em>collective intelligence</em></span>\n",
    "      when you allow people to classify content with labels. One of the things\n",
    "      that's so compelling about the use of hashtags on Twitter is that the\n",
    "      folksonomies that organically emerge act as points of aggregation for\n",
    "      common interests and provide a focused way to explore while still\n",
    "      leaving open the possibility for nearly unbounded serendipity.</p></blockquote>"
   ]
  },
  {
   "cell_type": "markdown",
   "metadata": {},
   "source": [
    "# Exploring Twitter's API"
   ]
  },
  {
   "cell_type": "markdown",
   "metadata": {},
   "source": [
    "Now having a proper frame of reference for Twitter, let us now\n",
    "    transition our attention to the problem of acquiring and analyzing Twitter\n",
    "    data."
   ]
  },
  {
   "cell_type": "markdown",
   "metadata": {},
   "source": [
    "## Fundamental Twitter Terminology"
   ]
  },
  {
   "cell_type": "markdown",
   "metadata": {},
   "source": [
    "Twitter might be described as a real-time, highly social microblogging\n",
    "      service that allows users to post short status updates, called <span class=\"emphasis\"><em>tweets</em></span>, that appear on timelines. Tweets may include one or more\n",
    "      entities in their 140 characters of content and reference one or more\n",
    "      places that map to locations in the real world. An understanding\n",
    "      of users, tweets, and timelines is particularly essential to effective\n",
    "      use of <a class=\"ulink\" href=\"http://bit.ly/1a1kSKQ\" target=\"\\_top\">Twitter's API</a>, so a\n",
    "      brief introduction to these fundamental <a class=\"ulink\" href=\"http://bit.ly/1a1kSL8\" target=\"\\_top\">Twitter\n",
    "      Platform objects</a> is in order before we interact with the API to\n",
    "      fetch some data. We've largely discussed Twitter users and Twitter's\n",
    "      asymmetric following model for relationships thus far, so this section\n",
    "      briefly introduces tweets and timelines in order to round out a general\n",
    "      understanding of the Twitter platform."
   ]
  },
  {
   "cell_type": "markdown",
   "metadata": {},
   "source": [
    "Tweets are the essence of Twitter, and while they are notionally\n",
    "      thought of as the 140 characters of text content associated with a\n",
    "      user's status update, there's really quite a bit more metadata there than meets the eye. In addition to the\n",
    "      textual content of a tweet itself, tweets come bundled with two\n",
    "      additional pieces of metadata that are of particular note:\n",
    "      <span class=\"emphasis\"><em>entities</em></span> and <span class=\"emphasis\"><em>places</em></span>. Tweet\n",
    "      entities are essentially the user mentions, hashtags, URLs, and media that may be\n",
    "      associated with a tweet, and places are locations in the real world that\n",
    "      may be attached to a tweet. Note that a place may be the actual location\n",
    "      in which a tweet was authored, but it might also be a reference to the\n",
    "      place described in a tweet."
   ]
  },
  {
   "cell_type": "markdown",
   "metadata": {},
   "source": [
    "To make it all a bit more concrete, let's consider a sample tweet\n",
    "      with the following text:"
   ]
  },
  {
   "cell_type": "markdown",
   "metadata": {},
   "source": [
    "<blockquote class=\"blockquote\">\n",
    "              <p>@ptwobrussell is writing @SocialWebMining, 2nd Ed. from his home\n",
    "        office in Franklin, TN. Be \\#social: http://on.fb.me/16WJAf9</p>\n",
    "            </blockquote>"
   ]
  },
  {
   "cell_type": "markdown",
   "metadata": {},
   "source": [
    "The tweet is 124 characters long and contains four tweet entities:\n",
    "      the user mentions @ptwobrussell and @SocialWebMining, the hashtag\n",
    "      \\#social, and the URL <a class=\"ulink\" href=\"http://on.fb.me/16WJAf9\" target=\"\\_top\">http://on.fb.me/16WJAf9</a>. Although there is a place called\n",
    "      Franklin, Tennessee that's explicitly mentioned in the tweet, the\n",
    "      <span class=\"emphasis\"><em>places</em></span> metadata associated with the tweet might\n",
    "      include the location in which the tweet was authored, which may or may\n",
    "      not be Franklin, Tennessee. That's a lot of metadata that's packed into\n",
    "      fewer than 140 characters and illustrates just how potent a short quip\n",
    "      can be: it can unambiguously refer to multiple other Twitter users, link\n",
    "      to web pages, and cross-reference topics with hashtags that act as\n",
    "      points of aggregation and horizontally slice through the entire Twitterverse in an easily searchable\n",
    "      fashion."
   ]
  },
  {
   "cell_type": "markdown",
   "metadata": {},
   "source": [
    "Finally, <span class=\"emphasis\"><em>timelines</em></span> are the chronologically\n",
    "      sorted collections of tweets. Abstractly, you might say that a timeline\n",
    "      is any particular collection of tweets displayed in chronological order;\n",
    "      however, you'll commonly see a couple of timelines that are particularly\n",
    "      noteworthy. From the perspective of an arbitrary Twitter user, the\n",
    "      <span class=\"emphasis\"><em>home timeline</em></span> is the view that you see when you log into your account and look\n",
    "      at all of the tweets from users that you are following, whereas a particular <span class=\"emphasis\"><em>user timeline</em></span> is a\n",
    "      collection of tweets only from a certain user."
   ]
  },
  {
   "cell_type": "markdown",
   "metadata": {},
   "source": [
    "For example, when you log into your Twitter account, your home timeline is located at\n",
    "      <a class=\"ulink\" href=\"http://bit.ly/1a1kT1v\" target=\"\\_top\">https://twitter.com</a>. The URL for any\n",
    "      particular user timeline, however, must be suffixed with a context that\n",
    "      identifies the user, such as <a class=\"ulink\" href=\"http://bit.ly/1a1kT1E\" target=\"\\_top\">https://twitter.com/SocialWebMining</a>.\n",
    "      If you're interested in seeing what a particular user's home timeline\n",
    "      looks like from that user's perspective, you can access it with the\n",
    "      additional <span class=\"emphasis\"><em>following</em></span> suffix appended to the URL.\n",
    "      For example, what Tim O'Reilly sees on his home timeline when he logs\n",
    "      into Twitter is accessible at <a class=\"ulink\" href=\"http://bit.ly/1a1kV9x\" target=\"\\_top\">https://twitter.com/timoreilly/following</a>."
   ]
  },
  {
   "cell_type": "markdown",
   "metadata": {},
   "source": [
    "An application like TweetDeck provides several customizable views into the\n",
    "      tumultuous landscape of tweets, as shown in Figure&#160;1.1, &#8220;TweetDeck provides a highly customizable user interface that\n",
    "        can be helpful for analyzing what is happening on Twitter and\n",
    "        demonstrates the kind of data that you have access to through the\n",
    "        Twitter API&#8221;, and is worth trying out if you haven't journeyed\n",
    "      far beyond the Twitter.com user interface."
   ]
  },
  {
   "cell_type": "markdown",
   "metadata": {},
   "source": [
    "<div class=\"figure-title\">Figure&#160;1.1.&#160;TweetDeck provides a highly customizable user interface that\n",
    "        can be helpful for analyzing what is happening on Twitter and\n",
    "        demonstrates the kind of data that you have access to through the\n",
    "        Twitter API</div>\n",
    "            <div class=\"figure-contents\">\n",
    "              <div class=\"mediaobject\">\n",
    "                <img alt=\"TweetDeck provides a highly customizable user interface that can be helpful for analyzing what is happening on Twitter and demonstrates the kind of data that you have access to through the Twitter API\" src=\"files/resources/sampler-images/images/mswb_0101.png\" />\n",
    "              </div>\n",
    "            </div>"
   ]
  },
  {
   "cell_type": "markdown",
   "metadata": {},
   "source": [
    "Whereas timelines are collections of tweets with relatively low\n",
    "      velocity, <span class=\"emphasis\"><em>streams</em></span> are samples of public tweets\n",
    "      flowing through Twitter in realtime. The <span class=\"emphasis\"><em>public\n",
    "      firehose</em></span> of all tweets has been known to <a class=\"ulink\" href=\"http://bit.ly/1a1kV9N\" target=\"\\_top\">peak at hundreds of thousands of tweets per\n",
    "      minute</a> during events with particularly wide interest, such as\n",
    "      presidential debates. Twitter's public firehose emits far too much data\n",
    "      to consider for the scope of this book and presents interesting\n",
    "      engineering challenges, which is at least one of the reasons that\n",
    "      various third-party commercial vendors have partnered with Twitter to\n",
    "      bring the firehose to the masses in a more consumable fashion. That\n",
    "      said, <a class=\"ulink\" href=\"http://bit.ly/1a1kVq7\" target=\"\\_top\">a small random sample of the\n",
    "      public timeline</a> is available that provides filterable access to enough public data for API\n",
    "      developers to develop powerful applications."
   ]
  },
  {
   "cell_type": "markdown",
   "metadata": {},
   "source": [
    "The remainder of this chapter and Part II of this book assume that\n",
    "      you have a Twitter account, which is required for API access. If you\n",
    "      don't have an account already, take a moment to create onem and then review Twitter&#8217;s liberal <a class=\"ulink\" href=\"http://bit.ly/1a1kWKB\" target=\"\\_top\">terms of service</a>, <a class=\"ulink\" href=\"http://bit.ly/1a1kSKQ\" target=\"\\_top\">API documentation</a>, and <a class=\"ulink\" href=\"http://bit.ly/1a1kX1a\" target=\"\\_top\">Developer Rules of the Road</a>. The\n",
    "      sample code for this chapter and Part II of the book generally don't\n",
    "      require you to have any friends or followers of your own, but some of\n",
    "      the examples in Part II will be a lot more interesting and fun if you\n",
    "      have an active account with a handful of friends and followers that you\n",
    "      can use as a basis for social web mining. If you don't have an active\n",
    "      account, now would be a good time to get plugged in and start priming\n",
    "      your account for the data mining fun to come."
   ]
  },
  {
   "cell_type": "markdown",
   "metadata": {},
   "source": [
    "## Creating a Twitter API Connection"
   ]
  },
  {
   "cell_type": "markdown",
   "metadata": {},
   "source": [
    "Twitter has taken great care to craft an elegantly simple <a class=\"ulink\" href=\"http://bit.ly/1a1kVX5\" target=\"\\_top\">RESTful</a>\n",
    "      API that is intuitive and easy to use. Even so, there are great\n",
    "      libraries available to further mitigate the work involved in making API\n",
    "      requests. A particularly beautiful Python package that wraps the Twitter API and\n",
    "      mimics the public API semantics almost one-to-one is <code class=\"literal\">twitter</code>. Like most other Python packages, you\n",
    "      can install it with <code class=\"literal\">pip</code> by typing <strong class=\"userinput\"><code>pip install\n",
    "      twitter</code></strong> in a terminal."
   ]
  },
  {
   "cell_type": "markdown",
   "metadata": {},
   "source": [
    "<blockquote><div><strong>Note:</strong></div><p>See Appendix&#160;C, <em>Python and IPython Notebook Tips &amp; Tricks</em> for instructions on how to install\n",
    "        <code class=\"literal\">pip</code>.</p></blockquote>"
   ]
  },
  {
   "cell_type": "markdown",
   "metadata": {},
   "source": [
    "<blockquote><div><strong>Sidebar Discussion:</strong></div><div class=\"titlepage\">\n",
    "              <div>\n",
    "                <div>\n",
    "                  <div class=\"sidebar-title\">Python Tip: Harnessing pydoc for Effective Help During\n",
    "        Development</div>\n",
    "                </div>\n",
    "              </div>\n",
    "            </div>\n",
    "            <p>We&#8217;ll work though some examples that illustrate the use of the\n",
    "        <code class=\"literal\">twitter</code> package, but just in case\n",
    "        you're ever in a situation where you need some help (and you will be),\n",
    "        it's worth remembering that you can always skim the documentation for\n",
    "        a package (its <a class=\"ulink\" href=\"http://bit.ly/1a1kVXg\" target=\"\\_top\"><code class=\"literal\">pydoc</code></a>) in a few different ways. Outside of a Python shell, running\n",
    "        <code class=\"literal\">pydoc</code> in your terminal on a package\n",
    "        in your <code class=\"literal\">PYTHONPATH</code> is a\n",
    "        nice option. For example, on a Linux or Mac system, you can simply\n",
    "        type <strong class=\"userinput\"><code>pydoc twitter</code></strong> in a\n",
    "        terminal to get the package-level documentation, whereas <strong class=\"userinput\"><code>pydoc twitter.Twitter</code></strong> provides\n",
    "        documentation on the <code class=\"code\">Twitter</code> class included with that\n",
    "        package. On Windows systems, you can get the same information, albeit\n",
    "        in a slightly different way, by executing <code class=\"literal\">pydoc</code> as a package. Typing <strong class=\"userinput\"><code>python -mpydoc twitter.Twitter</code></strong>, for\n",
    "        example, would provide information on the <code class=\"literal\">twitter.Twitter</code> class. If you find yourself\n",
    "        reviewing the documentation for certain modules often, you can elect\n",
    "        to pass the <code class=\"literal\">-w</code> option to\n",
    "        <code class=\"code\">pydoc</code> and write out an HTML page that you can save and\n",
    "        bookmark in your browser.</p>\n",
    "            <p>However, more than likely, you'll be in the middle of a working\n",
    "        session when you need some help. The built-in <code class=\"literal\">help</code>\n",
    "        function accepts a package or class name and is useful for an ordinary\n",
    "        Python shell, whereas <a class=\"ulink\" href=\"http://bit.ly/1a1kXyf\" target=\"\\_top\">IPython</a> users can suffix a package\n",
    "        or class name with a question mark to view inline help. For example,\n",
    "        you could type <strong class=\"userinput\"><code>help(twitter)</code></strong> or\n",
    "        <strong class=\"userinput\"><code>help(twitter.Twitter)</code></strong> in a\n",
    "        regular Python interpreter, while you could use the shortcut\n",
    "        <strong class=\"userinput\"><code>twitter?</code></strong> or <strong class=\"userinput\"><code>twitter.Twitter?</code></strong> in IPython or IPython\n",
    "        Notebook.</p>\n",
    "            <p>It is highly recommended that you adopt IPython as your standard\n",
    "        Python shell when working outside of IPython Notebook because of the\n",
    "        various convenience functions, such as tab completion, session\n",
    "        history, and <a class=\"ulink\" href=\"http://bit.ly/1a1kXyf\" target=\"\\_top\">\"magic\n",
    "        functions,\"</a> that it offers. Recall that Appendix&#160;A, <em>Information About This Book's Virtual Machine Experience</em> provides minimal details on getting oriented with\n",
    "        recommended developer tools such as IPython.</p></blockquote>"
   ]
  },
  {
   "cell_type": "markdown",
   "metadata": {},
   "source": [
    "<blockquote><div><strong>Note:</strong></div><p>We'll opt to make programmatic API requests with Python, because\n",
    "        the <code class=\"literal\">twitter</code> package so elegantly\n",
    "        mimics the RESTful API. If you're interested in seeing the raw\n",
    "        requests that you could make with HTTP or exploring the API in a more\n",
    "        interactive manner, however, check out the <a class=\"ulink\" href=\"http://bit.ly/1a1kWui\" target=\"\\_top\">developer console</a> or the\n",
    "        command-line tool <a class=\"ulink\" href=\"http://bit.ly/1a1kZq1\" target=\"\\_top\">Twurl</a>.</p></blockquote>"
   ]
  },
  {
   "cell_type": "markdown",
   "metadata": {},
   "source": [
    "Before you can make any API requests to Twitter, you'll need to\n",
    "      create an application at <a class=\"ulink\" href=\"http://bit.ly/1a1kYlS\" target=\"\\_top\">https://dev.twitter.com/apps</a>.\n",
    "      Creating an application is the standard way for developers to gain API\n",
    "      access and for Twitter to monitor and interact with third-party platform\n",
    "      developers as needed. The process for creating an application is pretty\n",
    "      standard, and all that's needed is read-only access to the API."
   ]
  },
  {
   "cell_type": "markdown",
   "metadata": {},
   "source": [
    "In the present context, <span class=\"emphasis\"><em>you</em></span> are creating an app that you are going to authorize to access\n",
    "      <span class=\"emphasis\"><em>your</em></span> account data, so this might seem a bit\n",
    "      roundabout; why not just plug in your username and password to access\n",
    "      the API? While that approach might work fine for\n",
    "      <span class=\"emphasis\"><em>you</em></span>, a third party such as a friend or colleague\n",
    "      probably wouldn't feel comfortable forking over a username/password\n",
    "      combination in order to enjoy the same insights from\n",
    "      <span class=\"emphasis\"><em>your</em></span> app. Giving up credentials is never a sound\n",
    "      practice. Fortunately, some smart people recognized this problem years ago, and now there's a\n",
    "      standardized protocol called <a class=\"ulink\" href=\"http://bit.ly/1a1kZWN\" target=\"\\_top\">OAuth</a> (short for Open Authorization)\n",
    "      that works for these kinds of situations in a generalized way for the\n",
    "      broader social web. The protocol is a social web standard at this\n",
    "      point."
   ]
  },
  {
   "cell_type": "markdown",
   "metadata": {},
   "source": [
    "If you remember nothing else from this tangent, just remember that\n",
    "      OAuth is a means of allowing users to authorize third-party applications\n",
    "      to access their account data without needing to share sensitive\n",
    "      information like a password. Appendix&#160;B, <em>OAuth Primer</em> provides a slightly\n",
    "      broader overview of how OAuth works if you're interested, and <a class=\"ulink\" href=\"http://bit.ly/1a1kZWW\" target=\"\\_top\">Twitter's OAuth documentation</a> offers\n",
    "      specific details about its particular implementation.<sup>[1]</sup>"
   ]
  },
  {
   "cell_type": "markdown",
   "metadata": {},
   "source": [
    "For simplicity of development, the key pieces of information that\n",
    "      you'll need to take away from your newly created application's settings\n",
    "      are its consumer key, consumer secret, access token, and access\n",
    "      token secret. In tandem, these four credentials provide everything that\n",
    "      an application would ultimately be getting to authorize itself through a\n",
    "      series of redirects involving the user granting authorization, so treat\n",
    "      them with the same sensitivity that you would a password."
   ]
  },
  {
   "cell_type": "markdown",
   "metadata": {},
   "source": [
    "<blockquote><div><strong>Note:</strong></div><p>See Appendix&#160;B, <em>OAuth Primer</em> for details on implementing an OAuth\n",
    "        2.0 flow that you would need to build an application that requires an\n",
    "        arbitrary user to authorize it to access account data.</p></blockquote>"
   ]
  },
  {
   "cell_type": "markdown",
   "metadata": {},
   "source": [
    "Figure&#160;1.2, &#8220;Create a new Twitter application to get OAuth credentials and\n",
    "        API access at https://dev.twitter.com/apps;\n",
    "        the four (blurred) OAuth fields are what you'll use to make API calls\n",
    "        to Twitter's API&#8221; shows the context of\n",
    "      retrieving these credentials."
   ]
  },
  {
   "cell_type": "markdown",
   "metadata": {},
   "source": [
    "<div class=\"figure-title\">Figure&#160;1.2.&#160;Create a new Twitter application to get OAuth credentials and\n",
    "        API access at <a class=\"ulink\" href=\"https://dev.twitter.com/apps\" target=\"\\_top\">https://dev.twitter.com/apps</a>;\n",
    "        the four (blurred) OAuth fields are what you'll use to make API calls\n",
    "        to Twitter's API</div>\n",
    "            <div class=\"figure-contents\">\n",
    "              <div class=\"mediaobject\">\n",
    "                <img alt=\"Create a new Twitter application to get OAuth credentials and API access at https://dev.twitter.com/apps; the four (blurred) OAuth fields are what you'll use to make API calls to Twitter's API\" src=\"files/resources/sampler-images/images/mswb_0102.png\" />\n",
    "              </div>\n",
    "            </div>"
   ]
  },
  {
   "cell_type": "markdown",
   "metadata": {},
   "source": [
    "Without further ado, let’s create an authenticated connection to\n",
    "      Twitter's API and find out what people are talking about by inspecting\n",
    "      the trends available to us through the <a class=\"ulink\" href=\"http://bit.ly/1a1kYSQ\" target=\"\\_top\"><code class=\"literal\">GET trends/place</code>\n",
    "      resource</a>. While you're at it, go ahead and bookmark the <a class=\"ulink\" href=\"http://bit.ly/1a1kSKQ\" target=\"\\_top\">official API documentation</a> as well\n",
    "      as the <a class=\"ulink\" href=\"http://bit.ly/1a1kZ9i\" target=\"\\_top\">REST API v1.1\n",
    "      resources</a>, because you'll be referencing them regularly as you\n",
    "      learn the ropes of the developer-facing side of the Twitterverse."
   ]
  },
  {
   "cell_type": "markdown",
   "metadata": {},
   "source": [
    "<blockquote><div><strong>Note:</strong></div><p>As of March 2013, Twitter's API operates at version 1.1 and is\n",
    "          significantly different in a few areas from the previous v1 API that\n",
    "          you may have encountered. Version 1 of the API passed through a\n",
    "          deprecation cycle of approximately six months and is no longer\n",
    "          operational. All sample code in this book presumes version 1.1 of\n",
    "          the API.</p></blockquote>"
   ]
  },
  {
   "cell_type": "markdown",
   "metadata": {},
   "source": [
    "Let’s fire up IPython Notebook and initiate a search. Follow along\n",
    "      with Example&#160;1.1, &#8220;Authorizing an application to access Twitter account\n",
    "        data&#8221; by substituting your own\n",
    "      account credentials into the variables at the beginning of the code\n",
    "      example and execute the call to create an instance of the Twitter API.\n",
    "      The code works by using your OAuth credentials to create an object\n",
    "      called <code class=\"literal\">auth</code> that represents your\n",
    "      OAuth authorization, which can then be passed to a class called <code class=\"literal\">Twitter</code> that is capable of issuing queries to\n",
    "      Twitter's API."
   ]
  },
  {
   "cell_type": "markdown",
   "metadata": {},
   "source": [
    "#### Example 1.1. Authorizing an application to access Twitter account data"
   ]
  },
  {
   "cell_type": "code",
   "execution_count": 24,
   "metadata": {},
   "outputs": [
    {
     "name": "stdout",
     "output_type": "stream",
     "text": [
      "<twitter.api.Twitter object at 0x7f20ce502780>\n"
     ]
    }
   ],
   "source": [
    "import twitter\n",
    "\n",
    "# XXX: Go to http://dev.twitter.com/apps/new to create an app and get values\n",
    "# for these credentials, which you'll need to provide in place of these\n",
    "# empty string values that are defined as placeholders.\n",
    "# See https://dev.twitter.com/docs/auth/oauth for more information \n",
    "# on Twitter's OAuth implementation.\n",
    "\n",
    "\n",
    "# Get Twitter access tokens and keys from config file.\n",
    "\n",
    "import configparser\n",
    "\n",
    "config = configparser.ConfigParser()\n",
    "config.read_file(open(r'./../twitter_keys'))\n",
    "\n",
    "\n",
    "CONSUMER_KEY = config.get('T Section', 'CONSUMER_KEY')\n",
    "CONSUMER_SECRET = config.get('T Section', 'CONSUMER_SECRET')\n",
    "OAUTH_TOKEN = config.get('T Section', 'OAUTH_TOKEN')\n",
    "OAUTH_TOKEN_SECRET = config.get('T Section', 'OAUTH_TOKEN_SECRET')\n",
    "\n",
    "auth = twitter.oauth.OAuth(OAUTH_TOKEN, OAUTH_TOKEN_SECRET,\n",
    "                           CONSUMER_KEY, CONSUMER_SECRET)\n",
    "\n",
    "twitter_api = twitter.Twitter(auth=auth)\n",
    "\n",
    "# Nothing to see by displaying twitter_api except that it's now a\n",
    "# defined variable\n",
    "\n",
    "print(twitter_api)"
   ]
  },
  {
   "cell_type": "markdown",
   "metadata": {},
   "source": [
    "The results of this example should simply display an unambiguous\n",
    "      representation of the <code class=\"literal\">twitter\\_api</code>\n",
    "      object that we've constructed, such as:"
   ]
  },
  {
   "cell_type": "markdown",
   "metadata": {},
   "source": [
    "<code><code class=\"literal\">&lt;twitter.api.Twitter object at 0x39d9b50&gt;</code></code>"
   ]
  },
  {
   "cell_type": "markdown",
   "metadata": {},
   "source": [
    "This indicates that we've successfully used OAuth credentials to\n",
    "      gain authorization to query Twitter's API."
   ]
  },
  {
   "cell_type": "markdown",
   "metadata": {},
   "source": [
    "## Exploring Trending Topics"
   ]
  },
  {
   "cell_type": "markdown",
   "metadata": {},
   "source": [
    "With an authorized API connection in place, you can now issue a\n",
    "      request. Example&#160;1.2, &#8220;Retrieving trends&#8221; demonstrates how to\n",
    "      ask Twitter for the topics that are currently trending worldwide, but\n",
    "      keep in mind that the API can easily be parameterized to constrain the\n",
    "      topics to more specific locales if you feel inclined to try out some of\n",
    "      the possibilities. The device for constraining queries is via <a class=\"ulink\" href=\"http://yhoo.it/1a1kZ9u\" target=\"\\_top\">Yahoo!\n",
    "      GeoPlanet&#8217;s</a> Where On Earth (WOE) ID system, which is an API unto\n",
    "      itself that aims to provide a way to map a unique identifier to any\n",
    "      named place on Earth (or theoretically, even in a virtual world). If you\n",
    "      haven't already, go ahead and try out the example that collects a set of\n",
    "      trends for both the entire world and just the United States."
   ]
  },
  {
   "cell_type": "markdown",
   "metadata": {},
   "source": [
    "#### Example 1.2. Retrieving trends"
   ]
  },
  {
   "cell_type": "code",
   "execution_count": 25,
   "metadata": {},
   "outputs": [
    {
     "name": "stdout",
     "output_type": "stream",
     "text": [
      "[{'locations': [{'name': 'Worldwide', 'woeid': 1}], 'created_at': '2018-11-21T09:57:46Z', 'as_of': '2018-11-21T10:07:19Z', 'trends': [{'name': '#FelizMiércoles', 'promoted_content': None, 'url': 'http://twitter.com/search?q=%23FelizMi%C3%A9rcoles', 'query': '%23FelizMi%C3%A9rcoles', 'tweet_volume': 12745}, {'name': '#اين_السعاده_تكون', 'promoted_content': None, 'url': 'http://twitter.com/search?q=%23%D8%A7%D9%8A%D9%86_%D8%A7%D9%84%D8%B3%D8%B9%D8%A7%D8%AF%D9%87_%D8%AA%D9%83%D9%88%D9%86', 'query': '%23%D8%A7%D9%8A%D9%86_%D8%A7%D9%84%D8%B3%D8%B9%D8%A7%D8%AF%D9%87_%D8%AA%D9%83%D9%88%D9%86', 'tweet_volume': 56100}, {'name': 'Borrell', 'promoted_content': None, 'url': 'http://twitter.com/search?q=Borrell', 'query': 'Borrell', 'tweet_volume': 16695}, {'name': '#AUSvIND', 'promoted_content': None, 'url': 'http://twitter.com/search?q=%23AUSvIND', 'query': '%23AUSvIND', 'tweet_volume': 17459}, {'name': '#كم_ساعه_تنام_عاده', 'promoted_content': None, 'url': 'http://twitter.com/search?q=%23%D9%83%D9%85_%D8%B3%D8%A7%D8%B9%D9%87_%D8%AA%D9%86%D8%A7%D9%85_%D8%B9%D8%A7%D8%AF%D9%87', 'query': '%23%D9%83%D9%85_%D8%B3%D8%A7%D8%B9%D9%87_%D8%AA%D9%86%D8%A7%D9%85_%D8%B9%D8%A7%D8%AF%D9%87', 'tweet_volume': None}, {'name': '#DíaMundialdelaTelevisión', 'promoted_content': None, 'url': 'http://twitter.com/search?q=%23D%C3%ADaMundialdelaTelevisi%C3%B3n', 'query': '%23D%C3%ADaMundialdelaTelevisi%C3%B3n', 'tweet_volume': None}, {'name': 'NHKバーチャルのど自慢', 'promoted_content': None, 'url': 'http://twitter.com/search?q=NHK%E3%83%90%E3%83%BC%E3%83%81%E3%83%A3%E3%83%AB%E3%81%AE%E3%81%A9%E8%87%AA%E6%85%A2', 'query': 'NHK%E3%83%90%E3%83%BC%E3%83%81%E3%83%A3%E3%83%AB%E3%81%AE%E3%81%A9%E8%87%AA%E6%85%A2', 'tweet_volume': 24570}, {'name': '閃光のハサウェイ', 'promoted_content': None, 'url': 'http://twitter.com/search?q=%E9%96%83%E5%85%89%E3%81%AE%E3%83%8F%E3%82%B5%E3%82%A6%E3%82%A7%E3%82%A4', 'query': '%E9%96%83%E5%85%89%E3%81%AE%E3%83%8F%E3%82%B5%E3%82%A6%E3%82%A7%E3%82%A4', 'tweet_volume': 38090}, {'name': 'Beren Saat', 'promoted_content': None, 'url': 'http://twitter.com/search?q=%22Beren+Saat%22', 'query': '%22Beren+Saat%22', 'tweet_volume': None}, {'name': 'Ernest Lluch', 'promoted_content': None, 'url': 'http://twitter.com/search?q=%22Ernest+Lluch%22', 'query': '%22Ernest+Lluch%22', 'tweet_volume': None}, {'name': 'Reading and Leeds', 'promoted_content': None, 'url': 'http://twitter.com/search?q=%22Reading+and+Leeds%22', 'query': '%22Reading+and+Leeds%22', 'tweet_volume': None}, {'name': 'Go La Salle', 'promoted_content': None, 'url': 'http://twitter.com/search?q=%22Go+La+Salle%22', 'query': '%22Go+La+Salle%22', 'tweet_volume': None}, {'name': 'ガンダム', 'promoted_content': None, 'url': 'http://twitter.com/search?q=%E3%82%AC%E3%83%B3%E3%83%80%E3%83%A0', 'query': '%E3%82%AC%E3%83%B3%E3%83%80%E3%83%A0', 'tweet_volume': 137387}, {'name': 'Iker Muniain', 'promoted_content': None, 'url': 'http://twitter.com/search?q=%22Iker+Muniain%22', 'query': '%22Iker+Muniain%22', 'tweet_volume': None}, {'name': '다마고치', 'promoted_content': None, 'url': 'http://twitter.com/search?q=%EB%8B%A4%EB%A7%88%EA%B3%A0%EC%B9%98', 'query': '%EB%8B%A4%EB%A7%88%EA%B3%A0%EC%B9%98', 'tweet_volume': None}, {'name': 'Numan Kurtulmuş', 'promoted_content': None, 'url': 'http://twitter.com/search?q=%22Numan+Kurtulmu%C5%9F%22', 'query': '%22Numan+Kurtulmu%C5%9F%22', 'tweet_volume': None}, {'name': 'Renae Lawrence', 'promoted_content': None, 'url': 'http://twitter.com/search?q=%22Renae+Lawrence%22', 'query': '%22Renae+Lawrence%22', 'tweet_volume': None}, {'name': \"AK Parti'nin Antalya\", 'promoted_content': None, 'url': 'http://twitter.com/search?q=%22AK+Parti%27nin+Antalya%22', 'query': '%22AK+Parti%27nin+Antalya%22', 'tweet_volume': None}, {'name': \"South Korea's Kim Jong Yang\", 'promoted_content': None, 'url': 'http://twitter.com/search?q=%22South+Korea%27s+Kim+Jong+Yang%22', 'query': '%22South+Korea%27s+Kim+Jong+Yang%22', 'tweet_volume': None}, {'name': '#EidMiladUnNabi', 'promoted_content': None, 'url': 'http://twitter.com/search?q=%23EidMiladUnNabi', 'query': '%23EidMiladUnNabi', 'tweet_volume': 61498}, {'name': '#오프라인_설명서', 'promoted_content': None, 'url': 'http://twitter.com/search?q=%23%EC%98%A4%ED%94%84%EB%9D%BC%EC%9D%B8_%EC%84%A4%EB%AA%85%EC%84%9C', 'query': '%23%EC%98%A4%ED%94%84%EB%9D%BC%EC%9D%B8_%EC%84%A4%EB%AA%85%EC%84%9C', 'tweet_volume': None}, {'name': '#21novembre', 'promoted_content': None, 'url': 'http://twitter.com/search?q=%2321novembre', 'query': '%2321novembre', 'tweet_volume': None}, {'name': '#Çarşamba', 'promoted_content': None, 'url': 'http://twitter.com/search?q=%23%C3%87ar%C5%9Famba', 'query': '%23%C3%87ar%C5%9Famba', 'tweet_volume': 18184}, {'name': '#ArrestKamalnath', 'promoted_content': None, 'url': 'http://twitter.com/search?q=%23ArrestKamalnath', 'query': '%23ArrestKamalnath', 'tweet_volume': None}, {'name': '#BuenMiercoles', 'promoted_content': None, 'url': 'http://twitter.com/search?q=%23BuenMiercoles', 'query': '%23BuenMiercoles', 'tweet_volume': None}, {'name': '#Generaldebatte', 'promoted_content': None, 'url': 'http://twitter.com/search?q=%23Generaldebatte', 'query': '%23Generaldebatte', 'tweet_volume': None}, {'name': '#BreatheFit', 'promoted_content': None, 'url': 'http://twitter.com/search?q=%23BreatheFit', 'query': '%23BreatheFit', 'tweet_volume': None}, {'name': '#OTDirecto21NOV', 'promoted_content': None, 'url': 'http://twitter.com/search?q=%23OTDirecto21NOV', 'query': '%23OTDirecto21NOV', 'tweet_volume': None}, {'name': '#savegempi', 'promoted_content': None, 'url': 'http://twitter.com/search?q=%23savegempi', 'query': '%23savegempi', 'tweet_volume': None}, {'name': '#WednesdayMotivation', 'promoted_content': None, 'url': 'http://twitter.com/search?q=%23WednesdayMotivation', 'query': '%23WednesdayMotivation', 'tweet_volume': None}, {'name': '#صباح_الاربعاء', 'promoted_content': None, 'url': 'http://twitter.com/search?q=%23%D8%B5%D8%A8%D8%A7%D8%AD_%D8%A7%D9%84%D8%A7%D8%B1%D8%A8%D8%B9%D8%A7%D8%A1', 'query': '%23%D8%B5%D8%A8%D8%A7%D8%AD_%D8%A7%D9%84%D8%A7%D8%B1%D8%A8%D8%B9%D8%A7%D8%A1', 'tweet_volume': None}, {'name': '#WorldTelevisionDay', 'promoted_content': None, 'url': 'http://twitter.com/search?q=%23WorldTelevisionDay', 'query': '%23WorldTelevisionDay', 'tweet_volume': None}, {'name': '#SesiónDeControl', 'promoted_content': None, 'url': 'http://twitter.com/search?q=%23Sesi%C3%B3nDeControl', 'query': '%23Sesi%C3%B3nDeControl', 'tweet_volume': None}, {'name': '#युवां_री_बात_शाह_रे_साथ', 'promoted_content': None, 'url': 'http://twitter.com/search?q=%23%E0%A4%AF%E0%A5%81%E0%A4%B5%E0%A4%BE%E0%A4%82_%E0%A4%B0%E0%A5%80_%E0%A4%AC%E0%A4%BE%E0%A4%A4_%E0%A4%B6%E0%A4%BE%E0%A4%B9_%E0%A4%B0%E0%A5%87_%E0%A4%B8%E0%A4%BE%E0%A4%A5', 'query': '%23%E0%A4%AF%E0%A5%81%E0%A4%B5%E0%A4%BE%E0%A4%82_%E0%A4%B0%E0%A5%80_%E0%A4%AC%E0%A4%BE%E0%A4%A4_%E0%A4%B6%E0%A4%BE%E0%A4%B9_%E0%A4%B0%E0%A5%87_%E0%A4%B8%E0%A4%BE%E0%A4%A5', 'tweet_volume': 26685}, {'name': '#congresoAPD', 'promoted_content': None, 'url': 'http://twitter.com/search?q=%23congresoAPD', 'query': '%23congresoAPD', 'tweet_volume': None}, {'name': '#فيروز', 'promoted_content': None, 'url': 'http://twitter.com/search?q=%23%D9%81%D9%8A%D8%B1%D9%88%D8%B2', 'query': '%23%D9%81%D9%8A%D8%B1%D9%88%D8%B2', 'tweet_volume': None}, {'name': '#あなたを褒めるあいうえお', 'promoted_content': None, 'url': 'http://twitter.com/search?q=%23%E3%81%82%E3%81%AA%E3%81%9F%E3%82%92%E8%A4%92%E3%82%81%E3%82%8B%E3%81%82%E3%81%84%E3%81%86%E3%81%88%E3%81%8A', 'query': '%23%E3%81%82%E3%81%AA%E3%81%9F%E3%82%92%E8%A4%92%E3%82%81%E3%82%8B%E3%81%82%E3%81%84%E3%81%86%E3%81%88%E3%81%8A', 'tweet_volume': None}, {'name': '#MAYMAYForAmatoAFW2018', 'promoted_content': None, 'url': 'http://twitter.com/search?q=%23MAYMAYForAmatoAFW2018', 'query': '%23MAYMAYForAmatoAFW2018', 'tweet_volume': 75047}, {'name': '#QuartaDetremuraSDV', 'promoted_content': None, 'url': 'http://twitter.com/search?q=%23QuartaDetremuraSDV', 'query': '%23QuartaDetremuraSDV', 'tweet_volume': 10813}, {'name': '#DrPurshotamLalFake', 'promoted_content': None, 'url': 'http://twitter.com/search?q=%23DrPurshotamLalFake', 'query': '%23DrPurshotamLalFake', 'tweet_volume': None}, {'name': '#AlokNath', 'promoted_content': None, 'url': 'http://twitter.com/search?q=%23AlokNath', 'query': '%23AlokNath', 'tweet_volume': None}, {'name': '#JPostDiplo18', 'promoted_content': None, 'url': 'http://twitter.com/search?q=%23JPostDiplo18', 'query': '%23JPostDiplo18', 'tweet_volume': None}, {'name': '#TekTipAskerliğiReisOnaylar', 'promoted_content': None, 'url': 'http://twitter.com/search?q=%23TekTipAskerli%C4%9FiReisOnaylar', 'query': '%23TekTipAskerli%C4%9FiReisOnaylar', 'tweet_volume': None}, {'name': '#BJPWantsToKillAK', 'promoted_content': None, 'url': 'http://twitter.com/search?q=%23BJPWantsToKillAK', 'query': '%23BJPWantsToKillAK', 'tweet_volume': None}, {'name': '#تصريح_ترامب', 'promoted_content': None, 'url': 'http://twitter.com/search?q=%23%D8%AA%D8%B5%D8%B1%D9%8A%D8%AD_%D8%AA%D8%B1%D8%A7%D9%85%D8%A8', 'query': '%23%D8%AA%D8%B5%D8%B1%D9%8A%D8%AD_%D8%AA%D8%B1%D8%A7%D9%85%D8%A8', 'tweet_volume': 20577}, {'name': '#イーブイの日', 'promoted_content': None, 'url': 'http://twitter.com/search?q=%23%E3%82%A4%E3%83%BC%E3%83%96%E3%82%A4%E3%81%AE%E6%97%A5', 'query': '%23%E3%82%A4%E3%83%BC%E3%83%96%E3%82%A4%E3%81%AE%E6%97%A5', 'tweet_volume': 201255}, {'name': '#eevee', 'promoted_content': None, 'url': 'http://twitter.com/search?q=%23eevee', 'query': '%23eevee', 'tweet_volume': 16204}, {'name': '#Harkannas2018', 'promoted_content': None, 'url': 'http://twitter.com/search?q=%23Harkannas2018', 'query': '%23Harkannas2018', 'tweet_volume': None}, {'name': '#NextGenErtiga', 'promoted_content': None, 'url': 'http://twitter.com/search?q=%23NextGenErtiga', 'query': '%23NextGenErtiga', 'tweet_volume': None}, {'name': '#PlaceSlipDansUneEmissionTele', 'promoted_content': None, 'url': 'http://twitter.com/search?q=%23PlaceSlipDansUneEmissionTele', 'query': '%23PlaceSlipDansUneEmissionTele', 'tweet_volume': None}]}]\n",
      "\n",
      "[{'locations': [{'name': 'Nagpur', 'woeid': 2282863}], 'created_at': '2018-11-21T10:02:47Z', 'as_of': '2018-11-21T10:07:21Z', 'trends': [{'name': '#AUSvIND', 'promoted_content': None, 'url': 'http://twitter.com/search?q=%23AUSvIND', 'query': '%23AUSvIND', 'tweet_volume': 17709}, {'name': '#ArrestKamalnath', 'promoted_content': None, 'url': 'http://twitter.com/search?q=%23ArrestKamalnath', 'query': '%23ArrestKamalnath', 'tweet_volume': None}, {'name': '#BreatheFit', 'promoted_content': None, 'url': 'http://twitter.com/search?q=%23BreatheFit', 'query': '%23BreatheFit', 'tweet_volume': None}, {'name': '#युवां_री_बात_शाह_रे_साथ', 'promoted_content': None, 'url': 'http://twitter.com/search?q=%23%E0%A4%AF%E0%A5%81%E0%A4%B5%E0%A4%BE%E0%A4%82_%E0%A4%B0%E0%A5%80_%E0%A4%AC%E0%A4%BE%E0%A4%A4_%E0%A4%B6%E0%A4%BE%E0%A4%B9_%E0%A4%B0%E0%A5%87_%E0%A4%B8%E0%A4%BE%E0%A4%A5', 'query': '%23%E0%A4%AF%E0%A5%81%E0%A4%B5%E0%A4%BE%E0%A4%82_%E0%A4%B0%E0%A5%80_%E0%A4%AC%E0%A4%BE%E0%A4%A4_%E0%A4%B6%E0%A4%BE%E0%A4%B9_%E0%A4%B0%E0%A5%87_%E0%A4%B8%E0%A4%BE%E0%A4%A5', 'tweet_volume': 27128}, {'name': '#WeekendWithBB12', 'promoted_content': None, 'url': 'http://twitter.com/search?q=%23WeekendWithBB12', 'query': '%23WeekendWithBB12', 'tweet_volume': None}, {'name': 'Andaman', 'promoted_content': None, 'url': 'http://twitter.com/search?q=Andaman', 'query': 'Andaman', 'tweet_volume': None}, {'name': 'Thane to Mumbai', 'promoted_content': None, 'url': 'http://twitter.com/search?q=%22Thane+to+Mumbai%22', 'query': '%22Thane+to+Mumbai%22', 'tweet_volume': None}, {'name': 'K Surendran', 'promoted_content': None, 'url': 'http://twitter.com/search?q=%22K+Surendran%22', 'query': '%22K+Surendran%22', 'tweet_volume': None}, {'name': 'Live Scorecard', 'promoted_content': None, 'url': 'http://twitter.com/search?q=%22Live+Scorecard%22', 'query': '%22Live+Scorecard%22', 'tweet_volume': None}, {'name': 'The American', 'promoted_content': None, 'url': 'http://twitter.com/search?q=%22The+American%22', 'query': '%22The+American%22', 'tweet_volume': 71803}, {'name': 'Khadi', 'promoted_content': None, 'url': 'http://twitter.com/search?q=Khadi', 'query': 'Khadi', 'tweet_volume': None}, {'name': 'Hisar', 'promoted_content': None, 'url': 'http://twitter.com/search?q=Hisar', 'query': 'Hisar', 'tweet_volume': None}, {'name': 'Hyde Park', 'promoted_content': None, 'url': 'http://twitter.com/search?q=%22Hyde+Park%22', 'query': '%22Hyde+Park%22', 'tweet_volume': None}, {'name': 'Wasim Jaffer', 'promoted_content': None, 'url': 'http://twitter.com/search?q=%22Wasim+Jaffer%22', 'query': '%22Wasim+Jaffer%22', 'tweet_volume': None}, {'name': 'Magnum Opus', 'promoted_content': None, 'url': 'http://twitter.com/search?q=%22Magnum+Opus%22', 'query': '%22Magnum+Opus%22', 'tweet_volume': None}, {'name': 'Qatar', 'promoted_content': None, 'url': 'http://twitter.com/search?q=Qatar', 'query': 'Qatar', 'tweet_volume': 21027}, {'name': '#HumChaarCastReveal', 'promoted_content': None, 'url': 'http://twitter.com/search?q=%23HumChaarCastReveal', 'query': '%23HumChaarCastReveal', 'tweet_volume': None}, {'name': '#EidMiladUnNabi', 'promoted_content': None, 'url': 'http://twitter.com/search?q=%23EidMiladUnNabi', 'query': '%23EidMiladUnNabi', 'tweet_volume': 61714}, {'name': '#drpurshotamlalfake', 'promoted_content': None, 'url': 'http://twitter.com/search?q=%23drpurshotamlalfake', 'query': '%23drpurshotamlalfake', 'tweet_volume': None}, {'name': '#BJPWantsToKillAK', 'promoted_content': None, 'url': 'http://twitter.com/search?q=%23BJPWantsToKillAK', 'query': '%23BJPWantsToKillAK', 'tweet_volume': None}, {'name': '#AlokNath', 'promoted_content': None, 'url': 'http://twitter.com/search?q=%23AlokNath', 'query': '%23AlokNath', 'tweet_volume': None}, {'name': '#Gorilla', 'promoted_content': None, 'url': 'http://twitter.com/search?q=%23Gorilla', 'query': '%23Gorilla', 'tweet_volume': None}, {'name': '#SeethakaathiTrailer', 'promoted_content': None, 'url': 'http://twitter.com/search?q=%23SeethakaathiTrailer', 'query': '%23SeethakaathiTrailer', 'tweet_volume': 10473}, {'name': '#NextGenErtiga', 'promoted_content': None, 'url': 'http://twitter.com/search?q=%23NextGenErtiga', 'query': '%23NextGenErtiga', 'tweet_volume': None}, {'name': '#WednesdayWisdom', 'promoted_content': None, 'url': 'http://twitter.com/search?q=%23WednesdayWisdom', 'query': '%23WednesdayWisdom', 'tweet_volume': 27600}, {'name': '#MPWelcomesDrSingh', 'promoted_content': None, 'url': 'http://twitter.com/search?q=%23MPWelcomesDrSingh', 'query': '%23MPWelcomesDrSingh', 'tweet_volume': None}, {'name': '#WorldTelevisionDay', 'promoted_content': None, 'url': 'http://twitter.com/search?q=%23WorldTelevisionDay', 'query': '%23WorldTelevisionDay', 'tweet_volume': None}, {'name': '#Kalank', 'promoted_content': None, 'url': 'http://twitter.com/search?q=%23Kalank', 'query': '%23Kalank', 'tweet_volume': None}, {'name': '#CongMuslimVideo', 'promoted_content': None, 'url': 'http://twitter.com/search?q=%23CongMuslimVideo', 'query': '%23CongMuslimVideo', 'tweet_volume': None}, {'name': '#CVRaman', 'promoted_content': None, 'url': 'http://twitter.com/search?q=%23CVRaman', 'query': '%23CVRaman', 'tweet_volume': None}, {'name': '#AdangamaruForXmas', 'promoted_content': None, 'url': 'http://twitter.com/search?q=%23AdangamaruForXmas', 'query': '%23AdangamaruForXmas', 'tweet_volume': None}, {'name': '#WorldHelloDay', 'promoted_content': None, 'url': 'http://twitter.com/search?q=%23WorldHelloDay', 'query': '%23WorldHelloDay', 'tweet_volume': None}, {'name': '#Duraimurugan', 'promoted_content': None, 'url': 'http://twitter.com/search?q=%23Duraimurugan', 'query': '%23Duraimurugan', 'tweet_volume': None}, {'name': '#PonRadhakrishnan', 'promoted_content': None, 'url': 'http://twitter.com/search?q=%23PonRadhakrishnan', 'query': '%23PonRadhakrishnan', 'tweet_volume': None}, {'name': '#1MonthToZero', 'promoted_content': None, 'url': 'http://twitter.com/search?q=%231MonthToZero', 'query': '%231MonthToZero', 'tweet_volume': None}, {'name': '#SarvamThaalaMayam', 'promoted_content': None, 'url': 'http://twitter.com/search?q=%23SarvamThaalaMayam', 'query': '%23SarvamThaalaMayam', 'tweet_volume': None}, {'name': '#HappyBirthdayHelen', 'promoted_content': None, 'url': 'http://twitter.com/search?q=%23HappyBirthdayHelen', 'query': '%23HappyBirthdayHelen', 'tweet_volume': None}, {'name': '#Sharwanand', 'promoted_content': None, 'url': 'http://twitter.com/search?q=%23Sharwanand', 'query': '%23Sharwanand', 'tweet_volume': None}, {'name': '#JustinTheroux', 'promoted_content': None, 'url': 'http://twitter.com/search?q=%23JustinTheroux', 'query': '%23JustinTheroux', 'tweet_volume': None}, {'name': '#Vijayakanth', 'promoted_content': None, 'url': 'http://twitter.com/search?q=%23Vijayakanth', 'query': '%23Vijayakanth', 'tweet_volume': None}, {'name': '#Infosys', 'promoted_content': None, 'url': 'http://twitter.com/search?q=%23Infosys', 'query': '%23Infosys', 'tweet_volume': None}, {'name': '#CDOS18', 'promoted_content': None, 'url': 'http://twitter.com/search?q=%23CDOS18', 'query': '%23CDOS18', 'tweet_volume': None}]}]\n"
     ]
    }
   ],
   "source": [
    "# The Yahoo! Where On Earth ID for the entire world is 1.\n",
    "# See https://dev.twitter.com/docs/api/1.1/get/trends/place and\n",
    "# http://developer.yahoo.com/geo/geoplanet/\n",
    "\n",
    "WORLD_WOE_ID = 1\n",
    "US_WOE_ID = 23424977\n",
    "India_WOE_ID = 2282863\n",
    "\n",
    "# Prefix ID with the underscore for query string parameterization.\n",
    "# Without the underscore, the twitter package appends the ID value\n",
    "# to the URL itself as a special case keyword argument.\n",
    "\n",
    "world_trends = twitter_api.trends.place(_id=WORLD_WOE_ID)\n",
    "in_trends = twitter_api.trends.place(_id=India_WOE_ID)\n",
    "\n",
    "print(world_trends)\n",
    "print()\n",
    "print(in_trends)"
   ]
  },
  {
   "cell_type": "markdown",
   "metadata": {},
   "source": [
    "You should see a semireadable response that is a list of Python\n",
    "      dictionaries from the API (as opposed to any kind of error message),\n",
    "      such as the following truncated results, before proceeding further. (In\n",
    "      just a moment, we'll reformat the response to be more easily\n",
    "      readable.)"
   ]
  },
  {
   "cell_type": "markdown",
   "metadata": {},
   "source": [
    "<code>[{u'created\\_at': u'2013-03-27T11:50:40Z', u'trends': [{u'url': u'http://twitter.com/search?q=%23MentionSomeoneImportantForYou'...</code>"
   ]
  },
  {
   "cell_type": "markdown",
   "metadata": {},
   "source": [
    "Notice that the sample result contains a URL for a trend\n",
    "      represented as a search query that corresponds to the hashtag\n",
    "      \\#MentionSomeoneImportantForYou, where %23 is the URL encoding for the\n",
    "      hashtag symbol. We'll use this rather benign hashtag throughout the\n",
    "      remainder of the chapter as a unifying theme for examples that follow.\n",
    "      Although a sample data file containing tweets for this hashtag is\n",
    "      available with the book's source code, you'll have much more fun\n",
    "      exploring a topic that's trending at the time you read this as opposed\n",
    "      to following along with a canned topic that is no longer\n",
    "      trending."
   ]
  },
  {
   "cell_type": "markdown",
   "metadata": {},
   "source": [
    "The pattern for using the <code class=\"code\">twitter</code> module is simple\n",
    "      and predictable: instantiate the <code class=\"code\">Twitter</code> class with an object\n",
    "      chain corresponding to a base URL and then invoke methods on the object\n",
    "      that correspond to URL contexts. For example,\n",
    "      <code class=\"code\">twitter\\_api.</code>\\_<code class=\"code\">trends.place(WORLD\\_WOE\\_ID)</code> initiates an HTTP\n",
    "      call to GET\n",
    "      <span class=\"emphasis\"><em>https://api.twitter.com/1.1/trends/place.json?id=1</em></span>.\n",
    "      Note the URL mapping to the object chain that's constructed with the\n",
    "      <code class=\"literal\">twitter</code> package to make the request\n",
    "      and how query string parameters are passed in as keyword arguments. To\n",
    "      use the <code class=\"literal\">twitter</code> package for arbitrary\n",
    "      API requests, you generally construct the request in that kind of\n",
    "      straightforward manner, with just a couple of minor caveats that we'll\n",
    "      encounter soon enough."
   ]
  },
  {
   "cell_type": "markdown",
   "metadata": {},
   "source": [
    "Twitter imposes <span class=\"emphasis\"><em>rate limits</em></span> on how many requests an application can make to any given API\n",
    "      resource within a given time window. Twitter's <a class=\"ulink\" href=\"http://bit.ly/1a1l257\" target=\"\\_top\">rate limits</a> are well documented, and\n",
    "      each individual API resource also states its particular limits for your\n",
    "      convenience. For example, the API request that we just issued for trends\n",
    "      limits applications to 15 requests per 15-minute window (see Figure&#160;1.3, &#8220;Rate limits for Twitter API resources are identified in the\n",
    "        online documentation for each API call; the particular API resource\n",
    "        shown here allows 15 requests per \"rate limit window,\" which is\n",
    "        currently defined as 15 minutes&#8221;). For more nuanced information on\n",
    "      how Twitter's rate limits work, see <a class=\"ulink\" href=\"http://bit.ly/1a1l2ly\" target=\"\\_top\">REST API Rate\n",
    "      Limiting in v1.1</a>. For the purposes of following along in this\n",
    "      chapter, it's highly unlikely that you'll get rate\n",
    "      limited. &#8220;Making Robust Twitter Requests&#8221; (Example&#160;9.16, &#8220;Making robust Twitter requests&#8221;) will introduce some\n",
    "      techniques demonstrating best practices while working with rate\n",
    "      limits."
   ]
  },
  {
   "cell_type": "markdown",
   "metadata": {},
   "source": [
    "<div class=\"figure-title\">Figure&#160;1.3.&#160;Rate limits for Twitter API resources are identified in the\n",
    "        online documentation for each API call; the particular API resource\n",
    "        shown here allows 15 requests per \"rate limit window,\" which is\n",
    "        currently defined as 15 minutes</div>\n",
    "            <div class=\"figure-contents\">\n",
    "              <div class=\"mediaobject\">\n",
    "                <img alt=\"Rate limits for Twitter API resources are identified in the online documentation for each API call; the particular API resource shown here allows 15 requests per &quot;rate limit window,&quot; which is currently defined as 15 minutes\" src=\"files/resources/sampler-images/images/mswb_0103.png\" />\n",
    "              </div>\n",
    "            </div>"
   ]
  },
  {
   "cell_type": "markdown",
   "metadata": {},
   "source": [
    "<blockquote><div><strong>Note:</strong></div><p>The developer documentation states that the results of a Trends\n",
    "        API query are updated only once every five minutes, so it's not a\n",
    "        judicious use of your efforts or API requests to ask for results more\n",
    "        often than that.</p></blockquote>"
   ]
  },
  {
   "cell_type": "markdown",
   "metadata": {},
   "source": [
    "Although it hasn't explicitly been stated yet, the semireadable\n",
    "      output from Example&#160;1.2, &#8220;Retrieving trends&#8221; is printed out as\n",
    "      native Python data structures. While an IPython interpreter will \"pretty\n",
    "      print\" the output for you automatically, IPython Notebook and a standard\n",
    "      Python interpreter will not. If you find yourself in these\n",
    "      circumstances, you may find it handy to use the built-in <code class=\"literal\">json</code>\n",
    "      package to force a nicer display, as illustrated in Example&#160;1.3, &#8220;Displaying API responses as pretty-printed JSON&#8221;."
   ]
  },
  {
   "cell_type": "markdown",
   "metadata": {},
   "source": [
    "<blockquote><div><strong>Note:</strong></div><p><a class=\"ulink\" href=\"http://bit.ly/1a1l2lJ\" target=\"\\_top\">JSON</a> is a data\n",
    "        exchange format that you will encounter on a regular\n",
    "        basis. In a nutshell, JSON provides a way to arbitrarily store maps,\n",
    "        lists, primitives such as numbers and strings, and combinations\n",
    "        thereof. In other words, you can theoretically model just about\n",
    "        anything with JSON should you desire to do so.</p></blockquote>"
   ]
  },
  {
   "cell_type": "markdown",
   "metadata": {},
   "source": [
    "#### Example 1.3. Displaying API responses as pretty-printed JSON"
   ]
  },
  {
   "cell_type": "code",
   "execution_count": 26,
   "metadata": {},
   "outputs": [
    {
     "name": "stdout",
     "output_type": "stream",
     "text": [
      "\n",
      "[\n",
      " {\n",
      "  \"locations\": [\n",
      "   {\n",
      "    \"name\": \"Nagpur\",\n",
      "    \"woeid\": 2282863\n",
      "   }\n",
      "  ],\n",
      "  \"created_at\": \"2018-11-21T10:02:47Z\",\n",
      "  \"as_of\": \"2018-11-21T10:07:21Z\",\n",
      "  \"trends\": [\n",
      "   {\n",
      "    \"name\": \"#AUSvIND\",\n",
      "    \"promoted_content\": null,\n",
      "    \"url\": \"http://twitter.com/search?q=%23AUSvIND\",\n",
      "    \"query\": \"%23AUSvIND\",\n",
      "    \"tweet_volume\": 17709\n",
      "   },\n",
      "   {\n",
      "    \"name\": \"#ArrestKamalnath\",\n",
      "    \"promoted_content\": null,\n",
      "    \"url\": \"http://twitter.com/search?q=%23ArrestKamalnath\",\n",
      "    \"query\": \"%23ArrestKamalnath\",\n",
      "    \"tweet_volume\": null\n",
      "   },\n",
      "   {\n",
      "    \"name\": \"#BreatheFit\",\n",
      "    \"promoted_content\": null,\n",
      "    \"url\": \"http://twitter.com/search?q=%23BreatheFit\",\n",
      "    \"query\": \"%23BreatheFit\",\n",
      "    \"tweet_volume\": null\n",
      "   },\n",
      "   {\n",
      "    \"name\": \"#\\u092f\\u0941\\u0935\\u093e\\u0902_\\u0930\\u0940_\\u092c\\u093e\\u0924_\\u0936\\u093e\\u0939_\\u0930\\u0947_\\u0938\\u093e\\u0925\",\n",
      "    \"promoted_content\": null,\n",
      "    \"url\": \"http://twitter.com/search?q=%23%E0%A4%AF%E0%A5%81%E0%A4%B5%E0%A4%BE%E0%A4%82_%E0%A4%B0%E0%A5%80_%E0%A4%AC%E0%A4%BE%E0%A4%A4_%E0%A4%B6%E0%A4%BE%E0%A4%B9_%E0%A4%B0%E0%A5%87_%E0%A4%B8%E0%A4%BE%E0%A4%A5\",\n",
      "    \"query\": \"%23%E0%A4%AF%E0%A5%81%E0%A4%B5%E0%A4%BE%E0%A4%82_%E0%A4%B0%E0%A5%80_%E0%A4%AC%E0%A4%BE%E0%A4%A4_%E0%A4%B6%E0%A4%BE%E0%A4%B9_%E0%A4%B0%E0%A5%87_%E0%A4%B8%E0%A4%BE%E0%A4%A5\",\n",
      "    \"tweet_volume\": 27128\n",
      "   },\n",
      "   {\n",
      "    \"name\": \"#WeekendWithBB12\",\n",
      "    \"promoted_content\": null,\n",
      "    \"url\": \"http://twitter.com/search?q=%23WeekendWithBB12\",\n",
      "    \"query\": \"%23WeekendWithBB12\",\n",
      "    \"tweet_volume\": null\n",
      "   },\n",
      "   {\n",
      "    \"name\": \"Andaman\",\n",
      "    \"promoted_content\": null,\n",
      "    \"url\": \"http://twitter.com/search?q=Andaman\",\n",
      "    \"query\": \"Andaman\",\n",
      "    \"tweet_volume\": null\n",
      "   },\n",
      "   {\n",
      "    \"name\": \"Thane to Mumbai\",\n",
      "    \"promoted_content\": null,\n",
      "    \"url\": \"http://twitter.com/search?q=%22Thane+to+Mumbai%22\",\n",
      "    \"query\": \"%22Thane+to+Mumbai%22\",\n",
      "    \"tweet_volume\": null\n",
      "   },\n",
      "   {\n",
      "    \"name\": \"K Surendran\",\n",
      "    \"promoted_content\": null,\n",
      "    \"url\": \"http://twitter.com/search?q=%22K+Surendran%22\",\n",
      "    \"query\": \"%22K+Surendran%22\",\n",
      "    \"tweet_volume\": null\n",
      "   },\n",
      "   {\n",
      "    \"name\": \"Live Scorecard\",\n",
      "    \"promoted_content\": null,\n",
      "    \"url\": \"http://twitter.com/search?q=%22Live+Scorecard%22\",\n",
      "    \"query\": \"%22Live+Scorecard%22\",\n",
      "    \"tweet_volume\": null\n",
      "   },\n",
      "   {\n",
      "    \"name\": \"The American\",\n",
      "    \"promoted_content\": null,\n",
      "    \"url\": \"http://twitter.com/search?q=%22The+American%22\",\n",
      "    \"query\": \"%22The+American%22\",\n",
      "    \"tweet_volume\": 71803\n",
      "   },\n",
      "   {\n",
      "    \"name\": \"Khadi\",\n",
      "    \"promoted_content\": null,\n",
      "    \"url\": \"http://twitter.com/search?q=Khadi\",\n",
      "    \"query\": \"Khadi\",\n",
      "    \"tweet_volume\": null\n",
      "   },\n",
      "   {\n",
      "    \"name\": \"Hisar\",\n",
      "    \"promoted_content\": null,\n",
      "    \"url\": \"http://twitter.com/search?q=Hisar\",\n",
      "    \"query\": \"Hisar\",\n",
      "    \"tweet_volume\": null\n",
      "   },\n",
      "   {\n",
      "    \"name\": \"Hyde Park\",\n",
      "    \"promoted_content\": null,\n",
      "    \"url\": \"http://twitter.com/search?q=%22Hyde+Park%22\",\n",
      "    \"query\": \"%22Hyde+Park%22\",\n",
      "    \"tweet_volume\": null\n",
      "   },\n",
      "   {\n",
      "    \"name\": \"Wasim Jaffer\",\n",
      "    \"promoted_content\": null,\n",
      "    \"url\": \"http://twitter.com/search?q=%22Wasim+Jaffer%22\",\n",
      "    \"query\": \"%22Wasim+Jaffer%22\",\n",
      "    \"tweet_volume\": null\n",
      "   },\n",
      "   {\n",
      "    \"name\": \"Magnum Opus\",\n",
      "    \"promoted_content\": null,\n",
      "    \"url\": \"http://twitter.com/search?q=%22Magnum+Opus%22\",\n",
      "    \"query\": \"%22Magnum+Opus%22\",\n",
      "    \"tweet_volume\": null\n",
      "   },\n",
      "   {\n",
      "    \"name\": \"Qatar\",\n",
      "    \"promoted_content\": null,\n",
      "    \"url\": \"http://twitter.com/search?q=Qatar\",\n",
      "    \"query\": \"Qatar\",\n",
      "    \"tweet_volume\": 21027\n",
      "   },\n",
      "   {\n",
      "    \"name\": \"#HumChaarCastReveal\",\n",
      "    \"promoted_content\": null,\n",
      "    \"url\": \"http://twitter.com/search?q=%23HumChaarCastReveal\",\n",
      "    \"query\": \"%23HumChaarCastReveal\",\n",
      "    \"tweet_volume\": null\n",
      "   },\n",
      "   {\n",
      "    \"name\": \"#EidMiladUnNabi\",\n",
      "    \"promoted_content\": null,\n",
      "    \"url\": \"http://twitter.com/search?q=%23EidMiladUnNabi\",\n",
      "    \"query\": \"%23EidMiladUnNabi\",\n",
      "    \"tweet_volume\": 61714\n",
      "   },\n",
      "   {\n",
      "    \"name\": \"#drpurshotamlalfake\",\n",
      "    \"promoted_content\": null,\n",
      "    \"url\": \"http://twitter.com/search?q=%23drpurshotamlalfake\",\n",
      "    \"query\": \"%23drpurshotamlalfake\",\n",
      "    \"tweet_volume\": null\n",
      "   },\n",
      "   {\n",
      "    \"name\": \"#BJPWantsToKillAK\",\n",
      "    \"promoted_content\": null,\n",
      "    \"url\": \"http://twitter.com/search?q=%23BJPWantsToKillAK\",\n",
      "    \"query\": \"%23BJPWantsToKillAK\",\n",
      "    \"tweet_volume\": null\n",
      "   },\n",
      "   {\n",
      "    \"name\": \"#AlokNath\",\n",
      "    \"promoted_content\": null,\n",
      "    \"url\": \"http://twitter.com/search?q=%23AlokNath\",\n",
      "    \"query\": \"%23AlokNath\",\n",
      "    \"tweet_volume\": null\n",
      "   },\n",
      "   {\n",
      "    \"name\": \"#Gorilla\",\n",
      "    \"promoted_content\": null,\n",
      "    \"url\": \"http://twitter.com/search?q=%23Gorilla\",\n",
      "    \"query\": \"%23Gorilla\",\n",
      "    \"tweet_volume\": null\n",
      "   },\n",
      "   {\n",
      "    \"name\": \"#SeethakaathiTrailer\",\n",
      "    \"promoted_content\": null,\n",
      "    \"url\": \"http://twitter.com/search?q=%23SeethakaathiTrailer\",\n",
      "    \"query\": \"%23SeethakaathiTrailer\",\n",
      "    \"tweet_volume\": 10473\n",
      "   },\n",
      "   {\n",
      "    \"name\": \"#NextGenErtiga\",\n",
      "    \"promoted_content\": null,\n",
      "    \"url\": \"http://twitter.com/search?q=%23NextGenErtiga\",\n",
      "    \"query\": \"%23NextGenErtiga\",\n",
      "    \"tweet_volume\": null\n",
      "   },\n",
      "   {\n",
      "    \"name\": \"#WednesdayWisdom\",\n",
      "    \"promoted_content\": null,\n",
      "    \"url\": \"http://twitter.com/search?q=%23WednesdayWisdom\",\n",
      "    \"query\": \"%23WednesdayWisdom\",\n",
      "    \"tweet_volume\": 27600\n",
      "   },\n",
      "   {\n",
      "    \"name\": \"#MPWelcomesDrSingh\",\n",
      "    \"promoted_content\": null,\n",
      "    \"url\": \"http://twitter.com/search?q=%23MPWelcomesDrSingh\",\n",
      "    \"query\": \"%23MPWelcomesDrSingh\",\n",
      "    \"tweet_volume\": null\n",
      "   },\n",
      "   {\n",
      "    \"name\": \"#WorldTelevisionDay\",\n",
      "    \"promoted_content\": null,\n",
      "    \"url\": \"http://twitter.com/search?q=%23WorldTelevisionDay\",\n",
      "    \"query\": \"%23WorldTelevisionDay\",\n",
      "    \"tweet_volume\": null\n",
      "   },\n",
      "   {\n",
      "    \"name\": \"#Kalank\",\n",
      "    \"promoted_content\": null,\n",
      "    \"url\": \"http://twitter.com/search?q=%23Kalank\",\n",
      "    \"query\": \"%23Kalank\",\n",
      "    \"tweet_volume\": null\n",
      "   },\n",
      "   {\n",
      "    \"name\": \"#CongMuslimVideo\",\n",
      "    \"promoted_content\": null,\n",
      "    \"url\": \"http://twitter.com/search?q=%23CongMuslimVideo\",\n",
      "    \"query\": \"%23CongMuslimVideo\",\n",
      "    \"tweet_volume\": null\n",
      "   },\n",
      "   {\n",
      "    \"name\": \"#CVRaman\",\n",
      "    \"promoted_content\": null,\n",
      "    \"url\": \"http://twitter.com/search?q=%23CVRaman\",\n",
      "    \"query\": \"%23CVRaman\",\n",
      "    \"tweet_volume\": null\n",
      "   },\n",
      "   {\n",
      "    \"name\": \"#AdangamaruForXmas\",\n",
      "    \"promoted_content\": null,\n",
      "    \"url\": \"http://twitter.com/search?q=%23AdangamaruForXmas\",\n",
      "    \"query\": \"%23AdangamaruForXmas\",\n",
      "    \"tweet_volume\": null\n",
      "   },\n",
      "   {\n",
      "    \"name\": \"#WorldHelloDay\",\n",
      "    \"promoted_content\": null,\n",
      "    \"url\": \"http://twitter.com/search?q=%23WorldHelloDay\",\n",
      "    \"query\": \"%23WorldHelloDay\",\n",
      "    \"tweet_volume\": null\n",
      "   },\n",
      "   {\n",
      "    \"name\": \"#Duraimurugan\",\n",
      "    \"promoted_content\": null,\n",
      "    \"url\": \"http://twitter.com/search?q=%23Duraimurugan\",\n",
      "    \"query\": \"%23Duraimurugan\",\n",
      "    \"tweet_volume\": null\n",
      "   },\n",
      "   {\n",
      "    \"name\": \"#PonRadhakrishnan\",\n",
      "    \"promoted_content\": null,\n",
      "    \"url\": \"http://twitter.com/search?q=%23PonRadhakrishnan\",\n",
      "    \"query\": \"%23PonRadhakrishnan\",\n",
      "    \"tweet_volume\": null\n",
      "   },\n",
      "   {\n",
      "    \"name\": \"#1MonthToZero\",\n",
      "    \"promoted_content\": null,\n",
      "    \"url\": \"http://twitter.com/search?q=%231MonthToZero\",\n",
      "    \"query\": \"%231MonthToZero\",\n",
      "    \"tweet_volume\": null\n",
      "   },\n",
      "   {\n",
      "    \"name\": \"#SarvamThaalaMayam\",\n",
      "    \"promoted_content\": null,\n",
      "    \"url\": \"http://twitter.com/search?q=%23SarvamThaalaMayam\",\n",
      "    \"query\": \"%23SarvamThaalaMayam\",\n",
      "    \"tweet_volume\": null\n",
      "   },\n",
      "   {\n",
      "    \"name\": \"#HappyBirthdayHelen\",\n",
      "    \"promoted_content\": null,\n",
      "    \"url\": \"http://twitter.com/search?q=%23HappyBirthdayHelen\",\n",
      "    \"query\": \"%23HappyBirthdayHelen\",\n",
      "    \"tweet_volume\": null\n",
      "   },\n",
      "   {\n",
      "    \"name\": \"#Sharwanand\",\n",
      "    \"promoted_content\": null,\n",
      "    \"url\": \"http://twitter.com/search?q=%23Sharwanand\",\n",
      "    \"query\": \"%23Sharwanand\",\n",
      "    \"tweet_volume\": null\n",
      "   },\n",
      "   {\n",
      "    \"name\": \"#JustinTheroux\",\n",
      "    \"promoted_content\": null,\n",
      "    \"url\": \"http://twitter.com/search?q=%23JustinTheroux\",\n",
      "    \"query\": \"%23JustinTheroux\",\n",
      "    \"tweet_volume\": null\n",
      "   },\n",
      "   {\n",
      "    \"name\": \"#Vijayakanth\",\n",
      "    \"promoted_content\": null,\n",
      "    \"url\": \"http://twitter.com/search?q=%23Vijayakanth\",\n",
      "    \"query\": \"%23Vijayakanth\",\n",
      "    \"tweet_volume\": null\n",
      "   },\n",
      "   {\n",
      "    \"name\": \"#Infosys\",\n",
      "    \"promoted_content\": null,\n",
      "    \"url\": \"http://twitter.com/search?q=%23Infosys\",\n",
      "    \"query\": \"%23Infosys\",\n",
      "    \"tweet_volume\": null\n",
      "   },\n",
      "   {\n",
      "    \"name\": \"#CDOS18\",\n",
      "    \"promoted_content\": null,\n",
      "    \"url\": \"http://twitter.com/search?q=%23CDOS18\",\n",
      "    \"query\": \"%23CDOS18\",\n",
      "    \"tweet_volume\": null\n",
      "   }\n",
      "  ]\n",
      " }\n",
      "]\n"
     ]
    }
   ],
   "source": [
    "import json\n",
    "\n",
    "# print(json.dumps(world_trends, indent=1))\n",
    "print()\n",
    "print(json.dumps(in_trends, indent=1))"
   ]
  },
  {
   "cell_type": "markdown",
   "metadata": {},
   "source": [
    "An abbreviated sample response from the Trends API produced with\n",
    "      <code class=\"literal\">json.dumps</code> would look like the\n",
    "      following:"
   ]
  },
  {
   "cell_type": "markdown",
   "metadata": {},
   "source": [
    "<pre>[\n",
    " {\n",
    "  \"created\\_at\": \"2013-03-27T11:50:40Z\", \n",
    "  \"trends\": [\n",
    "   {\n",
    "    \"url\": \"http://twitter.com/search?q=%23MentionSomeoneImportantForYou\", \n",
    "    \"query\": \"%23MentionSomeoneImportantForYou\", \n",
    "    \"name\": \"\\#MentionSomeoneImportantForYou\", \n",
    "    \"promoted\\_content\": null, \n",
    "    \"events\": null\n",
    "   },\n",
    "   ...\n",
    "  ]\n",
    " }\n",
    "]</pre>"
   ]
  },
  {
   "cell_type": "markdown",
   "metadata": {},
   "source": [
    "Although it's easy enough to skim the two sets of trends and look\n",
    "      for commonality, let's use Python's <a class=\"ulink\" href=\"http://bit.ly/1a1l2Sw\" target=\"\\_top\"><code class=\"literal\">set</code></a> data\n",
    "      structure to automatically compute this for us, because that's exactly\n",
    "      the kind of thing that sets lend themselves to doing. In this instance,\n",
    "      a <span class=\"emphasis\"><em>set</em></span> refers to the mathematical notion of a data\n",
    "      structure that stores an unordered collection of unique items and can be\n",
    "      computed upon with other sets of items and setwise operations. For\n",
    "      example, a setwise intersection computes common items between sets, a\n",
    "      setwise union combines all of the items from sets, and the setwise\n",
    "      difference among sets acts sort of like a subtraction operation in which\n",
    "      items from one set are removed from another."
   ]
  },
  {
   "cell_type": "markdown",
   "metadata": {},
   "source": [
    "Example&#160;1.4, &#8220;Computing the intersection of two sets of trends&#8221; demonstrates how to use a\n",
    "      Python <a class=\"ulink\" href=\"http://bit.ly/1a1l1hy\" target=\"\\_top\">list\n",
    "      comprehension</a> to parse out the names of the trending topics from\n",
    "      the results that were previously queried, cast those lists to sets, and\n",
    "      compute the setwise intersection to reveal the common items between\n",
    "      them. Keep in mind that there may or may not be significant overlap\n",
    "      between any given sets of trends, all depending on what's actually\n",
    "      happening when you query for the trends. In other words, the results of\n",
    "      your analysis will be entirely dependent upon your query and the data\n",
    "      that is returned from it."
   ]
  },
  {
   "cell_type": "markdown",
   "metadata": {},
   "source": [
    "<blockquote><div><strong>Note:</strong></div><p>Recall that Appendix&#160;C, <em>Python and IPython Notebook Tips &amp; Tricks</em> provides a reference for\n",
    "        some common Python idioms like list comprehensions that you may find\n",
    "        useful to review.</p></blockquote>"
   ]
  },
  {
   "cell_type": "markdown",
   "metadata": {},
   "source": [
    "#### Example 1.4. Computing the intersection of two sets of trends"
   ]
  },
  {
   "cell_type": "code",
   "execution_count": 27,
   "metadata": {},
   "outputs": [
    {
     "name": "stdout",
     "output_type": "stream",
     "text": [
      "{'#WorldTelevisionDay', '#BreatheFit', '#EidMiladUnNabi', '#AUSvIND', '#युवां_री_बात_शाह_रे_साथ', '#ArrestKamalnath', '#BJPWantsToKillAK', '#AlokNath', '#NextGenErtiga'}\n",
      "{'Andaman', '#AUSvIND', 'Magnum Opus', '#CDOS18', '#Kalank', '#WeekendWithBB12', '#HumChaarCastReveal', '#ArrestKamalnath', '#Gorilla', 'Thane to Mumbai', '#WorldTelevisionDay', '#CongMuslimVideo', '#SarvamThaalaMayam', 'Hisar', '#SeethakaathiTrailer', 'Qatar', 'K Surendran', 'Live Scorecard', '#AdangamaruForXmas', '#BJPWantsToKillAK', '#JustinTheroux', 'Hyde Park', '#BreatheFit', '#WorldHelloDay', 'Khadi', '#WednesdayWisdom', '#HappyBirthdayHelen', '#Infosys', '#drpurshotamlalfake', '#युवां_री_बात_शाह_रे_साथ', '#CVRaman', '#AlokNath', '#NextGenErtiga', '#EidMiladUnNabi', 'The American', '#Vijayakanth', '#MPWelcomesDrSingh', '#PonRadhakrishnan', '#Duraimurugan', 'Wasim Jaffer', '#1MonthToZero', '#Sharwanand'}\n"
     ]
    }
   ],
   "source": [
    "world_trends_set = set([trend['name'] \n",
    "                        for trend in world_trends[0]['trends']])\n",
    "\n",
    "in_trends_set = set([trend['name'] \n",
    "                     for trend in in_trends[0]['trends']]) \n",
    "\n",
    "common_trends = world_trends_set.intersection(in_trends_set)\n",
    "\n",
    "print(common_trends)\n",
    "print(in_trends_set)"
   ]
  },
  {
   "cell_type": "markdown",
   "metadata": {},
   "source": [
    "<blockquote><div><strong>Note:</strong></div><p>You should complete Example&#160;1.4, &#8220;Computing the intersection of two sets of trends&#8221;\n",
    "        before moving on in this chapter to ensure that you are able to access\n",
    "        and analyze Twitter data. Can you explain what, if any, correlation\n",
    "        exists between trends in your country and the rest of the\n",
    "        world?</p></blockquote>"
   ]
  },
  {
   "cell_type": "markdown",
   "metadata": {},
   "source": [
    "<blockquote><div><strong>Sidebar Discussion:</strong></div><div class=\"titlepage\">\n",
    "              <div>\n",
    "                <div>\n",
    "                  <div class=\"sidebar-title\">Set Theory, Intuition, and Countable Infinity</div>\n",
    "                </div>\n",
    "              </div>\n",
    "            </div>\n",
    "            <p>Computing setwise operations may seem a rather primitive form of\n",
    "        analysis, but the ramifications of set theory for general mathematics\n",
    "        are considerably more profound since it provides the foundation for\n",
    "        many mathematical principles.</p>\n",
    "            <p>Georg Cantor is generally credited with formalizing the mathematics\n",
    "        behind set theory, and his paper &#8220;On a Characteristic Property of All\n",
    "        Real Algebraic Numbers&#8221; (1874) formalized set theory as part of his\n",
    "        work on answering questions related to the concept of infinity. To\n",
    "        understand how it worked, consider the following question: is the set\n",
    "        of positive integers larger in cardinality than the set of both\n",
    "        positive and negative integers?</p>\n",
    "            <p>Although common intuition may be that there are twice as many\n",
    "        positive and negative integers than positive integers alone, Cantor&#8217;s\n",
    "        work showed that the cardinalities of the sets are actually equal!\n",
    "        Mathematically, he showed that you can map both sets of numbers such\n",
    "        that they form a sequence with a definite starting point that extends\n",
    "        forever in <span class=\"emphasis\"><em>one</em></span> direction like this: <span class=\"emphasis\"><em>{1,\n",
    "        &#8211;1, 2, &#8211;2, 3, &#8211;3, ...}</em></span>.</p>\n",
    "            <p>Because the numbers can be clearly enumerated but there is never an ending\n",
    "        point, the cardinalities of the sets are said to be\n",
    "        <span class=\"emphasis\"><em>countably infinite</em></span>. In other words, there is a\n",
    "        definite sequence that could be followed deterministically if you\n",
    "        simply had enough time to count them.</p></blockquote>"
   ]
  },
  {
   "cell_type": "markdown",
   "metadata": {},
   "source": [
    "## Searching for Tweets"
   ]
  },
  {
   "cell_type": "markdown",
   "metadata": {},
   "source": [
    "One of the common items between the sets of trending topics turns out\n",
    "      to be the hashtag \\#MentionSomeoneImportantForYou, so let's use it as the\n",
    "      basis of a search query to fetch some tweets for further analysis. Example&#160;1.5, &#8220;Collecting search results&#8221; illustrates how to exercise the <a class=\"ulink\" href=\"http://bit.ly/1a1l398\" target=\"\\_top\"><code class=\"literal\">GET search/tweets</code> resource</a> for a particular query of\n",
    "      interest, including the ability to use a special field that's included\n",
    "      in the metadata for the search results to easily make additional\n",
    "      requests for more search results. Coverage of Twitter's <a class=\"ulink\" href=\"http://bit.ly/1a1l1ya\" target=\"\\_top\">Streaming API</a> resources is out of\n",
    "      scope for this chapter but is introduced in &#8220;Sampling the Twitter Firehose with the <span class=\"keep-together\">Streaming API</span>&#8221; (Example&#160;9.8, &#8220;Sampling the Twitter firehose with the Streaming API&#8221;)\n",
    "      and may be more appropriate for many situations in which you want to\n",
    "      maintain a constantly updated view of tweets."
   ]
  },
  {
   "cell_type": "markdown",
   "metadata": {},
   "source": [
    "<blockquote><div><strong>Note:</strong></div><p>The use of <code class=\"literal\">\\*args</code> and <code class=\"literal\">\\*\\*kwargs</code> as illustrated in Example&#160;1.5, &#8220;Collecting search results&#8221; as parameters to a function is a\n",
    "        Python idiom for expressing arbitrary arguments and keyword arguments,\n",
    "        respectively. See Appendix&#160;C, <em>Python and IPython Notebook Tips &amp; Tricks</em> for a brief overview of this\n",
    "        idiom.</p></blockquote>"
   ]
  },
  {
   "cell_type": "markdown",
   "metadata": {},
   "source": [
    "#### Example 1.5. Collecting search results"
   ]
  },
  {
   "cell_type": "code",
   "execution_count": 31,
   "metadata": {},
   "outputs": [
    {
     "name": "stdout",
     "output_type": "stream",
     "text": [
      "Length of statuses 100\n",
      "Length of statuses 200\n",
      "Length of statuses 300\n",
      "Length of statuses 400\n",
      "Length of statuses 500\n",
      "{\n",
      " \"geo\": null,\n",
      " \"contributors\": null,\n",
      " \"user\": {\n",
      "  \"profile_use_background_image\": true,\n",
      "  \"default_profile_image\": false,\n",
      "  \"is_translator\": false,\n",
      "  \"profile_text_color\": \"333333\",\n",
      "  \"verified\": false,\n",
      "  \"time_zone\": null,\n",
      "  \"profile_banner_url\": \"https://pbs.twimg.com/profile_banners/876239252237021184/1510632191\",\n",
      "  \"translator_type\": \"none\",\n",
      "  \"profile_background_color\": \"F5F8FA\",\n",
      "  \"lang\": \"en\",\n",
      "  \"follow_request_sent\": false,\n",
      "  \"profile_sidebar_fill_color\": \"DDEEF6\",\n",
      "  \"url\": null,\n",
      "  \"created_at\": \"Sun Jun 18 00:44:52 +0000 2017\",\n",
      "  \"has_extended_profile\": true,\n",
      "  \"geo_enabled\": true,\n",
      "  \"followers_count\": 120,\n",
      "  \"favourites_count\": 7076,\n",
      "  \"profile_link_color\": \"1DA1F2\",\n",
      "  \"profile_background_image_url\": null,\n",
      "  \"profile_image_url\": \"http://pbs.twimg.com/profile_images/1064406441920991234/Dc-B6kb7_normal.jpg\",\n",
      "  \"location\": \"LUCKNOW INDIA\",\n",
      "  \"friends_count\": 273,\n",
      "  \"following\": false,\n",
      "  \"screen_name\": \"iamyadavsp\",\n",
      "  \"statuses_count\": 5410,\n",
      "  \"profile_image_url_https\": \"https://pbs.twimg.com/profile_images/1064406441920991234/Dc-B6kb7_normal.jpg\",\n",
      "  \"description\": \"Proud to be an #indian\",\n",
      "  \"utc_offset\": null,\n",
      "  \"id\": 876239252237021184,\n",
      "  \"listed_count\": 0,\n",
      "  \"contributors_enabled\": false,\n",
      "  \"name\": \"SATYAPRAKASH YADAV\",\n",
      "  \"profile_sidebar_border_color\": \"C0DEED\",\n",
      "  \"entities\": {\n",
      "   \"description\": {\n",
      "    \"urls\": []\n",
      "   }\n",
      "  },\n",
      "  \"id_str\": \"876239252237021184\",\n",
      "  \"protected\": false,\n",
      "  \"profile_background_tile\": false,\n",
      "  \"profile_background_image_url_https\": null,\n",
      "  \"is_translation_enabled\": false,\n",
      "  \"default_profile\": true,\n",
      "  \"notifications\": false\n",
      " },\n",
      " \"metadata\": {\n",
      "  \"result_type\": \"recent\",\n",
      "  \"iso_language_code\": \"en\"\n",
      " },\n",
      " \"lang\": \"en\",\n",
      " \"in_reply_to_status_id\": null,\n",
      " \"place\": null,\n",
      " \"created_at\": \"Wed Nov 21 10:23:05 +0000 2018\",\n",
      " \"text\": \"RT @ESPNcricinfo: Only five runs off the final five balls for Australia, who finish on 4/158 in 17 overs. Maxwell top-scores with 46\\n\\nIndia\\u2026\",\n",
      " \"in_reply_to_user_id\": null,\n",
      " \"in_reply_to_user_id_str\": null,\n",
      " \"is_quote_status\": false,\n",
      " \"retweeted\": false,\n",
      " \"favorite_count\": 0,\n",
      " \"retweet_count\": 11,\n",
      " \"in_reply_to_status_id_str\": null,\n",
      " \"id\": 1065188843467522048,\n",
      " \"source\": \"<a href=\\\"http://twitter.com/download/android\\\" rel=\\\"nofollow\\\">Twitter for Android</a>\",\n",
      " \"favorited\": false,\n",
      " \"entities\": {\n",
      "  \"symbols\": [],\n",
      "  \"user_mentions\": [\n",
      "   {\n",
      "    \"name\": \"ESPNcricinfo\",\n",
      "    \"id_str\": \"16542390\",\n",
      "    \"indices\": [\n",
      "     3,\n",
      "     16\n",
      "    ],\n",
      "    \"id\": 16542390,\n",
      "    \"screen_name\": \"ESPNcricinfo\"\n",
      "   }\n",
      "  ],\n",
      "  \"urls\": [],\n",
      "  \"hashtags\": []\n",
      " },\n",
      " \"id_str\": \"1065188843467522048\",\n",
      " \"truncated\": false,\n",
      " \"retweeted_status\": {\n",
      "  \"geo\": null,\n",
      "  \"contributors\": null,\n",
      "  \"user\": {\n",
      "   \"profile_use_background_image\": true,\n",
      "   \"default_profile_image\": false,\n",
      "   \"is_translator\": false,\n",
      "   \"profile_text_color\": \"663B12\",\n",
      "   \"verified\": true,\n",
      "   \"time_zone\": null,\n",
      "   \"profile_banner_url\": \"https://pbs.twimg.com/profile_banners/16542390/1537029906\",\n",
      "   \"translator_type\": \"none\",\n",
      "   \"profile_background_color\": \"E0E0E0\",\n",
      "   \"lang\": \"en\",\n",
      "   \"follow_request_sent\": false,\n",
      "   \"profile_sidebar_fill_color\": \"DAECF4\",\n",
      "   \"url\": \"http://t.co/IGblfozhqG\",\n",
      "   \"created_at\": \"Wed Oct 01 10:36:44 +0000 2008\",\n",
      "   \"has_extended_profile\": false,\n",
      "   \"geo_enabled\": false,\n",
      "   \"followers_count\": 5545308,\n",
      "   \"favourites_count\": 15,\n",
      "   \"profile_link_color\": \"1F98C7\",\n",
      "   \"profile_background_image_url\": \"http://abs.twimg.com/images/themes/theme2/bg.gif\",\n",
      "   \"profile_image_url\": \"http://pbs.twimg.com/profile_images/888015358958940165/SmaHw6Rj_normal.jpg\",\n",
      "   \"location\": \"At the cricket, mainly\",\n",
      "   \"friends_count\": 161,\n",
      "   \"following\": false,\n",
      "   \"screen_name\": \"ESPNcricinfo\",\n",
      "   \"statuses_count\": 110820,\n",
      "   \"profile_image_url_https\": \"https://pbs.twimg.com/profile_images/888015358958940165/SmaHw6Rj_normal.jpg\",\n",
      "   \"description\": \"Join cricket\\u2019s biggest fan club on Earth. \\nhttps://t.co/tBXKmUKsjz \\nhttps://t.co/SehLbGOxfr\",\n",
      "   \"utc_offset\": null,\n",
      "   \"id\": 16542390,\n",
      "   \"listed_count\": 5745,\n",
      "   \"contributors_enabled\": false,\n",
      "   \"name\": \"ESPNcricinfo\",\n",
      "   \"profile_sidebar_border_color\": \"FFFFFF\",\n",
      "   \"entities\": {\n",
      "    \"description\": {\n",
      "     \"urls\": [\n",
      "      {\n",
      "       \"expanded_url\": \"https://www.facebook.com/Cricinfo/\",\n",
      "       \"display_url\": \"facebook.com/Cricinfo/\",\n",
      "       \"url\": \"https://t.co/tBXKmUKsjz\",\n",
      "       \"indices\": [\n",
      "        43,\n",
      "        66\n",
      "       ]\n",
      "      },\n",
      "      {\n",
      "       \"expanded_url\": \"https://www.instagram.com/espncricinfo/\",\n",
      "       \"display_url\": \"instagram.com/espncricinfo/\",\n",
      "       \"url\": \"https://t.co/SehLbGOxfr\",\n",
      "       \"indices\": [\n",
      "        68,\n",
      "        91\n",
      "       ]\n",
      "      }\n",
      "     ]\n",
      "    },\n",
      "    \"url\": {\n",
      "     \"urls\": [\n",
      "      {\n",
      "       \"expanded_url\": \"http://www.espncricinfo.com/\",\n",
      "       \"display_url\": \"espncricinfo.com\",\n",
      "       \"url\": \"http://t.co/IGblfozhqG\",\n",
      "       \"indices\": [\n",
      "        0,\n",
      "        22\n",
      "       ]\n",
      "      }\n",
      "     ]\n",
      "    }\n",
      "   },\n",
      "   \"id_str\": \"16542390\",\n",
      "   \"protected\": false,\n",
      "   \"profile_background_tile\": false,\n",
      "   \"profile_background_image_url_https\": \"https://abs.twimg.com/images/themes/theme2/bg.gif\",\n",
      "   \"is_translation_enabled\": false,\n",
      "   \"default_profile\": false,\n",
      "   \"notifications\": false\n",
      "  },\n",
      "  \"metadata\": {\n",
      "   \"result_type\": \"recent\",\n",
      "   \"iso_language_code\": \"en\"\n",
      "  },\n",
      "  \"lang\": \"en\",\n",
      "  \"in_reply_to_status_id\": null,\n",
      "  \"place\": null,\n",
      "  \"created_at\": \"Wed Nov 21 10:13:12 +0000 2018\",\n",
      "  \"text\": \"Only five runs off the final five balls for Australia, who finish on 4/158 in 17 overs. Maxwell top-scores with 46\\u2026 https://t.co/SdDTv9KMHd\",\n",
      "  \"in_reply_to_user_id\": null,\n",
      "  \"in_reply_to_user_id_str\": null,\n",
      "  \"is_quote_status\": false,\n",
      "  \"retweeted\": false,\n",
      "  \"favorite_count\": 68,\n",
      "  \"retweet_count\": 11,\n",
      "  \"in_reply_to_status_id_str\": null,\n",
      "  \"id\": 1065186358938034176,\n",
      "  \"source\": \"<a href=\\\"https://about.twitter.com/products/tweetdeck\\\" rel=\\\"nofollow\\\">TweetDeck</a>\",\n",
      "  \"favorited\": false,\n",
      "  \"entities\": {\n",
      "   \"symbols\": [],\n",
      "   \"user_mentions\": [],\n",
      "   \"urls\": [\n",
      "    {\n",
      "     \"expanded_url\": \"https://twitter.com/i/web/status/1065186358938034176\",\n",
      "     \"display_url\": \"twitter.com/i/web/status/1\\u2026\",\n",
      "     \"url\": \"https://t.co/SdDTv9KMHd\",\n",
      "     \"indices\": [\n",
      "      116,\n",
      "      139\n",
      "     ]\n",
      "    }\n",
      "   ],\n",
      "   \"hashtags\": []\n",
      "  },\n",
      "  \"id_str\": \"1065186358938034176\",\n",
      "  \"truncated\": true,\n",
      "  \"possibly_sensitive\": false,\n",
      "  \"coordinates\": null,\n",
      "  \"in_reply_to_screen_name\": null\n",
      " },\n",
      " \"coordinates\": null,\n",
      " \"in_reply_to_screen_name\": null\n",
      "}\n"
     ]
    }
   ],
   "source": [
    "# Import unquote to prevent url encoding errors in next_results\n",
    "from urllib.parse import unquote\n",
    "\n",
    "# XXX: Set this variable to a trending topic, \n",
    "# or anything else for that matter. The example query below\n",
    "# was a trending topic when this content was being developed\n",
    "# and is used throughout the remainder of this chapter.\n",
    "\n",
    "q = '#AUSvIND' \n",
    "\n",
    "count = 100\n",
    "\n",
    "# See https://dev.twitter.com/docs/api/1.1/get/search/tweets\n",
    "\n",
    "search_results = twitter_api.search.tweets(q=q, count=count)\n",
    "\n",
    "statuses = search_results['statuses']\n",
    "\n",
    "\n",
    "# Iterate through 5 more batches of results by following the cursor\n",
    "\n",
    "for _ in range(5):\n",
    "    print(\"Length of statuses\", len(statuses))\n",
    "    try:\n",
    "        next_results = search_results['search_metadata']['next_results']\n",
    "    except KeyError as e: # No more results when next_results doesn't exist\n",
    "        break\n",
    "        \n",
    "    # Create a dictionary from next_results, which has the following form:\n",
    "    # ?max_id=313519052523986943&q=NCAA&include_entities=1\n",
    "    kwargs = dict([kv.split('=') for kv in unquote(next_results[1:]).split(\"&\") ])\n",
    "\n",
    "    \n",
    "    search_results = twitter_api.search.tweets(**kwargs)\n",
    "    statuses += search_results['statuses']\n",
    "\n",
    "# Show one sample search result by slicing the list...\n",
    "print(json.dumps(statuses[10], indent=1))"
   ]
  },
  {
   "cell_type": "markdown",
   "metadata": {},
   "source": [
    "<blockquote><div><strong>Note:</strong></div><p>Although we're just passing in a hashtag to the Search API at\n",
    "        this point, it's well worth noting that it contains a number of <a class=\"ulink\" href=\"http://bit.ly/1a1l3pN\" target=\"\\_top\">powerful operators</a> that allow you\n",
    "        to filter queries according to the existence or nonexistence of\n",
    "        various keywords, originator of the tweet, location associated with\n",
    "        the tweet, etc.</p></blockquote>"
   ]
  },
  {
   "cell_type": "markdown",
   "metadata": {},
   "source": [
    "In essence, all the code does is repeatedly make requests to the Search API.\n",
    "      One thing that might initially catch you off guard if you've worked with\n",
    "      other web APIs (including version 1 of Twitter's API) is that there's no\n",
    "      explicit concept of <span class=\"emphasis\"><em>pagination</em></span> in the Search API\n",
    "      itself. Reviewing the API documentation reveals that this is a\n",
    "      intentional decision, and there are some <a class=\"ulink\" href=\"http://bit.ly/1a1l4K6\" target=\"\\_top\">good reasons</a> for taking a\n",
    "      <span class=\"emphasis\"><em>cursoring</em></span> approach instead, given the highly\n",
    "      dynamic state of Twitter resources. The best practices for cursoring\n",
    "      vary a bit throughout the Twitter developer platform, with the Search\n",
    "      API providing a slightly simpler way of navigating search results than\n",
    "      other resources such as timelines."
   ]
  },
  {
   "cell_type": "markdown",
   "metadata": {},
   "source": [
    "Search results contain a special <code class=\"literal\">search\\_metadata</code> node that embeds a <code class=\"literal\">next\\_results</code> field with a query string that\n",
    "      provides the basis of a subsequent query. If we weren't using a library\n",
    "      like <code class=\"literal\">twitter</code> to make the HTTP\n",
    "      requests for us, this preconstructed query string would just be appended\n",
    "      to the Search API URL, and we'd update it with additional parameters for\n",
    "      handling OAuth. However, since we are not making our HTTP requests\n",
    "      directly, we must parse the query string into its constituent key/value\n",
    "      pairs and provide them as keyword arguments."
   ]
  },
  {
   "cell_type": "markdown",
   "metadata": {},
   "source": [
    "In Python parlance, we are <span class=\"emphasis\"><em>unpacking</em></span> the\n",
    "      values in a dictionary into keyword arguments that the function\n",
    "      receives. In other words, the function call inside of the <code class=\"literal\">for</code> loop in <span class=\"keep-together\">Example&#160;1.5, &#8220;Collecting search results&#8221; ultimately invokes a function such as\n",
    "      <code class=\"literal\">twitter\\_api.search.tweets</code></span><code class=\"literal\">(q='%23MentionSomeoneImportantForYou',\n",
    "      include\\_entities=1, max\\_id=313519</code><span class=\"keep-together\"><code class=\"literal\">052523986943)</code> even though it appears in\n",
    "      the source code as <code class=\"literal\">twitter\\_api</code></span><code class=\"literal\">.search.tweets(\\*\\*kwargs)</code>, with <code class=\"literal\">kwargs</code> being a dictionary of key/value\n",
    "      pairs."
   ]
  },
  {
   "cell_type": "markdown",
   "metadata": {},
   "source": [
    "<blockquote><div><strong>Note:</strong></div><p>The <code class=\"literal\">search\\_metadata</code> field\n",
    "        also contains a <code class=\"literal\">refresh\\_url</code> value\n",
    "        that can be used if you'd like to maintain and periodically update\n",
    "        your collection of results with new information that's become\n",
    "        available since the previous query.</p></blockquote>"
   ]
  },
  {
   "cell_type": "markdown",
   "metadata": {},
   "source": [
    "The next sample tweet shows the search results for a query for\n",
    "      \\#MentionSomeoneImportantForYou. Take a moment to peruse (all of) it. As\n",
    "      I mentioned earlier, there's a lot more to a tweet than meets the eye.\n",
    "      The particular tweet that follows is fairly representative and contains\n",
    "      in excess of 5 KB of total content when represented in uncompressed\n",
    "      JSON. That's more than 40 times the amount of data that makes up the 140\n",
    "      characters of text that's normally thought of as a tweet!"
   ]
  },
  {
   "cell_type": "markdown",
   "metadata": {},
   "source": [
    "<pre>[\n",
    " {\n",
    "  \"contributors\": null, \n",
    "  \"truncated\": false, \n",
    "  \"text\": \"RT @hassanmusician: \\#MentionSomeoneImportantForYou God.\", \n",
    "  \"in\\_reply\\_to\\_status\\_id\": null, \n",
    "  \"id\": 316948241264549888, \n",
    "  \"favorite\\_count\": 0, \n",
    "  \"source\": \"<a href=\\\"http://twitter.com/download/android\\\"...\", \n",
    "  \"retweeted\": false, \n",
    "  \"coordinates\": null, \n",
    "  \"entities\": {\n",
    "   \"user\\_mentions\": [\n",
    "    {\n",
    "     \"id\": 56259379, \n",
    "     \"indices\": [\n",
    "      3, \n",
    "      18\n",
    "     ], \n",
    "     \"id\\_str\": \"56259379\", \n",
    "     \"screen\\_name\": \"hassanmusician\", \n",
    "     \"name\": \"Download the NEW LP!\"\n",
    "    }\n",
    "   ], \n",
    "   \"hashtags\": [\n",
    "    {\n",
    "     \"indices\": [\n",
    "      20, \n",
    "      50\n",
    "     ], \n",
    "     \"text\": \"MentionSomeoneImportantForYou\"\n",
    "    }\n",
    "   ], \n",
    "   \"urls\": []\n",
    "  }, \n",
    "  \"in\\_reply\\_to\\_screen\\_name\": null, \n",
    "  \"in\\_reply\\_to\\_user\\_id\": null, \n",
    "  \"retweet\\_count\": 23, \n",
    "  \"id\\_str\": \"316948241264549888\", \n",
    "  \"favorited\": false, \n",
    "  \"retweeted\\_status\": {\n",
    "   \"contributors\": null, \n",
    "   \"truncated\": false, \n",
    "   \"text\": \"\\#MentionSomeoneImportantForYou God.\", \n",
    "   \"in\\_reply\\_to\\_status\\_id\": null, \n",
    "   \"id\": 316944833233186816, \n",
    "   \"favorite\\_count\": 0, \n",
    "   \"source\": \"web\", \n",
    "   \"retweeted\": false, \n",
    "   \"coordinates\": null, \n",
    "   \"entities\": {\n",
    "    \"user\\_mentions\": [], \n",
    "    \"hashtags\": [\n",
    "     {\n",
    "      \"indices\": [\n",
    "       0, \n",
    "       30\n",
    "      ], \n",
    "      \"text\": \"MentionSomeoneImportantForYou\"\n",
    "     }\n",
    "    ], \n",
    "    \"urls\": []\n",
    "   }, \n",
    "   \"in\\_reply\\_to\\_screen\\_name\": null, \n",
    "   \"in\\_reply\\_to\\_user\\_id\": null, \n",
    "   \"retweet\\_count\": 23, \n",
    "   \"id\\_str\": \"316944833233186816\", \n",
    "   \"favorited\": false, \n",
    "   \"user\": {\n",
    "    \"follow\\_request\\_sent\": null, \n",
    "    \"profile\\_use\\_background\\_image\": true, \n",
    "    \"default\\_profile\\_image\": false, \n",
    "    \"id\": 56259379, \n",
    "    \"verified\": false, \n",
    "    \"profile\\_text\\_color\": \"3C3940\", \n",
    "    \"profile\\_image\\_url\\_https\": \"https://si0.t...\", \n",
    "    \"profile\\_sidebar\\_fill\\_color\": \"95E8EC\", \n",
    "    \"entities\": {\n",
    "     \"url\": {\n",
    "      \"urls\": [\n",
    "       {\n",
    "        \"url\": \"http://t.co/yRX89YM4J0\", \n",
    "        \"indices\": [\n",
    "         0, \n",
    "         22\n",
    "        ], \n",
    "        \"expanded\\_url\": \"http://www.datpiff...\", \n",
    "        \"display\\_url\": \"datpiff.com/mixtapes-detai\\u2026\"\n",
    "       }\n",
    "      ]\n",
    "     }, \n",
    "     \"description\": {\n",
    "      \"urls\": []\n",
    "     }\n",
    "    }, \n",
    "    \"followers\\_count\": 105041, \n",
    "    \"profile\\_sidebar\\_border\\_color\": \"000000\", \n",
    "    \"id\\_str\": \"56259379\", \n",
    "    \"profile\\_background\\_color\": \"000000\", \n",
    "    \"listed\\_count\": 64, \n",
    "    \"profile\\_background\\_image\\_url\\_https\": \"https://si0.t...\", \n",
    "    \"utc\\_offset\": -18000, \n",
    "    \"statuses\\_count\": 16691, \n",
    "    \"description\": \"\\#TheseAreTheWordsISaid LP\", \n",
    "    \"friends\\_count\": 59615, \n",
    "    \"location\": \"\", \n",
    "    \"profile\\_link\\_color\": \"91785A\", \n",
    "    \"profile\\_image\\_url\": \"http://a0.twimg.com/...\", \n",
    "    \"following\": null, \n",
    "    \"geo\\_enabled\": true, \n",
    "    \"profile\\_banner\\_url\": \"https://si0.twimg.com/pr...\", \n",
    "    \"profile\\_background\\_image\\_url\": \"http://a0.twi...\", \n",
    "    \"screen\\_name\": \"hassanmusician\", \n",
    "    \"lang\": \"en\", \n",
    "    \"profile\\_background\\_tile\": false, \n",
    "    \"favourites\\_count\": 6142, \n",
    "    \"name\": \"Download the NEW LP!\", \n",
    "    \"notifications\": null, \n",
    "    \"url\": \"http://t.co/yRX89YM4J0\", \n",
    "    \"created\\_at\": \"Mon Jul 13 02:18:25 +0000 2009\", \n",
    "    \"contributors\\_enabled\": false, \n",
    "    \"time\\_zone\": \"Eastern Time (US & Canada)\", \n",
    "    \"protected\": false, \n",
    "    \"default\\_profile\": false, \n",
    "    \"is\\_translator\": false\n",
    "   }, \n",
    "   \"geo\": null, \n",
    "   \"in\\_reply\\_to\\_user\\_id\\_str\": null, \n",
    "   \"lang\": \"en\", \n",
    "   \"created\\_at\": \"Wed Mar 27 16:08:31 +0000 2013\", \n",
    "   \"in\\_reply\\_to\\_status\\_id\\_str\": null, \n",
    "   \"place\": null, \n",
    "   \"metadata\": {\n",
    "    \"iso\\_language\\_code\": \"en\", \n",
    "    \"result\\_type\": \"recent\"\n",
    "   }\n",
    "  }, \n",
    "  \"user\": {\n",
    "   \"follow\\_request\\_sent\": null, \n",
    "   \"profile\\_use\\_background\\_image\": true, \n",
    "   \"default\\_profile\\_image\": false, \n",
    "   \"id\": 549413966, \n",
    "   \"verified\": false, \n",
    "   \"profile\\_text\\_color\": \"3D1957\", \n",
    "   \"profile\\_image\\_url\\_https\": \"https://si0.twimg...\", \n",
    "   \"profile\\_sidebar\\_fill\\_color\": \"7AC3EE\", \n",
    "   \"entities\": {\n",
    "    \"description\": {\n",
    "     \"urls\": []\n",
    "    }\n",
    "   }, \n",
    "   \"followers\\_count\": 110, \n",
    "   \"profile\\_sidebar\\_border\\_color\": \"FFFFFF\", \n",
    "   \"id\\_str\": \"549413966\", \n",
    "   \"profile\\_background\\_color\": \"642D8B\", \n",
    "   \"listed\\_count\": 1, \n",
    "   \"profile\\_background\\_image\\_url\\_https\": \"https:...\", \n",
    "   \"utc\\_offset\": 0, \n",
    "   \"statuses\\_count\": 1294, \n",
    "   \"description\": \"i BELIEVE do you? I admire n adore @justinbieber \", \n",
    "   \"friends\\_count\": 346, \n",
    "   \"location\": \"All Around The World \", \n",
    "   \"profile\\_link\\_color\": \"FF0000\", \n",
    "   \"profile\\_image\\_url\": \"http://a0.twimg.com/pr...\", \n",
    "   \"following\": null, \n",
    "   \"geo\\_enabled\": true, \n",
    "   \"profile\\_banner\\_url\": \"https://si0.twimg.com/...\", \n",
    "   \"profile\\_background\\_image\\_url\": \"http://a0.tw...\", \n",
    "   \"screen\\_name\": \"LilSalima\", \n",
    "   \"lang\": \"en\", \n",
    "   \"profile\\_background\\_tile\": true, \n",
    "   \"favourites\\_count\": 229, \n",
    "   \"name\": \"KoKo :D\", \n",
    "   \"notifications\": null, \n",
    "   \"url\": null, \n",
    "   \"created\\_at\": \"Mon Apr 09 17:51:36 +0000 2012\", \n",
    "   \"contributors\\_enabled\": false, \n",
    "   \"time\\_zone\": \"London\", \n",
    "   \"protected\": false, \n",
    "   \"default\\_profile\": false, \n",
    "   \"is\\_translator\": false\n",
    "  }, \n",
    "  \"geo\": null, \n",
    "  \"in\\_reply\\_to\\_user\\_id\\_str\": null, \n",
    "  \"lang\": \"en\", \n",
    "  \"created\\_at\": \"Wed Mar 27 16:22:03 +0000 2013\", \n",
    "  \"in\\_reply\\_to\\_status\\_id\\_str\": null, \n",
    "  \"place\": null, \n",
    "  \"metadata\": {\n",
    "   \"iso\\_language\\_code\": \"en\", \n",
    "   \"result\\_type\": \"recent\"\n",
    "  }\n",
    " }, \n",
    " ...\n",
    "]</pre>"
   ]
  },
  {
   "cell_type": "markdown",
   "metadata": {},
   "source": [
    "Tweets are imbued with some of the richest metadata that you'll\n",
    "      find on the social web, and Chapter&#160;9, <em>Twitter Cookbook</em>\n",
    "      elaborates on some of the many possibilities."
   ]
  },
  {
   "cell_type": "markdown",
   "metadata": {},
   "source": [
    "# Analyzing the 140 Characters"
   ]
  },
  {
   "cell_type": "markdown",
   "metadata": {},
   "source": [
    "The online documentation is always the definitive source for Twitter\n",
    "    platform objects, and it's worthwhile to bookmark the <a class=\"ulink\" href=\"http://bit.ly/1a1l3WL\" target=\"\\_top\">Tweets</a> page, because it's one that\n",
    "    you'll refer to quite frequently as you get familiarized with the basic\n",
    "    anatomy of a tweet. No attempt is made here or elsewhere in the book to\n",
    "    regurgitate online documentation, but a few notes are of interest given\n",
    "    that you might still be a bit overwhelmed by the 5 KB of information that\n",
    "    a tweet comprises. For simplicity of nomenclature, let's assume that we've\n",
    "    extracted a single tweet from the search results and stored it in a\n",
    "    variable named <code class=\"literal\">t</code>. For example, <code class=\"literal\">t.keys()</code> returns the top-level fields for the\n",
    "    tweet and <code class=\"literal\">t['id']</code> accesses the\n",
    "    identifier of the tweet."
   ]
  },
  {
   "cell_type": "markdown",
   "metadata": {},
   "source": [
    "<blockquote><div><strong>Note:</strong></div><p>If you're following along with the IPython Notebook for this\n",
    "        chapter, the exact tweet that's under scrutiny is stored in a variable\n",
    "        named <code class=\"literal\">t</code> so that you can\n",
    "        interactively access its fields and explore more easily. The current\n",
    "        discussion assumes the same nomenclature, so values should correspond\n",
    "        one-for-one.</p></blockquote>"
   ]
  },
  {
   "cell_type": "markdown",
   "metadata": {},
   "source": [
    "<ul class=\"itemizedlist\">\n",
    "            <li class=\"listitem\">\n",
    "              <p>The human-readable text of a tweet is available through <code class=\"literal\">t['text']</code>:</p>\n",
    "              <div class=\"programlisting\">RT @hassanmusician: \\#MentionSomeoneImportantForYou God.</div>\n",
    "            </li>\n",
    "            <li class=\"listitem\">\n",
    "              <p>The entities in the text of a tweet are conveniently processed\n",
    "          for you and available through <code class=\"literal\">t['entities']</code>:</p>\n",
    "              <div class=\"programlisting\">{\n",
    " \"user\\_mentions\": [\n",
    "  {\n",
    "   \"indices\": [\n",
    "    3, \n",
    "    18\n",
    "   ], \n",
    "   \"screen\\_name\": \"hassanmusician\", \n",
    "   \"id\": 56259379, \n",
    "   \"name\": \"Download the NEW LP!\", \n",
    "   \"id\\_str\": \"56259379\"\n",
    "  }\n",
    " ], \n",
    " \"hashtags\": [\n",
    "  {\n",
    "   \"indices\": [\n",
    "    20, \n",
    "    50\n",
    "   ], \n",
    "   \"text\": \"MentionSomeoneImportantForYou\"\n",
    "  }\n",
    " ], \n",
    " \"urls\": []\n",
    "}</div>\n",
    "            </li>\n",
    "            <li class=\"listitem\">\n",
    "              <p>Clues as to the \"interestingness\" of a tweet are available through <code class=\"literal\">t['favorite\\_count']</code> and <code class=\"literal\">t['retweet\\_count']</code>, which return the\n",
    "          number of times it's been bookmarked or retweeted,\n",
    "          respectively.</p>\n",
    "            </li>\n",
    "            <li class=\"listitem\">\n",
    "              <p>If a tweet has been retweeted, the <code class=\"literal\">t['retweeted\\_status']</code> field provides\n",
    "          significant detail about the original tweet itself and its author.\n",
    "          Keep in mind that sometimes the text of a tweet changes as it is\n",
    "          retweeted, as users add reactions or otherwise manipulate the\n",
    "          text.</p>\n",
    "            </li>\n",
    "            <li class=\"listitem\">\n",
    "              <p>The <code class=\"literal\">t['retweeted']</code> field\n",
    "          denotes whether or not the authenticated user (via an\n",
    "          authorized application) has retweeted this particular tweet. Fields\n",
    "          that vary <span class=\"keep-together\">depending</span> upon the\n",
    "          point of view of the particular user are denoted in Twitter's\n",
    "          developer documentation as <span class=\"emphasis\"><em>perspectival</em></span>, which\n",
    "          means that their values will vary depending upon the perspective of\n",
    "          the user.</p>\n",
    "            </li>\n",
    "            <li class=\"listitem\">\n",
    "              <p>Additionally, note that only original tweets are retweeted\n",
    "          from the standpoint of the API and information management. Thus, the\n",
    "          <code class=\"literal\">retweet\\_count</code> reflects the total\n",
    "          number of times that the original tweet has been retweeted and\n",
    "          should reflect the same value in both the original tweet and all\n",
    "          subsequent retweets. In other words, retweets aren't retweeted. It\n",
    "          may be a bit counterintuitive at first, but if you think you're\n",
    "          retweeting a retweet, you're actually just retweeting the original\n",
    "          tweet that you were exposed to through a proxy. See &#8220;Examining Patterns in Retweets&#8221; later in this chapter for a\n",
    "          more nuanced discussion about the difference between retweeting vs\n",
    "          quoting a tweet.</p>\n",
    "            </li>\n",
    "          </ul>"
   ]
  },
  {
   "cell_type": "markdown",
   "metadata": {},
   "source": [
    "You should tinker around with the sample tweet and consult the\n",
    "    documentation to clarify any lingering questions you might have before\n",
    "    moving forward. A good working knowledge of a tweet's anatomy is critical\n",
    "    to effectively mining Twitter data."
   ]
  },
  {
   "cell_type": "markdown",
   "metadata": {},
   "source": [
    "## Extracting Tweet Entities"
   ]
  },
  {
   "cell_type": "markdown",
   "metadata": {},
   "source": [
    "Next, let's distill the entities and the text of the tweets into a convenient data\n",
    "      structure for further examination. Example&#160;1.6, &#8220;Extracting text, screen names, and hashtags from tweets&#8221;\n",
    "      extracts the text, screen names, and hashtags from the tweets that are\n",
    "      collected and introduces a Python idiom called a <span class=\"emphasis\"><em>double</em></span> (or\n",
    "      <span class=\"emphasis\"><em>nested</em></span>) <span class=\"emphasis\"><em>list comprehension</em></span>. If\n",
    "      you understand a (single) list comprehension, the code formatting should\n",
    "      illustrate the double list comprehension as simply a collection of\n",
    "      values that are derived from a nested loop as opposed to the results of\n",
    "      a single loop. List comprehensions are particularly powerful because\n",
    "      they usually yield substantial performance gains over nested lists and\n",
    "      provide an intuitive (once you&#8217;re familiar with them) yet terse\n",
    "      syntax."
   ]
  },
  {
   "cell_type": "markdown",
   "metadata": {},
   "source": [
    "<blockquote><div><strong>Note:</strong></div><p>List comprehensions are used frequently throughout this book,\n",
    "          and it's worth consulting Appendix&#160;C, <em>Python and IPython Notebook Tips &amp; Tricks</em> or the <a class=\"ulink\" href=\"http://bit.ly/1a1l1hy\" target=\"\\_top\">official Python tutorial</a> for\n",
    "          more details if you'd like additional context.</p></blockquote>"
   ]
  },
  {
   "cell_type": "markdown",
   "metadata": {},
   "source": [
    "#### Example 1.6. Extracting text, screen names, and hashtags from tweets"
   ]
  },
  {
   "cell_type": "code",
   "execution_count": 32,
   "metadata": {},
   "outputs": [
    {
     "name": "stdout",
     "output_type": "stream",
     "text": [
      "[\n",
      " \"RT @BCCI: Captain Kohli with a heart-warming gesture before the start of game at The Gabba #TeamIndia #AUSvIND https://t.co/KPANHQ78FT\",\n",
      " \"RT @BCCI: Captain Kohli with a heart-warming gesture before the start of game at The Gabba #TeamIndia #AUSvIND https://t.co/KPANHQ78FT\",\n",
      " \"RT @cricketcomau: Behrendorff with the ball as India begin their run chase. Rohit and Shikhar opening the batting.\\n\\n174 needed from 17 over\\u2026\",\n",
      " \"RT @SPNSportsIndia: Sparks will fly when two megastars, @rajinikanth and @akshaykumar meet on screen, and when India and Australia meet on\\u2026\",\n",
      " \"Robin &amp; Sunny \\ud83d\\ude02\\n\\n#AUSvIND\"\n",
      "]\n",
      "[\n",
      " \"BCCI\",\n",
      " \"BCCI\",\n",
      " \"cricketcomau\",\n",
      " \"SPNSportsIndia\",\n",
      " \"rajinikanth\"\n",
      "]\n",
      "[\n",
      " \"TeamIndia\",\n",
      " \"AUSvIND\",\n",
      " \"TeamIndia\",\n",
      " \"AUSvIND\",\n",
      " \"AUSvIND\"\n",
      "]\n",
      "[\n",
      " \"RT\",\n",
      " \"@BCCI:\",\n",
      " \"Captain\",\n",
      " \"Kohli\",\n",
      " \"with\"\n",
      "]\n"
     ]
    }
   ],
   "source": [
    "status_texts = [ status['text'] \n",
    "                 for status in statuses ]\n",
    "\n",
    "screen_names = [ user_mention['screen_name'] \n",
    "                 for status in statuses\n",
    "                     for user_mention in status['entities']['user_mentions'] ]\n",
    "\n",
    "hashtags = [ hashtag['text'] \n",
    "             for status in statuses\n",
    "                 for hashtag in status['entities']['hashtags'] ]\n",
    "\n",
    "# Compute a collection of all words from all tweets\n",
    "words = [ w \n",
    "          for t in status_texts \n",
    "              for w in t.split() ]\n",
    "\n",
    "# Explore the first 5 items for each...\n",
    "\n",
    "print(json.dumps(status_texts[0:5], indent=1))\n",
    "print(json.dumps(screen_names[0:5], indent=1))\n",
    "print(json.dumps(hashtags[0:5], indent=1))\n",
    "print(json.dumps(words[0:5], indent=1))"
   ]
  },
  {
   "cell_type": "markdown",
   "metadata": {},
   "source": [
    "Sample output follows; it displays five status texts, screen\n",
    "      names, and hashtags to provide a feel for what's in the data."
   ]
  },
  {
   "cell_type": "markdown",
   "metadata": {},
   "source": [
    "<blockquote><div><strong>Note:</strong></div><p>In Python, syntax in which square brackets appear after a list\n",
    "        or string value, such as <code class=\"literal\">status\\_texts[0:5]</code>, is indicative of\n",
    "        <span class=\"emphasis\"><em>slicing</em></span>, whereby you can easily extract items\n",
    "        from lists or substrings from strings. In this particular case,\n",
    "        <code class=\"literal\">[0:5]</code> indicates that you'd like the\n",
    "        first five items in the list <code class=\"literal\">status\\_texts</code> (corresponding to items at\n",
    "        indices 0 through 4). See Appendix&#160;C, <em>Python and IPython Notebook Tips &amp; Tricks</em> for a more extended\n",
    "        description of slicing in Python.</p></blockquote>"
   ]
  },
  {
   "cell_type": "markdown",
   "metadata": {},
   "source": [
    "<code>[\n",
    " \"\\u201c@KathleenMariee\\_: \\#MentionSomeOneImportantForYou @AhhlicksCruise..., \n",
    " \"\\#MentionSomeoneImportantForYou My bf @Linkin\\_Sunrise.\", \n",
    " \"RT @hassanmusician: \\#MentionSomeoneImportantForYou God.\", \n",
    " \"\\#MentionSomeoneImportantForYou @Louis\\_Tomlinson\", \n",
    " \"\\#MentionSomeoneImportantForYou @Delta\\_Universe\"\n",
    "]\n",
    "[\n",
    " \"KathleenMariee\\_\", \n",
    " \"AhhlicksCruise\", \n",
    " \"itsravennn\\_cx\", \n",
    " \"kandykisses\\_13\", \n",
    " \"BMOLOGY\"\n",
    "]\n",
    "[\n",
    " \"MentionSomeOneImportantForYou\", \n",
    " \"MentionSomeoneImportantForYou\", \n",
    " \"MentionSomeoneImportantForYou\", \n",
    " \"MentionSomeoneImportantForYou\", \n",
    " \"MentionSomeoneImportantForYou\"\n",
    "]\n",
    "[\n",
    " \"\\u201c@KathleenMariee\\_:\", \n",
    " \"\\#MentionSomeOneImportantForYou\", \n",
    " \"@AhhlicksCruise\", \n",
    " \",\", \n",
    " \"@itsravennn\\_cx\"\n",
    "]</code>"
   ]
  },
  {
   "cell_type": "markdown",
   "metadata": {},
   "source": [
    "As expected, \\#MentionSomeoneImportantForYou dominates the hashtag\n",
    "      output. The output also provides a few commonly occurring screen names\n",
    "      that are worth <span class=\"keep-together\">investigating</span>."
   ]
  },
  {
   "cell_type": "markdown",
   "metadata": {},
   "source": [
    "## Analyzing Tweets and Tweet Entities with Frequency Analysis"
   ]
  },
  {
   "cell_type": "markdown",
   "metadata": {},
   "source": [
    "Virtually all analysis boils down to the simple exercise of counting things on\n",
    "      some level, and much of what we'll be doing in this book is manipulating\n",
    "      data so that it can be counted and further manipulated in meaningful\n",
    "      ways."
   ]
  },
  {
   "cell_type": "markdown",
   "metadata": {},
   "source": [
    "From an empirical standpoint, counting observable things is the\n",
    "      starting point for just about everything, and thus the starting point\n",
    "      for any kind of statistical filtering or manipulation that strives to\n",
    "      find what may be a faint signal in noisy data. Whereas we just extracted\n",
    "      the first 5 items of each unranked list to get a feel for the data,\n",
    "      let's now take a closer look at what's in the data by computing a\n",
    "      frequency distribution and looking at the top 10 items in each\n",
    "      list."
   ]
  },
  {
   "cell_type": "markdown",
   "metadata": {},
   "source": [
    "As of Python 2.7, a <a class=\"ulink\" href=\"http://bit.ly/1a1l4tC\" target=\"\\_top\"><code class=\"literal\">collections</code></a> module is available that provides a counter that makes computing a\n",
    "      frequency distribution rather trivial. Example&#160;1.7, &#8220;Creating a basic frequency distribution from the words in\n",
    "        tweets&#8221; demonstrates how to use a <code class=\"literal\">Counter</code> to compute frequency distributions as\n",
    "      ranked lists of terms. Among the more compelling reasons for mining\n",
    "      Twitter data is to try to answer the question of what people are talking\n",
    "      about <span class=\"emphasis\"><em>right now</em></span>. One of the simplest techniques you\n",
    "      could apply to answer this question is basic frequency analysis, just as\n",
    "      we are performing here."
   ]
  },
  {
   "cell_type": "markdown",
   "metadata": {},
   "source": [
    "#### Example 1.7. Creating a basic frequency distribution from the words in tweets"
   ]
  },
  {
   "cell_type": "code",
   "execution_count": 33,
   "metadata": {},
   "outputs": [
    {
     "name": "stdout",
     "output_type": "stream",
     "text": [
      "[('#AUSvIND', 341), ('RT', 280), ('the', 259), ('to', 252), ('in', 201), ('17', 190), ('a', 159), ('will', 144), ('India', 136), ('174', 121)]\n",
      "\n",
      "[('BCCI', 52), ('cricketcomau', 27), ('ICC', 21), ('cricbuzz', 21), ('imVkohli', 17), ('SPNSportsIndia', 14), ('RCBTweets', 14), ('imVlkohli', 9), ('ESPNcricinfo', 9), ('mipaltan', 8)]\n",
      "\n",
      "[('AUSvIND', 343), ('TeamIndia', 58), ('AusvInd', 26), ('INDvAUS', 24), ('Australia', 14), ('AusvsIndonSonyLIV', 13), ('India', 12), ('EidMiladUnNabi', 12), ('Cricket', 10), ('SaffolaOil', 8)]\n",
      "\n"
     ]
    }
   ],
   "source": [
    "from collections import Counter\n",
    "\n",
    "for item in [words, screen_names, hashtags]:\n",
    "    c = Counter(item)\n",
    "    print(c.most_common()[:10]) # top 10\n",
    "    print()"
   ]
  },
  {
   "cell_type": "markdown",
   "metadata": {},
   "source": [
    "Here are some sample results from frequency analysis of\n",
    "      tweets:"
   ]
  },
  {
   "cell_type": "markdown",
   "metadata": {},
   "source": [
    "<pre>[(u'\\#MentionSomeoneImportantForYou', 92), (u'RT', 34), (u'my', 10), \n",
    " (u',', 6), (u'@justinbieber', 6), (u'<3', 6), (u'My', 5), (u'and', 4), \n",
    " (u'I', 4), (u'te', 3)]\n",
    "\n",
    "[(u'justinbieber', 6), (u'Kid\\_Charliej', 2), (u'Cavillafuerte', 2), \n",
    " (u'touchmestyles\\_', 1), (u'aliceorr96', 1), (u'gymleeam', 1), (u'fienas', 1), \n",
    " (u'nayely\\_1D', 1), (u'angelchute', 1)]\n",
    "\n",
    "[(u'MentionSomeoneImportantForYou', 94), (u'mentionsomeoneimportantforyou', 3), \n",
    " (u'NoHomo', 1), (u'Love', 1), (u'MentionSomeOneImportantForYou', 1), \n",
    " (u'MyHeart', 1),  (u'bebesito', 1)]</pre>"
   ]
  },
  {
   "cell_type": "markdown",
   "metadata": {},
   "source": [
    "The result of the frequency distribution is a map of key/value\n",
    "      pairs corresponding to terms and their frequencies, so let's make\n",
    "      reviewing the results a little easier on the eyes by emitting a tabular\n",
    "      format. You can install a package called <code class=\"literal\">prettytable</code> by typing <strong class=\"userinput\"><code>pip install prettytable</code></strong> in a terminal; this\n",
    "      package provides a convenient way to emit a fixed-width tabular format\n",
    "      that can be easily copied-and-pasted."
   ]
  },
  {
   "cell_type": "markdown",
   "metadata": {},
   "source": [
    "Example&#160;1.8, &#8220;Using prettytable to display tuples in a nice tabular\n",
    "          format&#8221; shows how to use it to display the\n",
    "      same results."
   ]
  },
  {
   "cell_type": "markdown",
   "metadata": {},
   "source": [
    "#### Example 1.8. Using prettytable to display tuples in a nice tabular format"
   ]
  },
  {
   "cell_type": "code",
   "execution_count": 34,
   "metadata": {},
   "outputs": [
    {
     "name": "stdout",
     "output_type": "stream",
     "text": [
      "+----------+-------+\n",
      "| Word     | Count |\n",
      "+----------+-------+\n",
      "| #AUSvIND |   341 |\n",
      "| RT       |   280 |\n",
      "| the      |   259 |\n",
      "| to       |   252 |\n",
      "| in       |   201 |\n",
      "| 17       |   190 |\n",
      "| a        |   159 |\n",
      "| will     |   144 |\n",
      "| India    |   136 |\n",
      "| 174      |   121 |\n",
      "+----------+-------+\n",
      "+----------------+-------+\n",
      "| Screen Name    | Count |\n",
      "+----------------+-------+\n",
      "| BCCI           |    52 |\n",
      "| cricketcomau   |    27 |\n",
      "| ICC            |    21 |\n",
      "| cricbuzz       |    21 |\n",
      "| imVkohli       |    17 |\n",
      "| SPNSportsIndia |    14 |\n",
      "| RCBTweets      |    14 |\n",
      "| imVlkohli      |     9 |\n",
      "| ESPNcricinfo   |     9 |\n",
      "| mipaltan       |     8 |\n",
      "+----------------+-------+\n",
      "+-------------------+-------+\n",
      "| Hashtag           | Count |\n",
      "+-------------------+-------+\n",
      "| AUSvIND           |   343 |\n",
      "| TeamIndia         |    58 |\n",
      "| AusvInd           |    26 |\n",
      "| INDvAUS           |    24 |\n",
      "| Australia         |    14 |\n",
      "| AusvsIndonSonyLIV |    13 |\n",
      "| India             |    12 |\n",
      "| EidMiladUnNabi    |    12 |\n",
      "| Cricket           |    10 |\n",
      "| SaffolaOil        |     8 |\n",
      "+-------------------+-------+\n"
     ]
    }
   ],
   "source": [
    "from prettytable import PrettyTable\n",
    "\n",
    "for label, data in (('Word', words), \n",
    "                    ('Screen Name', screen_names), \n",
    "                    ('Hashtag', hashtags)):\n",
    "    pt = PrettyTable(field_names=[label, 'Count']) \n",
    "    c = Counter(data)\n",
    "    [ pt.add_row(kv) for kv in c.most_common()[:10] ]\n",
    "    pt.align[label], pt.align['Count'] = 'l', 'r' # Set column alignment\n",
    "    print(pt)"
   ]
  },
  {
   "cell_type": "markdown",
   "metadata": {},
   "source": [
    "<br class=\"example-break\" />"
   ]
  },
  {
   "cell_type": "markdown",
   "metadata": {},
   "source": [
    "The results from Example&#160;1.8, &#8220;Using prettytable to display tuples in a nice tabular\n",
    "          format&#8221; are displayed as a\n",
    "      series of nicely formatted text-based tables that are easy to skim, as\n",
    "      the following output demonstrates."
   ]
  },
  {
   "cell_type": "markdown",
   "metadata": {},
   "source": [
    "<pre>+--------------------------------+-------+\n",
    "| Word                           | Count |\n",
    "+--------------------------------+-------+\n",
    "| \\#MentionSomeoneImportantForYou |    92 |\n",
    "| RT                             |    34 |\n",
    "| my                             |    10 |\n",
    "| ,                              |     6 |\n",
    "| @justinbieber                  |     6 |\n",
    "| &lt;3                          |     6 |\n",
    "| My                             |     5 |\n",
    "| and                            |     4 |\n",
    "| I                              |     4 |\n",
    "| te                             |     3 |\n",
    "+--------------------------------+-------+\n",
    "+----------------+-------+\n",
    "| Screen Name    | Count |\n",
    "+----------------+-------+\n",
    "| justinbieber   |     6 |\n",
    "| Kid\\_Charliej   |     2 |\n",
    "| Cavillafuerte  |     2 |\n",
    "| touchmestyles\\_ |     1 |\n",
    "| aliceorr96     |     1 |\n",
    "| gymleeam       |     1 |\n",
    "| fienas         |     1 |\n",
    "| nayely\\_1D      |     1 |\n",
    "| angelchute     |     1 |\n",
    "+----------------+-------+\n",
    "+-------------------------------+-------+\n",
    "| Hashtag                       | Count |\n",
    "+-------------------------------+-------+\n",
    "| MentionSomeoneImportantForYou |    94 |\n",
    "| mentionsomeoneimportantforyou |     3 |\n",
    "| NoHomo                        |     1 |\n",
    "| Love                          |     1 |\n",
    "| MentionSomeOneImportantForYou |     1 |\n",
    "| MyHeart                       |     1 |\n",
    "| bebesito                      |     1 |\n",
    "+-------------------------------+-------+</pre>"
   ]
  },
  {
   "cell_type": "markdown",
   "metadata": {},
   "source": [
    "A quick skim of the results reveals at least one marginally\n",
    "      surprising thing: Justin Bieber is high on the list of entities for this\n",
    "      small sample of data, and given his popularity with tweens on Twitter he\n",
    "      may very well have been the \"most important someone\" for this trending\n",
    "      topic, though the results here are inconclusive. The appearance of\n",
    "      <code class=\"literal\">&amp;lt;3</code> is also interesting because\n",
    "      it is an escaped form of <code class=\"literal\">&lt;3</code>, which\n",
    "      represents a heart shape (that's rotated 90 degrees, like other\n",
    "      emoticons and smileys) and is a common abbreviation for \"loves.\" Given\n",
    "      the nature of the query, it's not surprising to see a value like\n",
    "      <code class=\"literal\">&amp;lt;3</code>, although it may initially\n",
    "      seem like junk or noise."
   ]
  },
  {
   "cell_type": "markdown",
   "metadata": {},
   "source": [
    "Although the entities with a frequency greater than two are\n",
    "      interesting, the broader results are also revealing in other ways. For\n",
    "      example, \"RT\" was a very common token, implying that there were a\n",
    "      significant number of retweets (we'll investigate this observation\n",
    "      further in &#8220;Examining Patterns in Retweets&#8221;). Finally, as\n",
    "      might be expected, the \\#MentionSomeoneImportantForYou hashtag and a\n",
    "      couple of case-sensitive variations dominated the hashtags; a\n",
    "      data-processing takeaway is that it would be worthwhile to normalize\n",
    "      each word, screen name, and hashtag to lowercase when tabulating\n",
    "      frequencies since there will inevitably be variation in tweets."
   ]
  },
  {
   "cell_type": "markdown",
   "metadata": {},
   "source": [
    "## Computing the Lexical Diversity of Tweets"
   ]
  },
  {
   "cell_type": "markdown",
   "metadata": {},
   "source": [
    "A slightly more advanced measurement that involves calculating simple\n",
    "      frequencies and can be applied to unstructured text is a metric called\n",
    "      <span class=\"emphasis\"><em>lexical diversity</em></span>. Mathematically, this is an\n",
    "      expression of the number of <span class=\"emphasis\"><em>unique</em></span> tokens in the\n",
    "      text divided by the <span class=\"emphasis\"><em>total</em></span> number of tokens in the\n",
    "      text, which are both elementary yet important metrics in and of\n",
    "      themselves. Lexical diversity is an interesting concept in the area of\n",
    "      interpersonal communications because it provides a quantitative measure\n",
    "      for the diversity of an individual's or group's vocabulary. For example,\n",
    "      suppose you are listening to someone who repeatedly says \"and stuff\" to\n",
    "      broadly generalize information as opposed to providing specific examples\n",
    "      to reinforce points with more detail or clarity. Now, contrast that\n",
    "      speaker to someone else who seldom uses the word \"stuff\" to generalize\n",
    "      and instead reinforces points with concrete examples. The speaker who\n",
    "      repeatedly says \"and stuff\" would have a lower lexical diversity than\n",
    "      the speaker who uses a more diverse vocabulary, and chances are\n",
    "      reasonably good that you'd walk away from the conversation feeling as\n",
    "      though the speaker with the higher lexical diversity understands the\n",
    "      subject matter better."
   ]
  },
  {
   "cell_type": "markdown",
   "metadata": {},
   "source": [
    "As applied to tweets or similar online communications, lexical\n",
    "      diversity can be worth considering as a primitive statistic for\n",
    "      answering a number of questions, such as how broad or narrow the subject\n",
    "      matter is that an individual or group discusses. Although an overall\n",
    "      assessment could be interesting, breaking down the analysis to specific\n",
    "      time periods could yield additional insight, as could comparing\n",
    "      different groups or individuals. For example, it would be interesting to\n",
    "      measure whether or not there is a significant difference between the\n",
    "      lexical diversity of two soft drink companies such as <a class=\"ulink\" href=\"http://bit.ly/1a1l5xR\" target=\"\\_top\">Coca-Cola</a> and <a class=\"ulink\" href=\"http://bit.ly/1a1l7pt\" target=\"\\_top\">Pepsi</a> as an entry point for\n",
    "      exploration if you were comparing the effectiveness of their social\n",
    "      media marketing campaigns on Twitter."
   ]
  },
  {
   "cell_type": "markdown",
   "metadata": {},
   "source": [
    "With a basic understanding of how to use a statistic like lexical\n",
    "      diversity to analyze textual content such as tweets, let's now compute\n",
    "      the lexical diversity for statuses, screen names, and hashtags for our\n",
    "      working data set, as shown in Example&#160;1.9, &#8220;Calculating lexical diversity for tweets&#8221;."
   ]
  },
  {
   "cell_type": "markdown",
   "metadata": {},
   "source": [
    "#### Example 1.9. Calculating lexical diversity for tweets"
   ]
  },
  {
   "cell_type": "code",
   "execution_count": 39,
   "metadata": {},
   "outputs": [
    {
     "name": "stdout",
     "output_type": "stream",
     "text": [
      "0.23297199638663052\n",
      "0.32575757575757575\n",
      "0.1634349030470914\n",
      "18.45\n"
     ]
    }
   ],
   "source": [
    "# A function for computing lexical diversity\n",
    "def lexical_diversity(tokens):\n",
    "    return len(set(tokens))/len(tokens) \n",
    "\n",
    "# A function for computing the average number of words per tweet\n",
    "def average_words(statuses):\n",
    "    total_words = sum([ len(s.split()) for s in statuses ]) \n",
    "    return total_words/len(statuses)\n",
    "\n",
    "print(lexical_diversity(words))\n",
    "print(lexical_diversity(screen_names))\n",
    "print(lexical_diversity(hashtags))\n",
    "print(average_words(status_texts))\n",
    "\n",
    "#\n",
    "# 0.23297199638663052\n",
    "# 0.32575757575757575\n",
    "# 0.1634349030470914\n",
    "# 18.45\n",
    "\n",
    "# Above results on 2-Nov-2018 indicate -\n",
    "\n",
    "# * Only one in every five words is unique.\n",
    "# * Lots of repeating screen names, so people are tweeting multiple tweets for hashtag.\n",
    "# * Diversity of hashtags is low, so people are not tagging tweets with additional tags.\n",
    "# * Average words per tweet is quite high which indicates that people are writing more than sharing videos or images.\n"
   ]
  },
  {
   "cell_type": "markdown",
   "metadata": {},
   "source": [
    "The results of Example&#160;1.9, &#8220;Calculating lexical diversity for tweets&#8221;\n",
    "      follow:"
   ]
  },
  {
   "cell_type": "markdown",
   "metadata": {},
   "source": [
    "<pre>0.67610619469\n",
    "0.955414012739\n",
    "0.0686274509804\n",
    "5.76530612245</pre>"
   ]
  },
  {
   "cell_type": "markdown",
   "metadata": {},
   "source": [
    "There are a few observations worth considering in the\n",
    "      results:"
   ]
  },
  {
   "cell_type": "markdown",
   "metadata": {},
   "source": [
    "<ul class=\"itemizedlist\">\n",
    "              <li class=\"listitem\">\n",
    "                <p>The lexical diversity of the words in the text of the tweets\n",
    "            is around 0.67. One way to interpret that figure would be to say\n",
    "            that about two out of every three words is unique, or you might\n",
    "            say that each status update carries around 67% unique information.\n",
    "            Given that the average number of words in each tweet is around\n",
    "            six, that translates to about four unique words per tweet.\n",
    "            Intuition aligns with the data in that the nature of a\n",
    "            \\#MentionSomeoneImportantForYou trending hashtag is to solicit a\n",
    "            response that will probably be a few words long. In any event, a\n",
    "            value of 0.67 is on the high side for lexical diversity of\n",
    "            ordinary human communication, but given the nature of the data, it\n",
    "            seems very reasonable.</p>\n",
    "              </li>\n",
    "              <li class=\"listitem\">\n",
    "                <p>The lexical diversity of the screen names, however, is even higher, with a value\n",
    "            of 0.95, which means that about 19 out of 20 screen names\n",
    "            mentioned are unique. This observation also makes sense given that\n",
    "            many answers to the question will be a screen name, and that most\n",
    "            people won't be providing the same responses for the solicitous\n",
    "            hashtag.</p>\n",
    "              </li>\n",
    "              <li class=\"listitem\">\n",
    "                <p>The lexical diversity of the hashtags is extremely low at a value of around 0.068, implying\n",
    "            that very few values other than the \\#MentionSomeoneImportantForYou\n",
    "            hashtag appear multiple times in the results. Again, this makes\n",
    "            good sense given that most responses are short and that hashtags\n",
    "            really wouldn't make much sense to introduce as a response to the\n",
    "            prompt of mentioning someone important for you.</p>\n",
    "              </li>\n",
    "              <li class=\"listitem\">\n",
    "                <p>The average number of words per tweet is very low at a value\n",
    "            of just under 6, which makes sense given the nature of the\n",
    "            hashtag, which is designed to solicit short responses consisting\n",
    "            of just a few words.</p>\n",
    "              </li>\n",
    "            </ul>"
   ]
  },
  {
   "cell_type": "markdown",
   "metadata": {},
   "source": [
    "What would be interesting at this point would be to zoom in on\n",
    "      some of the data and see if there were any common responses or other\n",
    "      insights that could come from a more qualitative analysis. Given an\n",
    "      average number of words per tweet as low as 6, it's unlikely that users\n",
    "      applied any abbreviations to stay within the 140 characters, so the\n",
    "      amount of noise for the data should be remarkably low, and additional\n",
    "      frequency analysis may reveal some fascinating things."
   ]
  },
  {
   "cell_type": "markdown",
   "metadata": {},
   "source": [
    "## Examining Patterns in Retweets"
   ]
  },
  {
   "cell_type": "markdown",
   "metadata": {},
   "source": [
    "Even though the user interface and many Twitter clients have long since adopted\n",
    "      the native Retweet API used to populate status values such as <code class=\"literal\">retweet\\_count</code> and <code class=\"literal\">retweeted\\_status</code>, some Twitter users may prefer to <a class=\"ulink\" href=\"http://bit.ly/1a1l7FZ\" target=\"\\_top\">quote a tweet</a>, which entails a workflow involving copying and pasting the text\n",
    "      and prepending \"RT @<span class=\"emphasis\"><em>username</em></span>\" or suffixing \"/via\n",
    "      @<span class=\"emphasis\"><em>username</em></span>\" to provide attribution."
   ]
  },
  {
   "cell_type": "markdown",
   "metadata": {},
   "source": [
    "<blockquote><div><strong>Note:</strong></div><p>When mining Twitter data, you'll probably want to both account\n",
    "        for the tweet metadata and use heuristics to analyze the 140\n",
    "        characters for conventions such as \"RT @<span class=\"emphasis\"><em>username</em></span>\"\n",
    "        or \"/via @<span class=\"emphasis\"><em>username</em></span>\" when considering retweets, in\n",
    "        order to maximize the efficacy of your analysis. See &#8220;Finding Users Who Have Retweeted a Status&#8221; for a more\n",
    "        detailed discussion on retweeting with Twitter's native Retweet API\n",
    "        versus \"quoting\" tweets and using conventions to apply\n",
    "        attribution.</p></blockquote>"
   ]
  },
  {
   "cell_type": "markdown",
   "metadata": {},
   "source": [
    "A good exercise at this point would be to further analyze the data\n",
    "      to determine if there was a particular tweet that was highly retweeted\n",
    "      or if there were just lots of \"one-off\" retweets. The approach we'll\n",
    "      take to find the most popular retweets is to simply iterate over each\n",
    "      status update and store out the retweet count, originator of the\n",
    "      retweet, and text of the retweet if the status update is a retweet.\n",
    "      Example&#160;1.10, &#8220;Finding the most popular retweets&#8221; demonstrates how to capture\n",
    "      these values with a list comprehension and sort by the retweet count to\n",
    "      display the top few results."
   ]
  },
  {
   "cell_type": "markdown",
   "metadata": {},
   "source": [
    "#### Example 1.10. Finding the most popular retweets"
   ]
  },
  {
   "cell_type": "code",
   "execution_count": 55,
   "metadata": {},
   "outputs": [
    {
     "name": "stdout",
     "output_type": "stream",
     "text": [
      "[(548, 'BCCI', 'RT @BCCI: Captain Kohli with a heart-warming gesture before the start of game at The Gabba #TeamIndia #AUSvIND https://t.co/KPANHQ78FT', 1065188872034881536), (548, 'BCCI', 'RT @BCCI: Captain Kohli with a heart-warming gesture before the start of game at The Gabba #TeamIndia #AUSvIND https://t.co/KPANHQ78FT', 1065188870080397312), (1, 'cricketcomau', 'RT @cricketcomau: Behrendorff with the ball as India begin their run chase. Rohit and Shikhar opening the batting.\\n\\n174 needed from 17 over…', 1065188867190530048), (990, 'SPNSportsIndia', 'RT @SPNSportsIndia: Sparks will fly when two megastars, @rajinikanth and @akshaykumar meet on screen, and when India and Australia meet on…', 1065188860760489984), (4, 'BCCI', 'RT @BCCI: 1st T20I. 0.4: J Behrendorff to S Dhawan (8), 4 runs, 11/0 https://t.co/LxNw8DrJvS #AusvInd', 1065188855618387968), (16, 'UPStatsman', 'RT @UPStatsman: Krunal Pandya conceded 55 runs today from 4 overs\\n\\n- The third most by an Indian bowler in T20Is\\n- The third most by a bowl…', 1065188846428508160), (11, 'ESPNcricinfo', 'RT @ESPNcricinfo: Only five runs off the final five balls for Australia, who finish on 4/158 in 17 overs. Maxwell top-scores with 46\\n\\nIndia…', 1065188843467522048), (548, 'BCCI', 'RT @BCCI: Captain Kohli with a heart-warming gesture before the start of game at The Gabba #TeamIndia #AUSvIND https://t.co/KPANHQ78FT', 1065188829655588868), (7, 'TuahaSohail', \"RT @TuahaSohail: My sources tell me that Rohit Sharma group is intentionally underperforming in Kohli's captaincy. This is sad. Country fir…\", 1065188828938289152), (27, 'ICC', 'RT @ICC: Play is about to resume!\\n\\nAustralia will bat five more balls, making this a 17 over match. Their score will then be adjusted by DL…', 1065188798680621057), (18, 'AskRishabh', 'RT @AskRishabh: Hardik: Bhai aus tour par jaa rha meri kami mat mehsoos hone dena\\n\\nKrunal: \\n\\n#AUSvIND https://t.co/Ql3KpFjB1o', 1065188790807851009), (12, 'ICC', 'RT @ICC: Australia finish their innings on 158/4 from their 17 overs. India will need 174 to win according to the DLS method. \\n\\nGlenn Maxwe…', 1065188781802827781), (548, 'BCCI', 'RT @BCCI: Captain Kohli with a heart-warming gesture before the start of game at The Gabba #TeamIndia #AUSvIND https://t.co/KPANHQ78FT', 1065188777579155456), (7, 'mipaltan', 'RT @mipaltan: Rohit Sharma and Shikhar Dhawan make their way to the middle. India will chase a revised target of 174 from 17 overs. \\n\\n#Cric…', 1065188774894694400), (83, 'cricketaakash', 'RT @cricketaakash: Team had chosen Rahul over Pandey. Can understand why. But where does Rahul bat? I wouldn’t want to put Kohli at 4. Woul…', 1065188756733325313), (11, 'ESPNcricinfo', 'RT @ESPNcricinfo: Only five runs off the final five balls for Australia, who finish on 4/158 in 17 overs. Maxwell top-scores with 46\\n\\nIndia…', 1065188718728892421), (17, 'cricbuzz', \"RT @cricbuzz: India's DLS-adjusted target is 174, after Australia finish with 158/4 in their 17 overs #AUSvIND\\n\\nhttps://t.co/YIVPDIIN6l\", 1065188718712160256), (2, 'CSKian716', 'RT @CSKian716: This is crazy stuff from Bumrah. Watch a cricket fan fall in love with this guy one ball at a time. #AUSvIND', 1065188702488453122), (39, 'its_tabrez_', 'RT @its_tabrez_: Sorry 🙏😅\\n\\n#AUSvIND #Bumrah https://t.co/B4vFIbo0oh', 1065188698130542592), (2, 'KKRiders', 'RT @KKRiders: The chase begins!\\n\\nS Dhawan &amp; R Sharma walk out to open the innings for #TeamIndia 🇮🇳\\n\\n#AUSvIND #KorboLorboJeetbo', 1065188693084958720), (177, 'cricketcomau', 'RT @cricketcomau: \"It\\'s hit the Fox!\"\\n\\nJust wait for the camera shot at the end! #AUSvIND https://t.co/yoouEWxc9u', 1065188685254144000), (2, 'KKRiders', 'RT @KKRiders: The chase begins!\\n\\nS Dhawan &amp; R Sharma walk out to open the innings for #TeamIndia 🇮🇳\\n\\n#AUSvIND #KorboLorboJeetbo', 1065188683995766785), (137, 'BCCI', 'RT @BCCI: It an all clear. It will be a 17 over game. #TeamIndia will bowl 5 more deliveries. Play to restart 8:05PM local time #AUSvIND ht…', 1065188672557830144), (4, 'BCCI', 'RT @BCCI: 1st T20I. 0.4: J Behrendorff to S Dhawan (8), 4 runs, 11/0 https://t.co/LxNw8DrJvS #AusvInd', 1065188669672296448), (548, 'BCCI', 'RT @BCCI: Captain Kohli with a heart-warming gesture before the start of game at The Gabba #TeamIndia #AUSvIND https://t.co/KPANHQ78FT', 1065188666237014017), (137, 'BCCI', 'RT @BCCI: It an all clear. It will be a 17 over game. #TeamIndia will bowl 5 more deliveries. Play to restart 8:05PM local time #AUSvIND ht…', 1065188661979828230), (990, 'SPNSportsIndia', 'RT @SPNSportsIndia: Sparks will fly when two megastars, @rajinikanth and @akshaykumar meet on screen, and when India and Australia meet on…', 1065188641234837505), (17, 'cricbuzz', \"RT @cricbuzz: India's DLS-adjusted target is 174, after Australia finish with 158/4 in their 17 overs #AUSvIND\\n\\nhttps://t.co/YIVPDIIN6l\", 1065188622373191680), (3, 'khushikadri', 'RT @khushikadri: Yeh Lo Ab Humko 174 Runs Chase Karne Padenge 😏\\n\\nJab Ke Unhone Sirf 154 Runs Maare \\n\\nBohot Na Insaafi Hai Yeh 😪 🎣 \\n\\nUnki Co…', 1065188612348596230), (11, 'ESPNcricinfo', 'RT @ESPNcricinfo: Only five runs off the final five balls for Australia, who finish on 4/158 in 17 overs. Maxwell top-scores with 46\\n\\nIndia…', 1065188609689600000), (202, 'imVlkohli', 'RT @imVlkohli: Oily hands after eating food made from #SaffolaOil is not good for fielding. You miss catches &amp; fielding like me &amp; my boys.…', 1065188590622146560), (2, 'KKRiders', 'RT @KKRiders: Rain reduces the game to 17 overs but staggering knocks from G Maxwell (46), @lynny50 (37) &amp; M Stoinis (33*) help Australia s…', 1065188589502431234), (18, 'cricketcomau', 'RT @cricketcomau: The revised target is in with confirmation that India need 174 to win from their 17 overs.\\n\\nStream via Kayo in our match…', 1065188587912790016), (1, 'ajmalkabeer_', 'RT @ajmalkabeer_: #AUSvIND 1st T20\\n\\n#Australia -  158/4 (17.1)\\n\\n#India Need 174 Runs From 17 Overs (D/L)', 1065188582019620864), (21, 'SampathStats', \"RT @SampathStats: India will be chasing 174 in 17 overs. 15 runs added to Australia's total of 158/4 via DLS. #AUSvIND\", 1065188552072486913), (1, 'suneerchowdhary', \"RT @suneerchowdhary: Australia scored 158 and the target's jumped up to 174 - quite a jump especially given Bumrah and Bhuvneshwar had an o…\", 1065188550650544128), (4, 'GuideforAll', \"RT @GuideforAll: 🔸India's 1st Sri Vishwakarma Skill Development University will come up in which state ?\\n- #Haryana\\n\\n🔸Which country recentl…\", 1065188548561829888), (66, 'cricketcomau', 'RT @cricketcomau: UPDATE: Play set to resume at 8:05pm local time. It will be 17 overs per side, so Australia will face five more balls wit…', 1065188529251209216), (16, 'Cricketracker', 'RT @Cricketracker: Glenn Maxwell hits form as IPL Auction is on the way. #AUSvIND #IPL https://t.co/xJDVZFLaDO', 1065188527082737664), (27, 'ICC', 'RT @ICC: Play is about to resume!\\n\\nAustralia will bat five more balls, making this a 17 over match. Their score will then be adjusted by DL…', 1065188516785725440), (217, 'LMKMovieManiac', 'RT @LMKMovieManiac: #AkshayKumar promoting #2Point0 along with the soon to begin India tour of Australia cricket matches.. \\n\\n#2Point0FromNo…', 1065188490575532032), (11, 'Cinemabuz', 'RT @Cinemabuz: #2Point0 Promotions goes sky-high at #AUSvIND t20 match #Rajinikanth #Akshaykumar https://t.co/160nHjgpNk', 1065188485965828096), (548, 'BCCI', 'RT @BCCI: Captain Kohli with a heart-warming gesture before the start of game at The Gabba #TeamIndia #AUSvIND https://t.co/KPANHQ78FT', 1065188466391040000), (4, 'CricProf', 'RT @CricProf: Maxwell v Bumrah - Head to Head in T20s\\n\\nInnings - 7\\nDismissals- 5\\nRuns - 38\\nStrike Rate - 115.2\\nFalse Shot Percentage - 42.8…', 1065188465841750017), (10, 'ESPNcric_stats', \"RT @ESPNcric_stats: If Australia don't bat any more, India's target from 16 overs will be 172 #AUSvIND\", 1065188450066989056), (7, 'cricketcomau', 'RT @cricketcomau: After an hour delay, the players are back out in the middle! Stoinis 31* and Maxwell 46*.\\n\\nStream live via Kayo in our ma…', 1065188446141128704), (12, 'ICC', 'RT @ICC: Australia finish their innings on 158/4 from their 17 overs. India will need 174 to win according to the DLS method. \\n\\nGlenn Maxwe…', 1065188439711191040), (1, 'NorthStandGang', \"RT @NorthStandGang: Just to show that we're playing in Australia, we start the tour off with a 3.\\nOff and running!\\n#AUSvIND\", 1065188424217493506), (102, 'cricketcomau', 'RT @cricketcomau: Upper decker! Chris Lynn launched a 108m six into the hands of Old Mate in the stands 🙌\\n\\n#AUSvIND @bet365_aus https://t.c…', 1065188423378575360), (990, 'SPNSportsIndia', 'RT @SPNSportsIndia: Sparks will fly when two megastars, @rajinikanth and @akshaykumar meet on screen, and when India and Australia meet on…', 1065188418865442816), (12, 'ICC', 'RT @ICC: Australia finish their innings on 158/4 from their 17 overs. India will need 174 to win according to the DLS method. \\n\\nGlenn Maxwe…', 1065188405552664576), (12, 'ICC', 'RT @ICC: Australia finish their innings on 158/4 from their 17 overs. India will need 174 to win according to the DLS method. \\n\\nGlenn Maxwe…', 1065188401165426688), (6, 'RCBTweets', 'RT @RCBTweets: So 🇮🇳 will need 174 runs to win in their stipulated 17 overs. \\n\\nCan #TeamIndia chase this or will 🇦🇺 emerge victorious?\\n\\n#AU…', 1065188390109241345), (67, 'RCBTweets', 'RT @RCBTweets: .@imVkohli has won the toss and elected to field first. \\n\\n🇮🇳 XI: Rohit, Dhawan, Rahul, @imVkohli, Karthik, Pant, Krunal, Bhu…', 1065188379573141504), (7, 'mipaltan', 'RT @mipaltan: Rohit Sharma and Shikhar Dhawan make their way to the middle. India will chase a revised target of 174 from 17 overs. \\n\\n#Cric…', 1065188376192548864), (86, 'gaurav_sundar', 'RT @gaurav_sundar: Kohli is not a big fan of match ups but Rohit is. In this format I believe it matters a lot. Kohli has a set template to…', 1065188371012571137), (1, 'DelhiDaredevils', 'RT @DelhiDaredevils: .@SDhawan25 and @ImRo45 stride out to the middle! India need 174 to win.\\n\\n#AUSvIND #DilDilli #Dhadkega', 1065188368034627589), (2, 'BCCI', 'RT @BCCI: 1st T20I. 0.2: J Behrendorff to S Dhawan (4), 4 runs, 7/0 https://t.co/LxNw8DrJvS #AusvInd', 1065188361063796737), (548, 'BCCI', 'RT @BCCI: Captain Kohli with a heart-warming gesture before the start of game at The Gabba #TeamIndia #AUSvIND https://t.co/KPANHQ78FT', 1065188356760301568), (1, 'FoxCricket', 'RT @FoxCricket: The chase is on! Sharma and Dhawan open for India. Behrendorff to bowl the first over \\n\\n#AusvInd\\n📺 Watch LIVE on Fox Cricke…', 1065188355502030848), (8, 'ESPNcricinfo', 'RT @ESPNcricinfo: The match has been reduced to 17 overs a side at the Gabba \\n\\nPlay to resume in a few minutes\\n\\nhttps://t.co/Od8fIu6xym #AU…', 1065188347033911296), (12, 'ICC', 'RT @ICC: Australia finish their innings on 158/4 from their 17 overs. India will need 174 to win according to the DLS method. \\n\\nGlenn Maxwe…', 1065188314083459077), (110, 'BCCI', \"RT @BCCI: It's pouring here at The Gabba. We will get back with an update soon #TeamIndia #AUSvIND https://t.co/nmNkWYJjX2\", 1065188312946593794), (12, 'ICC', 'RT @ICC: Australia finish their innings on 158/4 from their 17 overs. India will need 174 to win according to the DLS method. \\n\\nGlenn Maxwe…', 1065188309343686657), (548, 'BCCI', 'RT @BCCI: Captain Kohli with a heart-warming gesture before the start of game at The Gabba #TeamIndia #AUSvIND https://t.co/KPANHQ78FT', 1065188309284999169), (137, 'BCCI', 'RT @BCCI: It an all clear. It will be a 17 over game. #TeamIndia will bowl 5 more deliveries. Play to restart 8:05PM local time #AUSvIND ht…', 1065188303954108417), (27, 'ICC', 'RT @ICC: Play is about to resume!\\n\\nAustralia will bat five more balls, making this a 17 over match. Their score will then be adjusted by DL…', 1065188298086391808), (1, 'PatelOnTop', \"RT @PatelOnTop: AAP leader tells lady TV anchor to 'become a prostitute'\\nये भड़वा केजरीवाल अपनी बेटी को कोठे पर कब बिठायेगा😣\\n\\n#BreatheFit\\n#…\", 1065188290863738880), (12, 'ICC', 'RT @ICC: Australia finish their innings on 158/4 from their 17 overs. India will need 174 to win according to the DLS method. \\n\\nGlenn Maxwe…', 1065188268126289920), (38, 'trollsangh', \"RT @trollsangh: Educate your children. don't make him a #Chaiwala 😣😣😣\\n#AusvsIndonSonyLIV #EidMiladUnNabi #AUSvIND #TrollSangh #Sabarimala\\n#…\", 1065188265718886400), (2, 'NewsNationTV', 'RT @NewsNationTV: Careless shot from Aaron Finch. Kuldeep Yadav bowls the googly and gets the ball to spin away, Finch miscues the slog and…', 1065188263315431425), (7, 'mipaltan', 'RT @mipaltan: Rohit Sharma and Shikhar Dhawan make their way to the middle. India will chase a revised target of 174 from 17 overs. \\n\\n#Cric…', 1065188262573043713), (18, 'RCBTweets', 'RT @RCBTweets: Bumrah does what he does best! \\n\\nMatch reduced to 17 overs and Bumrah delivers an exceptional last over.\\n\\n🇦🇺 still post a ch…', 1065188257304985603), (548, 'BCCI', 'RT @BCCI: Captain Kohli with a heart-warming gesture before the start of game at The Gabba #TeamIndia #AUSvIND https://t.co/KPANHQ78FT', 1065188256340275201), (6, 'cricbuzz', 'RT @cricbuzz: The dangerous Chris Lynn is undone by Kuldeep who is in the middle of a lovely spell #AUSvIND \\n\\nhttps://t.co/YIVPDIIN6l', 1065188255820214273), (39, 'its_tabrez_', 'RT @its_tabrez_: Sorry 🙏😅\\n\\n#AUSvIND #Bumrah https://t.co/B4vFIbo0oh', 1065188233326129153), (69, 'SirJadeja', 'RT @SirJadeja: 👉1st Wicket: c Kuldeep b Khaleel \\n👉2nd Wicket: c Khaleel b Kuldeep\\n👉3rd Wicket: c&amp;b Kuldeep Yadav\\n\\nSeems India Is Playing Wi…', 1065188227080839169), (137, 'BCCI', 'RT @BCCI: It an all clear. It will be a 17 over game. #TeamIndia will bowl 5 more deliveries. Play to restart 8:05PM local time #AUSvIND ht…', 1065188220965548032), (4, 'NWN2019', \"RT @NWN2019: Top CEOs have this to say about PM @narendramodi 's reforms👂\\n\\n#EaseOfDoingBusiness #AUSvIND #breathefit #arrestkamalnath https…\", 1065188212153311232), (3, 'khushikadri', 'RT @khushikadri: Yeh Lo Ab Humko 174 Runs Chase Karne Padenge 😏\\n\\nJab Ke Unhone Sirf 154 Runs Maare \\n\\nBohot Na Insaafi Hai Yeh 😪 🎣 \\n\\nUnki Co…', 1065188198622683136), (202, 'imVlkohli', 'RT @imVlkohli: Oily hands after eating food made from #SaffolaOil is not good for fielding. You miss catches &amp; fielding like me &amp; my boys.…', 1065188190846373888), (6, 'indiancricfans1', 'RT @indiancricfans1: Comment your #Opinion \\nVirat Kohli has a record for most runs in a #calendar year in #T20Is.  641 runs in 2016. Now #R…', 1065188188837171200), (3, 'statanalyst', 'RT @statanalyst: No team has ever managed to score more than 164 in 17 overs in T20I run-chases in Australia. The task is against Team Indi…', 1065188187239178241), (1, 'mytentaran', 'RT @mytentaran: IPL 2019: Full list of players retained, released and traded \\n#IPL #INDvAUS #AUSvIND #Tentaran \\n\\n https://t.co/F5lwXk89sz', 1065188185989238785), (177, 'cricketcomau', 'RT @cricketcomau: \"It\\'s hit the Fox!\"\\n\\nJust wait for the camera shot at the end! #AUSvIND https://t.co/yoouEWxc9u', 1065188183204225024), (548, 'BCCI', 'RT @BCCI: Captain Kohli with a heart-warming gesture before the start of game at The Gabba #TeamIndia #AUSvIND https://t.co/KPANHQ78FT', 1065188182445064192), (78, 'mohanstatsman', 'RT @mohanstatsman: If India has to bat now, their target in 16 overs will be 172\\n#IndvAus\\n#AusvInd', 1065188177248346112), (12, 'ICC', 'RT @ICC: Australia finish their innings on 158/4 from their 17 overs. India will need 174 to win according to the DLS method. \\n\\nGlenn Maxwe…', 1065188164925501445), (78, 'BCCI', 'RT @BCCI: 1st T20I. India win the toss and elect to field https://t.co/LxNw8DrJvS #AusvInd', 1065188155014488065), (202, 'imVlkohli', 'RT @imVlkohli: Oily hands after eating food made from #SaffolaOil is not good for fielding. You miss catches &amp; fielding like me &amp; my boys.…', 1065188150262280193), (6, 'Official_Ayush', 'RT @Official_Ayush: @SPNSportsIndia @SPNSportsIndia this is going to be the worst experience of such a high profile #AUSvIND series if you…', 1065188146772500480), (548, 'BCCI', 'RT @BCCI: Captain Kohli with a heart-warming gesture before the start of game at The Gabba #TeamIndia #AUSvIND https://t.co/KPANHQ78FT', 1065188135754063873), (137, 'BCCI', 'RT @BCCI: It an all clear. It will be a 17 over game. #TeamIndia will bowl 5 more deliveries. Play to restart 8:05PM local time #AUSvIND ht…', 1065188124270059521), (3, 'madam_jadeja', 'RT @madam_jadeja: Who is better Bowler in T20s? \\U0001f914\\n\\n#KrunalPandya #INDvAUS #AUSvIND', 1065188119484477440), (548, 'BCCI', 'RT @BCCI: Captain Kohli with a heart-warming gesture before the start of game at The Gabba #TeamIndia #AUSvIND https://t.co/KPANHQ78FT', 1065188113671106560), (120, 'sanjaymanjrekar', 'RT @sanjaymanjrekar: I know Krunal is a very tempting option to have in the team, but he must never come in place of Chahal or Kuldeep. It…', 1065188090803888129), (21, 'SampathStats', \"RT @SampathStats: India will be chasing 174 in 17 overs. 15 runs added to Australia's total of 158/4 via DLS. #AUSvIND\", 1065188086999539713), (7, 'mipaltan', 'RT @mipaltan: Rohit Sharma and Shikhar Dhawan make their way to the middle. India will chase a revised target of 174 from 17 overs. \\n\\n#Cric…', 1065188082922663939), (177, 'cricketcomau', 'RT @cricketcomau: \"It\\'s hit the Fox!\"\\n\\nJust wait for the camera shot at the end! #AUSvIND https://t.co/yoouEWxc9u', 1065188082197192704), (12, 'ICC', 'RT @ICC: Australia finish their innings on 158/4 from their 17 overs. India will need 174 to win according to the DLS method. \\n\\nGlenn Maxwe…', 1065188063356145664), (7, 'mipaltan', 'RT @mipaltan: Rohit Sharma and Shikhar Dhawan make their way to the middle. India will chase a revised target of 174 from 17 overs. \\n\\n#Cric…', 1065188062945267712), (25, 'cricbuzz', 'RT @cricbuzz: Play to resume at 8.05pm local (3.35pm IST)\\n\\nAustralia will face five more balls as this match is now a 17-over affair #AUSvI…', 1065188054434930688), (17, 'sportsbetcomau', 'RT @sportsbetcomau: Hitting the Spider Cam should be like catching the Golden Snitch. Game over and your team wins instantly. #AUSvIND', 1065188053872979968), (20, 'gauravkalra75', 'RT @gauravkalra75: maxwell in the middle of another IPL auction audition #AUSvIND', 1065188025758507010), (58, 'ICC', 'RT @ICC: Rain has stopped play in Brisbane! \\U0001f327️\\n\\nAustralia are 153/3 after 16.1 overs with Glenn Maxwell on 46 and Marcus Stoinis on 31.\\n\\n#A…', 1065188025553100801), (990, 'SPNSportsIndia', 'RT @SPNSportsIndia: Sparks will fly when two megastars, @rajinikanth and @akshaykumar meet on screen, and when India and Australia meet on…', 1065188003629289472), (78, 'mohanstatsman', 'RT @mohanstatsman: If India has to bat now, their target in 16 overs will be 172\\n#IndvAus\\n#AusvInd', 1065187990077607936), (17, 'cricbuzz', \"RT @cricbuzz: India's DLS-adjusted target is 174, after Australia finish with 158/4 in their 17 overs #AUSvIND\\n\\nhttps://t.co/YIVPDIIN6l\", 1065187983828140032), (70, 'FoxSportsLab', 'RT @FoxSportsLab: .@imVkohli has scored the most T20I runs by any batsman against Australia\\n\\nKohli scored 199 runs @ 160.48 SR in his last…', 1065187981974212614), (3, 'khushikadri', 'RT @khushikadri: Yeh Lo Ab Humko 174 Runs Chase Karne Padenge 😏\\n\\nJab Ke Unhone Sirf 154 Runs Maare \\n\\nBohot Na Insaafi Hai Yeh 😪 🎣 \\n\\nUnki Co…', 1065187971601715202), (2, 'imtuhindixit', 'RT @imtuhindixit: #AusvsIndonSonyLIV  Rain was blessing in disguise for India..they save khaleel over and who was bowling last 5 balls..its…', 1065187963988959232), (6, 'RCBTweets', 'RT @RCBTweets: So 🇮🇳 will need 174 runs to win in their stipulated 17 overs. \\n\\nCan #TeamIndia chase this or will 🇦🇺 emerge victorious?\\n\\n#AU…', 1065187962990678016), (7, 'mipaltan', 'RT @mipaltan: Rohit Sharma and Shikhar Dhawan make their way to the middle. India will chase a revised target of 174 from 17 overs. \\n\\n#Cric…', 1065187957286428672), (3, 'IndiaToday', 'RT @IndiaToday: #INDvAUS #AUSvIND Australia finish with 158/4 after a rain break reduced the match to 17-overs-a-side. But India will chase…', 1065187952660226048), (548, 'BCCI', 'RT @BCCI: Captain Kohli with a heart-warming gesture before the start of game at The Gabba #TeamIndia #AUSvIND https://t.co/KPANHQ78FT', 1065187944145674240), (39, 'its_tabrez_', 'RT @its_tabrez_: Sorry 🙏😅\\n\\n#AUSvIND #Bumrah https://t.co/B4vFIbo0oh', 1065187918392713216), (7, 'mipaltan', 'RT @mipaltan: Rohit Sharma and Shikhar Dhawan make their way to the middle. India will chase a revised target of 174 from 17 overs. \\n\\n#Cric…', 1065187917688057856), (49, 'Dr_SimranSingh', 'RT @Dr_SimranSingh: सोमनाथ भारती जिसे तू धंधे वाली बोल रहा है उसी धंधे वाली की दोस्त तेरी बेटी है\\n\\nइस हिसाब से तो तू अपनी बेटी को भी धंधे…', 1065187916228440064), (2, 'KKRiders', 'RT @KKRiders: Rain reduces the game to 17 overs but staggering knocks from G Maxwell (46), @lynny50 (37) &amp; M Stoinis (33*) help Australia s…', 1065187904555646976), (38, 'trollsangh', \"RT @trollsangh: Educate your children. don't make him a #Chaiwala 😣😣😣\\n#AusvsIndonSonyLIV #EidMiladUnNabi #AUSvIND #TrollSangh #Sabarimala\\n#…\", 1065187896427192320), (20, 'cricketcomau', 'RT @cricketcomau: Glenn Maxwell top-scored with 46 as Australia posted 4-158 from their 17 overs.\\n\\nInfo on the run chase coming soon: https…', 1065187887480795136), (27, 'ICC', 'RT @ICC: Play is about to resume!\\n\\nAustralia will bat five more balls, making this a 17 over match. Their score will then be adjusted by DL…', 1065187882074324992), (18, 'cricketcomau', 'RT @cricketcomau: The revised target is in with confirmation that India need 174 to win from their 17 overs.\\n\\nStream via Kayo in our match…', 1065187861157171201), (17, 'Sunildass1106', 'RT @Sunildass1106: #ThuppakkiMunai\\n#EidMiladUnNabi\\n#AUSvIND\\n#AUSvsIND\\nकुरान ज्ञानदाता हजरत मोहम्मद जी को बा खबर के बारे में जानकारी देता है…', 1065187858544119808), (22, 'cricketcomau', 'RT @cricketcomau: This looks promising! Covers coming off at the Gabba... #AUSvIND https://t.co/HW09hVOINP', 1065187845843886081), (6, 'RCBTweets', 'RT @RCBTweets: So 🇮🇳 will need 174 runs to win in their stipulated 17 overs. \\n\\nCan #TeamIndia chase this or will 🇦🇺 emerge victorious?\\n\\n#AU…', 1065187845344714752), (1, 'indiatvnews', 'RT @indiatvnews: #AUSvIND 1st T20I: The match has been reduced to 17 overs a-side at the Gabba. Play to resume soon. Australia 153/3 from 1…', 1065187843125927937), (202, 'imVlkohli', 'RT @imVlkohli: Oily hands after eating food made from #SaffolaOil is not good for fielding. You miss catches &amp; fielding like me &amp; my boys.…', 1065187842391924744), (1, 'sanelynormal', 'RT @sanelynormal: Hey if you want to watch fox cricket  coverage of #AUSvIND #INDvAUS here it is.\\n\\nhttps://t.co/rFVEQN1tH7', 1065187835399925760), (18, 'RCBTweets', 'RT @RCBTweets: Bumrah does what he does best! \\n\\nMatch reduced to 17 overs and Bumrah delivers an exceptional last over.\\n\\n🇦🇺 still post a ch…', 1065187822724820993), (1, 'IExpressSports', 'RT @IExpressSports: #AUSvIND \\n\\nIndia need 174 to win in 17 ovs (DLS). Can they chase it down? Rohit Sharma and Shikhar Dhawan out in the mi…', 1065187822334853123), (1, 'CricPlex', 'RT @CricPlex: Australia vs India, 1st T20I  \\U0001f3cf\\U0001f3cf\\nAustralia reach 1⃣5⃣8⃣/4 in 17 overs, the target for India is 1️⃣7️⃣4️⃣ as per D/L method. M…', 1065187812767608835), (990, 'SPNSportsIndia', 'RT @SPNSportsIndia: Sparks will fly when two megastars, @rajinikanth and @akshaykumar meet on screen, and when India and Australia meet on…', 1065187809093283841), (177, 'cricketcomau', 'RT @cricketcomau: \"It\\'s hit the Fox!\"\\n\\nJust wait for the camera shot at the end! #AUSvIND https://t.co/yoouEWxc9u', 1065187801677922306), (202, 'imVlkohli', 'RT @imVlkohli: Oily hands after eating food made from #SaffolaOil is not good for fielding. You miss catches &amp; fielding like me &amp; my boys.…', 1065187788054650881), (137, 'BCCI', 'RT @BCCI: It an all clear. It will be a 17 over game. #TeamIndia will bowl 5 more deliveries. Play to restart 8:05PM local time #AUSvIND ht…', 1065187787270287360), (137, 'BCCI', 'RT @BCCI: It an all clear. It will be a 17 over game. #TeamIndia will bowl 5 more deliveries. Play to restart 8:05PM local time #AUSvIND ht…', 1065187786054033408), (1, 'dipendra1988', 'RT @dipendra1988: #AUSvIND\\nThese tribals know better than us about how to deal with these fuckers...\\n\\n@noconversion\\n\\nhttps://t.co/0p5sLhjTCZ', 1065187774163234816), (6, 'RCBTweets', 'RT @RCBTweets: So 🇮🇳 will need 174 runs to win in their stipulated 17 overs. \\n\\nCan #TeamIndia chase this or will 🇦🇺 emerge victorious?\\n\\n#AU…', 1065187757293633536), (39, 'its_tabrez_', 'RT @its_tabrez_: Sorry 🙏😅\\n\\n#AUSvIND #Bumrah https://t.co/B4vFIbo0oh', 1065187753992716291), (78, 'BCCI', 'RT @BCCI: 1st T20I. India win the toss and elect to field https://t.co/LxNw8DrJvS #AusvInd', 1065187753179004928), (27, 'ICC', 'RT @ICC: Play is about to resume!\\n\\nAustralia will bat five more balls, making this a 17 over match. Their score will then be adjusted by DL…', 1065187730647339009), (15, 'Msd7official', 'RT @Msd7official: RT if you miss MS Dhoni in Today Match against Australia...\\n#AUSvIND #dhoni https://t.co/yt19w6xtGQ', 1065187723688984576), (7, 'SPNSportsIndia', 'RT @SPNSportsIndia: Reprieve for Marcus Stoinis!\\n\\nAlong with Maxwell, how much more damage can he do? \\U0001f914\\n\\n1st #AUSvIND T20I LIVE on SONY SIX…', 1065187717800054784), (6, 'RCBTweets', 'RT @RCBTweets: So 🇮🇳 will need 174 runs to win in their stipulated 17 overs. \\n\\nCan #TeamIndia chase this or will 🇦🇺 emerge victorious?\\n\\n#AU…', 1065187716810174464), (548, 'BCCI', 'RT @BCCI: Captain Kohli with a heart-warming gesture before the start of game at The Gabba #TeamIndia #AUSvIND https://t.co/KPANHQ78FT', 1065187709809913857), (27, 'ICC', 'RT @ICC: Play is about to resume!\\n\\nAustralia will bat five more balls, making this a 17 over match. Their score will then be adjusted by DL…', 1065187688699977728), (102, 'cricketcomau', 'RT @cricketcomau: Upper decker! Chris Lynn launched a 108m six into the hands of Old Mate in the stands 🙌\\n\\n#AUSvIND @bet365_aus https://t.c…', 1065187674196074496), (6, 'VirushkaUpdate_', 'RT @VirushkaUpdate_: @imVkohli with @Uz_Khawaja before start of the match ❤ #AUSvIND https://t.co/wKHdlmpoHa', 1065187669385211904), (39, 'its_tabrez_', 'RT @its_tabrez_: Sorry 🙏😅\\n\\n#AUSvIND #Bumrah https://t.co/B4vFIbo0oh', 1065187668051419137), (17, 'cricbuzz', \"RT @cricbuzz: India's DLS-adjusted target is 174, after Australia finish with 158/4 in their 17 overs #AUSvIND\\n\\nhttps://t.co/YIVPDIIN6l\", 1065187660967202822), (18, 'cricketcomau', 'RT @cricketcomau: The revised target is in with confirmation that India need 174 to win from their 17 overs.\\n\\nStream via Kayo in our match…', 1065187656991002625), (548, 'BCCI', 'RT @BCCI: Captain Kohli with a heart-warming gesture before the start of game at The Gabba #TeamIndia #AUSvIND https://t.co/KPANHQ78FT', 1065187655691001856), (30, 'RohitsAvenger', 'RT @RohitsAvenger: Misfielded, Dropped catch. So Kohli does exercise just to look good with Anushka in tv ads? #AUSvIND', 1065187643950952449), (86, 'gaurav_sundar', 'RT @gaurav_sundar: Kohli is not a big fan of match ups but Rohit is. In this format I believe it matters a lot. Kohli has a set template to…', 1065187635260321792), (67, 'RCBTweets', 'RT @RCBTweets: .@imVkohli has won the toss and elected to field first. \\n\\n🇮🇳 XI: Rohit, Dhawan, Rahul, @imVkohli, Karthik, Pant, Krunal, Bhu…', 1065187619967913984), (38, 'trollsangh', \"RT @trollsangh: Educate your children. don't make him a #Chaiwala 😣😣😣\\n#AusvsIndonSonyLIV #EidMiladUnNabi #AUSvIND #TrollSangh #Sabarimala\\n#…\", 1065187593510363136), (99, 'cricketcomau', 'RT @cricketcomau: Fair to say the Indian fans went a little wild when this man strolled out #AUSvIND https://t.co/Uo4KoWFVx0', 1065187587189465088), (1, 'rkvvss', 'RT @rkvvss: I saw ads during #AUSvIND which says #AirtelThanks &amp; @airtelindia is so generous in throwing biscuits in the form of #AmazonPri…', 1065187584983351296), (137, 'BCCI', 'RT @BCCI: It an all clear. It will be a 17 over game. #TeamIndia will bowl 5 more deliveries. Play to restart 8:05PM local time #AUSvIND ht…', 1065187584744116224), (3, 'IndiaToday', 'RT @IndiaToday: #INDvAUS #AUSvIND Australia finish with 158/4 after a rain break reduced the match to 17-overs-a-side. But India will chase…', 1065187575311163392), (137, 'BCCI', 'RT @BCCI: It an all clear. It will be a 17 over game. #TeamIndia will bowl 5 more deliveries. Play to restart 8:05PM local time #AUSvIND ht…', 1065187574409396224), (2, 'SPNSportsIndia', 'RT @SPNSportsIndia: A quickfire knock from @Gmaxi_32 and an explosive start from Lynn helped the Aussies put up a competitive total!\\n\\nAdjus…', 1065187565710434304), (18, 'RCBTweets', 'RT @RCBTweets: Bumrah does what he does best! \\n\\nMatch reduced to 17 overs and Bumrah delivers an exceptional last over.\\n\\n🇦🇺 still post a ch…', 1065187557166567424), (27, 'ICC', 'RT @ICC: Play is about to resume!\\n\\nAustralia will bat five more balls, making this a 17 over match. Their score will then be adjusted by DL…', 1065187551596601344), (4, 'NWN2019', \"RT @NWN2019: Top CEOs have this to say about PM @narendramodi 's reforms👂\\n\\n#EaseOfDoingBusiness #AUSvIND #breathefit #arrestkamalnath https…\", 1065187549637828610), (2, 'achalasati1', 'RT @achalasati1: We miss Msdhoni! \\n#AUSvIND #INDvAUS #MSDhoni https://t.co/ZBpgLWevv5', 1065187548828454912), (6, 'SirRavindraJadu', 'RT @SirRavindraJadu: @SirJadeja Quiz Time Related To Cricket.\\n\\nWho is the only one Indian bowler who used to bowled and behaved as Australi…', 1065187529500983296), (2, 'SPNSportsIndia', 'RT @SPNSportsIndia: A quickfire knock from @Gmaxi_32 and an explosive start from Lynn helped the Aussies put up a competitive total!\\n\\nAdjus…', 1065187518927187968), (1, 'iCricketFreak', 'RT @iCricketFreak: So 174 is the target for India 🇮🇳 in 17 overs vs Australia 🇦🇺\\n\\n#AUSvIND \\U0001f3cf', 1065187518340046848), (17, 'cricbuzz', \"RT @cricbuzz: India's DLS-adjusted target is 174, after Australia finish with 158/4 in their 17 overs #AUSvIND\\n\\nhttps://t.co/YIVPDIIN6l\", 1065187506881085441), (64, 'cricketcomau', 'RT @cricketcomau: BANG! Lynn goes large and Old Mate takes the grab in the stands!\\n\\nWatch live via Kayo: https://t.co/HW09hVOINP #AUSvIND h…', 1065187506142859264), (4, 'danbrettig', 'RT @danbrettig: That over, given DLS calculation to come, was absolute gold for India #AusvInd', 1065187503185965056), (2, 'Official_Ayush', \"RT @Official_Ayush: @bhogleharsha @SPNSportsIndia Seems like @SPNSportsIndia don't have enough money to telecast #AUSvIND directly from Aus…\", 1065187494411427840), (548, 'BCCI', 'RT @BCCI: Captain Kohli with a heart-warming gesture before the start of game at The Gabba #TeamIndia #AUSvIND https://t.co/KPANHQ78FT', 1065187488140947458), (21, 'SampathStats', \"RT @SampathStats: India will be chasing 174 in 17 overs. 15 runs added to Australia's total of 158/4 via DLS. #AUSvIND\", 1065187461985234945), (548, 'BCCI', 'RT @BCCI: Captain Kohli with a heart-warming gesture before the start of game at The Gabba #TeamIndia #AUSvIND https://t.co/KPANHQ78FT', 1065187457115729921), (4, 'CricProf', 'RT @CricProf: Maxwell v Bumrah - Head to Head in T20s\\n\\nInnings - 7\\nDismissals- 5\\nRuns - 38\\nStrike Rate - 115.2\\nFalse Shot Percentage - 42.8…', 1065187454972583936), (120, 'sanjaymanjrekar', 'RT @sanjaymanjrekar: I know Krunal is a very tempting option to have in the team, but he must never come in place of Chahal or Kuldeep. It…', 1065187444801191936), (2, 'NewsNationTV', 'RT @NewsNationTV: Chances of Australia resuming their innings seems bleak as the rain continues to lash the Gabba. Australia are 153/3 afte…', 1065187435670196225), (9, 'SonyLIV', 'RT @SonyLIV: The #MenInBlue embark on their Australian tour. Catch all the high-stakes cricketing drama and action only on #SonyLIV. \\n\\nDown…', 1065187427185086465), (3, 'statanalyst', 'RT @statanalyst: No team has ever managed to score more than 164 in 17 overs in T20I run-chases in Australia. The task is against Team Indi…', 1065187422927908871), (137, 'BCCI', 'RT @BCCI: It an all clear. It will be a 17 over game. #TeamIndia will bowl 5 more deliveries. Play to restart 8:05PM local time #AUSvIND ht…', 1065187418733715456), (39, 'its_tabrez_', 'RT @its_tabrez_: Sorry 🙏😅\\n\\n#AUSvIND #Bumrah https://t.co/B4vFIbo0oh', 1065187417391489025), (137, 'BCCI', 'RT @BCCI: It an all clear. It will be a 17 over game. #TeamIndia will bowl 5 more deliveries. Play to restart 8:05PM local time #AUSvIND ht…', 1065187408189235201), (110, 'BCCI', \"RT @BCCI: It's pouring here at The Gabba. We will get back with an update soon #TeamIndia #AUSvIND https://t.co/nmNkWYJjX2\", 1065187407375593472), (137, 'BCCI', 'RT @BCCI: It an all clear. It will be a 17 over game. #TeamIndia will bowl 5 more deliveries. Play to restart 8:05PM local time #AUSvIND ht…', 1065187402292039680), (137, 'BCCI', 'RT @BCCI: It an all clear. It will be a 17 over game. #TeamIndia will bowl 5 more deliveries. Play to restart 8:05PM local time #AUSvIND ht…', 1065187393697792000), (69, 'SirJadeja', 'RT @SirJadeja: 👉1st Wicket: c Kuldeep b Khaleel \\n👉2nd Wicket: c Khaleel b Kuldeep\\n👉3rd Wicket: c&amp;b Kuldeep Yadav\\n\\nSeems India Is Playing Wi…', 1065187392523575296), (17, 'sportsbetcomau', 'RT @sportsbetcomau: Hitting the Spider Cam should be like catching the Golden Snitch. Game over and your team wins instantly. #AUSvIND', 1065187379982422016), (990, 'SPNSportsIndia', 'RT @SPNSportsIndia: Sparks will fly when two megastars, @rajinikanth and @akshaykumar meet on screen, and when India and Australia meet on…', 1065187372583673861), (6, 'VirushkaUpdate_', 'RT @VirushkaUpdate_: @imVkohli with @Uz_Khawaja before start of the match ❤ #AUSvIND https://t.co/wKHdlmpoHa', 1065187372432805888), (3, 'statanalyst', 'RT @statanalyst: No team has ever managed to score more than 164 in 17 overs in T20I run-chases in Australia. The task is against Team Indi…', 1065187371870756864), (49, 'Dr_SimranSingh', 'RT @Dr_SimranSingh: सोमनाथ भारती जिसे तू धंधे वाली बोल रहा है उसी धंधे वाली की दोस्त तेरी बेटी है\\n\\nइस हिसाब से तो तू अपनी बेटी को भी धंधे…', 1065187359191371777), (26, 'ViratGang', 'RT @ViratGang: [PICS] [EXCLUSIVE] @imVkohli giving away autographs to the #TeamIndia fans, present at @GabbaBrisbane. \\U0001f929 @BCCI #AUSvIND #Kin…', 1065187358855884800), (8, 'ESPNcricinfo', 'RT @ESPNcricinfo: The match has been reduced to 17 overs a side at the Gabba \\n\\nPlay to resume in a few minutes\\n\\nhttps://t.co/Od8fIu6xym #AU…', 1065187357349994496), (4, 'NaturL91', 'RT @NaturL91: Nabi mohmmad ji ne kabhi mans nhi khaya or bisht me gye\\nJbki unk bad muslim mans khane lge\\nKuran sarif me jhan jhan shaitan k…', 1065187321987747840), (548, 'BCCI', 'RT @BCCI: Captain Kohli with a heart-warming gesture before the start of game at The Gabba #TeamIndia #AUSvIND https://t.co/KPANHQ78FT', 1065187304401195008), (1, 'appy10_', 'RT @appy10_: Praising, Criticizing , Trolling is part of game\\n\\nLekin jo bhi bolo, Match day par Twitter me Jaan aa jaati h\\n\\nSaare log activ…', 1065187290614382592), (18, 'RCBTweets', 'RT @RCBTweets: Bumrah does what he does best! \\n\\nMatch reduced to 17 overs and Bumrah delivers an exceptional last over.\\n\\n🇦🇺 still post a ch…', 1065187285673672705), (17, 'cricbuzz', \"RT @cricbuzz: India's DLS-adjusted target is 174, after Australia finish with 158/4 in their 17 overs #AUSvIND\\n\\nhttps://t.co/YIVPDIIN6l\", 1065187282251104256), (18, 'cricketcomau', 'RT @cricketcomau: The revised target is in with confirmation that India need 174 to win from their 17 overs.\\n\\nStream via Kayo in our match…', 1065187273908486144), (5, 'Chill__Yaar', 'RT @Chill__Yaar: Kohli is pretty average when it comes to captaincy. Rohit should lead India #AUSvIND', 1065187265725386752), (548, 'BCCI', 'RT @BCCI: Captain Kohli with a heart-warming gesture before the start of game at The Gabba #TeamIndia #AUSvIND https://t.co/KPANHQ78FT', 1065187264139939841), (6, 'VirushkaUpdate_', 'RT @VirushkaUpdate_: @imVkohli with @Uz_Khawaja before start of the match ❤ #AUSvIND https://t.co/wKHdlmpoHa', 1065187257160675328), (4, 'parulbalwaria', 'RT @parulbalwaria: #EidMiladUnNabi\\n#AUSvIND\\nकुरान ज्ञानदाता हजरत मोहम्मद जी को बा खबर के बारे में जानकारी देता है। कौन है वह बाखबर जो सब का…', 1065187247534698496), (20, 'cricketcomau', 'RT @cricketcomau: Glenn Maxwell top-scored with 46 as Australia posted 4-158 from their 17 overs.\\n\\nInfo on the run chase coming soon: https…', 1065187244447649796), (548, 'BCCI', 'RT @BCCI: Captain Kohli with a heart-warming gesture before the start of game at The Gabba #TeamIndia #AUSvIND https://t.co/KPANHQ78FT', 1065187244250550273), (21, 'SampathStats', \"RT @SampathStats: India will be chasing 174 in 17 overs. 15 runs added to Australia's total of 158/4 via DLS. #AUSvIND\", 1065187240794566657), (4, 'mipaltan', 'RT @mipaltan: Jasprit Bumrah strikes on the first ball after play resumes to dismiss Maxwell. The match is reduced to a 17-over affair.…', 1065187236478480385), (18, 'cricketcomau', 'RT @cricketcomau: The revised target is in with confirmation that India need 174 to win from their 17 overs.\\n\\nStream via Kayo in our match…', 1065187235165818881), (18, 'cricketcomau', 'RT @cricketcomau: The revised target is in with confirmation that India need 174 to win from their 17 overs.\\n\\nStream via Kayo in our match…', 1065187224566857730), (4, 'GuideforAll', \"RT @GuideforAll: 🔸India's 1st Sri Vishwakarma Skill Development University will come up in which state ?\\n- #Haryana\\n\\n🔸Which country recentl…\", 1065187213804105729), (20, 'cricketcomau', 'RT @cricketcomau: Glenn Maxwell top-scored with 46 as Australia posted 4-158 from their 17 overs.\\n\\nInfo on the run chase coming soon: https…', 1065187213535834113), (2, 'thefield_in', 'RT @thefield_in: Can’t reduce bans on David Warner, Steve Smith just because Australia are struggling, says Shane Warne\\n\\n#AUSvIND\\n\\nRead: ht…', 1065187208821301251), (4, 'chetannarula', 'RT @chetannarula: Official: India need 174 runs to win in 17 overs by DLS method. #AusvInd', 1065187206040600576), (548, 'BCCI', 'RT @BCCI: Captain Kohli with a heart-warming gesture before the start of game at The Gabba #TeamIndia #AUSvIND https://t.co/KPANHQ78FT', 1065187201162588160), (47, 'imVlkohli', 'RT @imVlkohli: Raining heavily right now. Hope the visitors have brought #Citizen Umbrellas or #Rexburg Raincoat with them else they will c…', 1065187187535294465), (548, 'BCCI', 'RT @BCCI: Captain Kohli with a heart-warming gesture before the start of game at The Gabba #TeamIndia #AUSvIND https://t.co/KPANHQ78FT', 1065187178836242433), (10, 'imvkohliad', \"RT @imvkohliad: Please don't troll me for my slippery hands! I was giving my wife Anushka Sharma whose next movie is #Zero a massage with #…\", 1065187177343184896), (3, 'VirushkaUpdate_', 'RT @VirushkaUpdate_: @imVkohli during the Toss today ❤ #AUSvIND https://t.co/v1SkS6u6BL', 1065187170711785472), (18, 'cricketcomau', 'RT @cricketcomau: The revised target is in with confirmation that India need 174 to win from their 17 overs.\\n\\nStream via Kayo in our match…', 1065187170103820288), (25, 'cricbuzz', 'RT @cricbuzz: Play to resume at 8.05pm local (3.35pm IST)\\n\\nAustralia will face five more balls as this match is now a 17-over affair #AUSvI…', 1065187169948573696), (21, 'SampathStats', \"RT @SampathStats: India will be chasing 174 in 17 overs. 15 runs added to Australia's total of 158/4 via DLS. #AUSvIND\", 1065187165330649090), (11, 'iamunknown360', 'RT @iamunknown360: #AusvsIndonSonyLIV Totally Boring English Commentary missing Australian commentary. 😕😩😡#AUSvIND', 1065187151292260352), (11, 'ESPNcricinfo', 'RT @ESPNcricinfo: Only five runs off the final five balls for Australia, who finish on 4/158 in 17 overs. Maxwell top-scores with 46\\n\\nIndia…', 1065187144187015168), (17, 'cricbuzz', \"RT @cricbuzz: India's DLS-adjusted target is 174, after Australia finish with 158/4 in their 17 overs #AUSvIND\\n\\nhttps://t.co/YIVPDIIN6l\", 1065187139841871872), (18, 'cricketcomau', 'RT @cricketcomau: The revised target is in with confirmation that India need 174 to win from their 17 overs.\\n\\nStream via Kayo in our match…', 1065187138994548737), (21, 'SampathStats', \"RT @SampathStats: India will be chasing 174 in 17 overs. 15 runs added to Australia's total of 158/4 via DLS. #AUSvIND\", 1065187130454945792), (1, '42nikhil', 'RT @42nikhil: I would prefer a \"no commentary\" cricket channel then whatever is happening on Sony Six. #AUSvIND', 1065187120917098500), (548, 'BCCI', 'RT @BCCI: Captain Kohli with a heart-warming gesture before the start of game at The Gabba #TeamIndia #AUSvIND https://t.co/KPANHQ78FT', 1065187109248487424), (5, 'VirushkaUpdate_', 'RT @VirushkaUpdate_: @imVkohli Today before the match ❤😍 #AUSvIND https://t.co/tcEphYRJ3c', 1065187109038768128), (1, 'circleofcricket', \"RT @circleofcricket: UPDATE: #TeamIndia's target readjusted to 174 runs in 17 overs. #AUSvIND\", 1065187096778858496), (18, 'RCBTweets', 'RT @RCBTweets: Bumrah does what he does best! \\n\\nMatch reduced to 17 overs and Bumrah delivers an exceptional last over.\\n\\n🇦🇺 still post a ch…', 1065187090600620033), (137, 'BCCI', 'RT @BCCI: It an all clear. It will be a 17 over game. #TeamIndia will bowl 5 more deliveries. Play to restart 8:05PM local time #AUSvIND ht…', 1065187078009307137), (102, 'cricketcomau', 'RT @cricketcomau: Upper decker! Chris Lynn launched a 108m six into the hands of Old Mate in the stands 🙌\\n\\n#AUSvIND @bet365_aus https://t.c…', 1065187071973834752), (75, 'ICC', 'RT @ICC: Can India maintain their good T20I record in Australia or will the hosts rediscover their form in the opening game in Brisbane?\\n\\n#…', 1065187071722168320), (20, 'ProfDeano', 'RT @ProfDeano: Did you know I saw #spidercam for the first time in USA and introduced for the Indian Cricket League in 2007. \\n@Gmaxi_32 you…', 1065187067402047488), (81, 'directhitau', \"RT @directhitau: Ahead of tonight's Gillette T20 blockbuster at the Gabba, @Gmaxi_32 details why all eyes will be on @imVkohli \\n\\n@BKTtires…\", 1065187063295823872), (17, 'cricbuzz', \"RT @cricbuzz: India's DLS-adjusted target is 174, after Australia finish with 158/4 in their 17 overs #AUSvIND\\n\\nhttps://t.co/YIVPDIIN6l\", 1065187056492507139), (8, 'BCCI', 'RT @BCCI: 1st T20I. 7.4: K Ahmed to C Lynn (22), 6 runs, 56/1 https://t.co/LxNw8DrJvS #AusvInd', 1065187049173471232), (3, 'imsgshinde', 'RT @imsgshinde: Bumrah gives only 6 runs in last over of innings. Best death bowler in world\\n\\nShane Warne - No No. All the slower balls sli…', 1065187034975756294), (217, 'LMKMovieManiac', 'RT @LMKMovieManiac: #AkshayKumar promoting #2Point0 along with the soon to begin India tour of Australia cricket matches.. \\n\\n#2Point0FromNo…', 1065187034720083968), (203, 'imVlkohli', 'RT @imVlkohli: Oily hands after eating food made from #SaffolaOil is not good for fielding. You miss catches &amp; fielding like me &amp; my boys.…', 1065187029640667136), (49, 'Dr_SimranSingh', 'RT @Dr_SimranSingh: सोमनाथ भारती जिसे तू धंधे वाली बोल रहा है उसी धंधे वाली की दोस्त तेरी बेटी है\\n\\nइस हिसाब से तो तू अपनी बेटी को भी धंधे…', 1065187028923543552), (1, 'ozrobbo', 'RT @ozrobbo: India’s Target is 167 from 17 overs #AUSVIND', 1065187023357599744), (203, 'imVlkohli', 'RT @imVlkohli: Oily hands after eating food made from #SaffolaOil is not good for fielding. You miss catches &amp; fielding like me &amp; my boys.…', 1065187022980009985), (17, 'cricbuzz', \"RT @cricbuzz: India's DLS-adjusted target is 174, after Australia finish with 158/4 in their 17 overs #AUSvIND\\n\\nhttps://t.co/YIVPDIIN6l\", 1065187020559998976), (7, 'SunRisers', 'RT @SunRisers: Out! @imK_Ahmed13 strikes in his very first delivery as he makes D Arcy Short his first victim on Australian soil. \\n\\n🇦🇺 - 30…', 1065187017774919680), (87, 'gaurav_sundar', 'RT @gaurav_sundar: Kohli is not a big fan of match ups but Rohit is. In this format I believe it matters a lot. Kohli has a set template to…', 1065187012808830976), (1, 'parthvyas1989', 'RT @parthvyas1989: This commentary on Sony six is boring beyond imagination.feel like all dese guys r high n have a hangover from last nigh…', 1065187011802292224), (34, 'BiggDeals4U', \"RT @BiggDeals4U: Anyone who don't have #Jio or #Airtel Sim and are unable to watch  #IndvAus #AUSvIND match live ,then DM me..will give #So…\", 1065187005225566215), (11, 'ESPNcricinfo', 'RT @ESPNcricinfo: Only five runs off the final five balls for Australia, who finish on 4/158 in 17 overs. Maxwell top-scores with 46\\n\\nIndia…', 1065187003224907776), (203, 'imVlkohli', 'RT @imVlkohli: Oily hands after eating food made from #SaffolaOil is not good for fielding. You miss catches &amp; fielding like me &amp; my boys.…', 1065187002440654849), (17, 'cricbuzz', 'RT @cricbuzz: 6⃣6⃣6⃣\\n\\nGlenn Maxwell punishes Krunal Pandya; Australia on the charge #AUSvIND \\n\\nhttps://t.co/YIVPDIIN6l', 1065186999219433479), (58, 'ICC', 'RT @ICC: Rain has stopped play in Brisbane! \\U0001f327️\\n\\nAustralia are 153/3 after 16.1 overs with Glenn Maxwell on 46 and Marcus Stoinis on 31.\\n\\n#A…', 1065186986900762624), (137, 'BCCI', 'RT @BCCI: It an all clear. It will be a 17 over game. #TeamIndia will bowl 5 more deliveries. Play to restart 8:05PM local time #AUSvIND ht…', 1065186983713095680), (20, 'ProfDeano', 'RT @ProfDeano: Did you know I saw #spidercam for the first time in USA and introduced for the Indian Cricket League in 2007. \\n@Gmaxi_32 you…', 1065186981469028353), (19, 'cricketcomau', 'RT @cricketcomau: New drill 🙈 #AUSvIND https://t.co/wuDDSMlk1i', 1065186968999317504), (38, 'trollsangh', \"RT @trollsangh: Educate your children. don't make him a #Chaiwala 😣😣😣\\n#AusvsIndonSonyLIV #EidMiladUnNabi #AUSvIND #TrollSangh #Sabarimala\\n#…\", 1065186966554046469), (18, 'RCBTweets', 'RT @RCBTweets: Bumrah does what he does best! \\n\\nMatch reduced to 17 overs and Bumrah delivers an exceptional last over.\\n\\n🇦🇺 still post a ch…', 1065186966373834753), (20, 'cricketcomau', 'RT @cricketcomau: Glenn Maxwell top-scored with 46 as Australia posted 4-158 from their 17 overs.\\n\\nInfo on the run chase coming soon: https…', 1065186961520873472), (27, 'ICC', 'RT @ICC: Play is about to resume!\\n\\nAustralia will bat five more balls, making this a 17 over match. Their score will then be adjusted by DL…', 1065186955909046272), (1, 'rajasthanroyals', 'RT @rajasthanroyals: The innings ends after 17 overs with a score of 158/4.\\nCan India chase down their target of 174 in time?\\n\\nPC: ICC \\n\\n#A…', 1065186954231320578), (21, 'SampathStats', \"RT @SampathStats: India will be chasing 174 in 17 overs. 15 runs added to Australia's total of 158/4 via DLS. #AUSvIND\", 1065186952037588992), (17, 'cricbuzz', \"RT @cricbuzz: India's DLS-adjusted target is 174, after Australia finish with 158/4 in their 17 overs #AUSvIND\\n\\nhttps://t.co/YIVPDIIN6l\", 1065186945746165760), (2, 'FirstpostSports', 'RT @FirstpostSports: India will require 174 to win the first T20I (DLS method)\\n\\nFielding restriction will apply only for the first five ove…', 1065186939270250497), (18, 'RCBTweets', 'RT @RCBTweets: Bumrah does what he does best! \\n\\nMatch reduced to 17 overs and Bumrah delivers an exceptional last over.\\n\\n🇦🇺 still post a ch…', 1065186929644314625), (137, 'BCCI', 'RT @BCCI: It an all clear. It will be a 17 over game. #TeamIndia will bowl 5 more deliveries. Play to restart 8:05PM local time #AUSvIND ht…', 1065186919825297408), (548, 'BCCI', 'RT @BCCI: Captain Kohli with a heart-warming gesture before the start of game at The Gabba #TeamIndia #AUSvIND https://t.co/KPANHQ78FT', 1065186917254234113), (3, 'suneerchowdhary', 'RT @suneerchowdhary: Michael Clarke: If I am India, I am picking Kuldeep ahead of Ashwin and Jadeja as my number one spinner at Adelaide.…', 1065186909788418049), (37, 'RAJINIism', 'RT @RAJINIism: #2Point0 Promotions in #INDvAUS\\n\\nAwesome Promotions by #LycaProductions\\n\\n#AUSvIND #AusvsIndonSonyLIV #Rajinikanth #2Point0Fr…', 1065186904830660614), (4, 'NWN2019', \"RT @NWN2019: Top CEOs have this to say about PM @narendramodi 's reforms👂\\n\\n#EaseOfDoingBusiness #AUSvIND #breathefit #arrestkamalnath https…\", 1065186898090455040), (137, 'BCCI', 'RT @BCCI: It an all clear. It will be a 17 over game. #TeamIndia will bowl 5 more deliveries. Play to restart 8:05PM local time #AUSvIND ht…', 1065186897155084289), (3, 'mytentaran', 'RT @mytentaran: Here is everything you need to know about the ICC Women World T20 group A and B standings\\n#ICC  #WT20 #SemiFinals #INDvAUS…', 1065186882462478336), (2, 'sa9321', 'RT @sa9321: \"It must fee like a home game for you guys!\" - @Neroli_M_FOX \\n@SwamiArmy @thebharatarmy #teamindia representing!!!\\n#jaihind #au…', 1065186876468813825), (23, 'ESPNcricinfo', 'RT @ESPNcricinfo: Should India have played Yuzvendra Chahal as well? \\n\\nhttps://t.co/Od8fIu6xym #AUSvIND https://t.co/Fh8JLswsak', 1065186866461372416)]\n"
     ]
    }
   ],
   "source": [
    "retweets = [\n",
    "            # Store out a tuple of these three values ...\n",
    "            (status['retweet_count'], \n",
    "             status['retweeted_status']['user']['screen_name'],\n",
    "             status['text'],\n",
    "             status['id']) \n",
    "            \n",
    "            # ... for each status ...\n",
    "            for status in statuses \n",
    "            \n",
    "            # ... so long as the status meets this condition.\n",
    "                if 'retweeted_status' in status\n",
    "           ]\n",
    "\n",
    "# Slice off the first 5 from the sorted results and display each item in the tuple\n",
    "\n",
    "pt = PrettyTable(field_names=['Count', 'Screen Name', 'Text', 'Id'])\n",
    "[ pt.add_row(row) for row in sorted(retweets, reverse=True)[:5] ]\n",
    "pt.max_width['Text'] = 50\n",
    "pt.align= 'l'\n",
    "print(pt)"
   ]
  },
  {
   "cell_type": "markdown",
   "metadata": {},
   "source": [
    "Results from Example&#160;1.10, &#8220;Finding the most popular retweets&#8221; are\n",
    "      interesting:"
   ]
  },
  {
   "cell_type": "markdown",
   "metadata": {},
   "source": [
    "<pre>+-------+----------------+----------------------------------------------------+\n",
    "| Count | Screen Name    | Text                                               |\n",
    "+-------+----------------+----------------------------------------------------+\n",
    "| 23    | hassanmusician | RT @hassanmusician: \\#MentionSomeoneImportantForYou |\n",
    "|       |                | God.                                               |\n",
    "| 21    | HSweethearts   | RT @HSweethearts: \\#MentionSomeoneImportantForYou   |\n",
    "|       |                | my high school sweetheart ❤                        |\n",
    "| 15    | LosAlejandro\\_  | RT @LosAlejandro\\_: ¿Nadie te menciono en           |\n",
    "|       |                | \"\\#MentionSomeoneImportantForYou\"? JAJAJAJAJAJAJAJA |\n",
    "|       |                | JAJAJAJAJAJAJAJAJAJAJAJAJAJAJAJAJAJAJAJA Ven, ...  |\n",
    "| 9     | SCOTTSUMME     | RT @SCOTTSUMME: \\#MentionSomeoneImportantForYou My  |\n",
    "|       |                | Mum. Shes loving, caring, strong, all in one. I    |\n",
    "|       |                | love her so much ❤❤❤❤                            |\n",
    "| 7     | degrassihaha   | RT @degrassihaha: \\#MentionSomeoneImportantForYou I |\n",
    "|       |                | can't put every Degrassi cast member, crew member, |\n",
    "|       |                | and writer in just one tweet....                   |\n",
    "+-------+----------------+----------------------------------------------------+</pre>"
   ]
  },
  {
   "cell_type": "markdown",
   "metadata": {},
   "source": [
    "\"God\" tops the list, followed closely by \"my high school\n",
    "      sweetheart,\" and coming in at number four on the list is \"My Mum.\" None\n",
    "      of the top five items in the list correspond to Twitter user accounts,\n",
    "      although we might have suspected this (with the exception of\n",
    "      @justinbieber) from the previous analysis. Inspection of results further\n",
    "      down the list does reveal particular user mentions, but the sample we\n",
    "      have drawn from for this query is so small that no trends emerge.\n",
    "      Searching for a larger sample of results would likely yield some user\n",
    "      mentions with a frequency greater than one, which would be interesting\n",
    "      to further analyze. The possibilities for further analysis are pretty\n",
    "      open-ended, and by now, hopefully, you're itching to try out some custom\n",
    "      queries of your own."
   ]
  },
  {
   "cell_type": "markdown",
   "metadata": {},
   "source": [
    "<blockquote><div><strong>Note:</strong></div><p>Suggested exercises are at the end of this chapter. Be sure to\n",
    "        also check out Chapter&#160;9, <em>Twitter Cookbook</em> as a source of\n",
    "        inspiration: it includes more than two dozen recipes presented in a\n",
    "        cookbook-style format.</p></blockquote>"
   ]
  },
  {
   "cell_type": "markdown",
   "metadata": {},
   "source": [
    "Before we move on, a subtlety worth noting is that it's quite\n",
    "      possible (and probable, given the relatively low frequencies of the\n",
    "      retweets observed in this section) that the original tweets that were\n",
    "      retweeted may not exist in our sample search results set. For example,\n",
    "      the most popular retweet in the sample results originated from a user\n",
    "      with a screen name of @hassanmusician and was retweeted 23 times.\n",
    "      However, closer inspection of the data reveals that we collected only 1\n",
    "      of the 23 retweets in our search results. Neither the original tweet nor\n",
    "      any of the other 22 retweets appears in the data set. This doesn't pose\n",
    "      any particular problems, although it might beg the question of who the\n",
    "      other 22 retweeters for this status were."
   ]
  },
  {
   "cell_type": "markdown",
   "metadata": {},
   "source": [
    "The answer to this kind of question is a valuable one because it\n",
    "      allows us to take content that represents a concept, such as \"God\" in\n",
    "      this case, and discover a group of other users who apparently share the\n",
    "      same sentiment or common interest. As previously mentioned, a handy way\n",
    "      to model data involving people and the things that they're interested in\n",
    "      is called an <span class=\"emphasis\"><em>interest graph</em></span>; this is the\n",
    "      primary data structure that supports analysis in Chapter&#160;7, <em>Mining GitHub: Inspecting Software Collaboration Habits, Building\n",
    "  Interest Graphs, and More</em>.\n",
    "      Interpretative speculation about these users could suggest that they are\n",
    "      spiritual or religious individuals, and further analysis of their\n",
    "      particular tweets might corroborate that inference. Example&#160;1.11, &#8220;Looking up users who have retweeted a status&#8221; shows how to find these individuals\n",
    "      with the <a class=\"ulink\" href=\"http://bit.ly/1a1l64H\" target=\"\\_top\"><code class=\"literal\">GET statuses/retweets/:id</code> API</a>."
   ]
  },
  {
   "cell_type": "markdown",
   "metadata": {},
   "source": [
    "#### Example 1.11. Looking up users who have retweeted a status"
   ]
  },
  {
   "cell_type": "code",
   "execution_count": 47,
   "metadata": {},
   "outputs": [
    {
     "name": "stdout",
     "output_type": "stream",
     "text": [
      "[]\n"
     ]
    }
   ],
   "source": [
    "# Get the original tweet id for a tweet from its retweeted_status node \n",
    "# and insert it here in place of the sample value that is provided\n",
    "# from the text of the book\n",
    "\n",
    "_retweets = twitter_api.statuses.retweets(id=1065187809093283841)\n",
    "print([r['user']['screen_name'] for r in _retweets])"
   ]
  },
  {
   "cell_type": "markdown",
   "metadata": {},
   "source": [
    "Further analysis of the users who retweeted this particular status\n",
    "      for any particular religious or spiritual affiliation is left as an\n",
    "      independent exercise."
   ]
  },
  {
   "cell_type": "markdown",
   "metadata": {},
   "source": [
    "## Visualizing Frequency Data with Histograms"
   ]
  },
  {
   "cell_type": "markdown",
   "metadata": {},
   "source": [
    "A nice feature of IPython Notebook is its ability to generate and insert\n",
    "      high-quality and customizable plots of data as part of an interactive\n",
    "      workflow. In particular, the <code class=\"literal\"><a class=\"ulink\" href=\"http://bit.ly/1a1l7Wv\" target=\"\\_top\">matplotlib</a></code> package and\n",
    "      other scientific computing tools that are available for IPython Notebook\n",
    "      are quite powerful and capable of generating complex figures with very\n",
    "      little effort once you understand the basic workflows."
   ]
  },
  {
   "cell_type": "markdown",
   "metadata": {},
   "source": [
    "To illustrate the use of <code class=\"literal\">matplotlib</code>'s plotting capabilities, let's plot\n",
    "      some data for display. To get warmed up, we&#8217;ll consider a plot that\n",
    "      displays the results from the <code class=\"literal\">words</code>\n",
    "      variable as defined in Example&#160;1.9, &#8220;Calculating lexical diversity for tweets&#8221;. With\n",
    "      the help of a <code class=\"literal\">Counter</code>, it's easy to\n",
    "      generate a sorted list of tuples where each tuple is a <code class=\"literal\">(word, frequency)</code> pair; the x-axis value will\n",
    "      correspond to the index of the tuple, and the y-axis will correspond to\n",
    "      the frequency for the word in that tuple. It would generally be\n",
    "      impractical to try to plot each word as a value on the x-axis, although\n",
    "      that's what the x-axis is representing. Figure&#160;1.4, &#8220;A plot displaying the sorted frequencies for the words computed\n",
    "        by Example&#160;1.8, &#8220;Using prettytable to display tuples in a nice tabular\n",
    "          format&#8221;&#8221;\n",
    "      displays a plot for the same words data that we previously rendered as a\n",
    "      table in Example&#160;1.8, &#8220;Using prettytable to display tuples in a nice tabular\n",
    "          format&#8221;. The y-axis values on the plot\n",
    "      correspond to the number of times a word appeared. Although labels for\n",
    "      each word are not provided, x-axis values have been sorted so that the\n",
    "      relationship between word frequencies is more apparent. Each axis has\n",
    "      been adjusted to a logarithmic scale to \"squash\" the curve being\n",
    "      displayed. The plot can be generated directly in IPython Notebook\n",
    "      with the code shown in Example&#160;1.12, &#8220;Plotting frequencies of words&#8221;."
   ]
  },
  {
   "cell_type": "markdown",
   "metadata": {},
   "source": [
    "<div class=\"figure-title\">Figure&#160;1.4.&#160;A plot displaying the sorted frequencies for the words computed\n",
    "        by Example&#160;1.8, &#8220;Using prettytable to display tuples in a nice tabular\n",
    "          format&#8221;</div>\n",
    "            <div class=\"figure-contents\">\n",
    "              <div class=\"mediaobject\">\n",
    "                <img alt=\"A plot displaying the sorted frequencies for the words computed by\" src=\"files/resources/sampler-images/images/mswb_0104.png\" />\n",
    "              </div>\n",
    "            </div>"
   ]
  },
  {
   "cell_type": "markdown",
   "metadata": {},
   "source": [
    "<blockquote><div><strong>Note:</strong></div><p>If you are using the virtual machine, your IPython Notebooks\n",
    "        should be configured to use plotting capabilities out of the box. If\n",
    "        you are running on your own local environment, be sure to have started\n",
    "        IPython Notebook with <a class=\"ulink\" href=\"http://bit.ly/1a1l6BN\" target=\"\\_top\">PyLab</a>\n",
    "        enabled as follows:</p>\n",
    "            <div class=\"programlisting\">ipython notebook --pylab=inline</div></blockquote>"
   ]
  },
  {
   "cell_type": "markdown",
   "metadata": {},
   "source": [
    "#### Example 1.12. Plotting frequencies of words"
   ]
  },
  {
   "cell_type": "code",
   "execution_count": 50,
   "metadata": {},
   "outputs": [
    {
     "data": {
      "text/plain": [
       "Text(0.5,0,'Word Rank')"
      ]
     },
     "execution_count": 50,
     "metadata": {},
     "output_type": "execute_result"
    },
    {
     "data": {
      "image/png": "[encoded data removed]",
      "text/plain": [
       "<Figure size 432x288 with 1 Axes>"
      ]
     },
     "metadata": {
      "needs_background": "light"
     },
     "output_type": "display_data"
    }
   ],
   "source": [
    "import matplotlib.pyplot as plt\n",
    "\n",
    "word_counts = sorted(Counter(words).values(), reverse=True)\n",
    "\n",
    "plt.loglog(word_counts)\n",
    "plt.ylabel(\"Freq\")\n",
    "plt.xlabel(\"Word Rank\")"
   ]
  },
  {
   "cell_type": "markdown",
   "metadata": {},
   "source": [
    "A plot of frequency values is intuitive and convenient, but it can also be\n",
    "      useful to group together data values into bins that correspond to a\n",
    "      range of frequencies. For example, how many words have a frequency\n",
    "      between 1 and 5, between 5 and 10, between 10 and 15, and so forth? A\n",
    "      <a class=\"ulink\" href=\"http://bit.ly/1a1l6Sk\" target=\"\\_top\"><span class=\"emphasis\"><em>histogram</em></span></a> is\n",
    "      designed for precisely this purpose and provides a convenient\n",
    "      visualization for displaying tabulated frequencies as adjacent\n",
    "      rectangles, where the area of each rectangle is a measure of the data\n",
    "      values that fall within that particular range of values. Figures 1.5 and 1.6 show histograms of\n",
    "      the tabular data generated from Examples 1.8 and 1.10,\n",
    "      respectively. Although the histograms don't have x-axis labels that show\n",
    "      us which words have which frequencies, that's not really their purpose.\n",
    "      A histogram gives us insight into the underlying frequency distribution,\n",
    "      with the x-axis corresponding to a range for words that each have a\n",
    "      frequency within that range and the y-axis corresponding to the total\n",
    "      frequency of all words that appear within that range."
   ]
  },
  {
   "cell_type": "markdown",
   "metadata": {},
   "source": [
    "When interpreting Figure&#160;1.5, &#8220;Histograms of tabulated frequency data for words, screen names,\n",
    "        and hashtags, each displaying a particular kind of data that is\n",
    "        grouped by frequency&#8221;, look back to the\n",
    "      corresponding tabular data and consider that there are a large number of\n",
    "      words, screen names, or hashtags that have low frequencies and appear few times in the text;\n",
    "      however, when we combine all of these low-frequency terms and bin them\n",
    "      together into a range of \"all words with frequency between 1 and 10,\" we\n",
    "      see that the total number of these low-frequency words accounts for most\n",
    "      of the text. More concretely, we see that there are approximately 10\n",
    "      words that account for almost all of the frequencies as rendered by the\n",
    "      area of the large blue rectangle, while there are just a couple of words\n",
    "      with much higher frequencies: \"\\#MentionSomeoneImportantForYou\" and \"RT,\"\n",
    "      with respective frequencies of 34 and 92 as given by our tabulated\n",
    "      data."
   ]
  },
  {
   "cell_type": "markdown",
   "metadata": {},
   "source": [
    "Likewise, when interpreting Figure&#160;1.6, &#8220;A histogram of retweet frequencies&#8221;, we see that\n",
    "      there are a select few tweets that are retweeted with a much higher\n",
    "      frequencies than the bulk of the tweets, which are retweeted only once\n",
    "      and account for the majority of the volume given by the largest blue\n",
    "      rectangle on the left side of the histogram."
   ]
  },
  {
   "cell_type": "markdown",
   "metadata": {},
   "source": [
    "<div class=\"figure-title\">Figure&#160;1.5.&#160;Histograms of tabulated frequency data for words, screen names,\n",
    "        and hashtags, each displaying a particular kind of data that is\n",
    "        grouped by frequency</div>\n",
    "            <div class=\"figure-contents\">\n",
    "              <div class=\"mediaobject\">\n",
    "                <img alt=\"Histograms of tabulated frequency data for words, screen names, and hashtags, each displaying a particular kind of data that is grouped by frequency\" src=\"files/resources/sampler-images/images/mswb_0105.png\" />\n",
    "              </div>\n",
    "            </div>"
   ]
  },
  {
   "cell_type": "markdown",
   "metadata": {},
   "source": [
    "<div class=\"figure-title\">Figure&#160;1.6.&#160;A histogram of retweet frequencies</div>\n",
    "            <div class=\"figure-contents\">\n",
    "              <div class=\"mediaobject\">\n",
    "                <img alt=\"A histogram of retweet frequencies\" src=\"files/resources/sampler-images/images/mswb_0106.png\" />\n",
    "              </div>\n",
    "            </div>"
   ]
  },
  {
   "cell_type": "markdown",
   "metadata": {},
   "source": [
    "The code for generating these histograms directly in IPython\n",
    "      Notebook is given in Examples 1.13 and 1.14. Taking some time to explore the\n",
    "      capabilities of matplotlib and other scientific computing tools is a\n",
    "      worthwhile investment."
   ]
  },
  {
   "cell_type": "markdown",
   "metadata": {},
   "source": [
    "#### Example 1.13. Generating histograms of words, screen names, and hashtags"
   ]
  },
  {
   "cell_type": "code",
   "execution_count": 51,
   "metadata": {},
   "outputs": [
    {
     "data": {
      "image/png": "[encoded data removed]",
      "text/plain": [
       "<Figure size 432x288 with 1 Axes>"
      ]
     },
     "metadata": {
      "needs_background": "light"
     },
     "output_type": "display_data"
    },
    {
     "data": {
      "image/png": "[encoded data removed]",
      "text/plain": [
       "<Figure size 432x288 with 1 Axes>"
      ]
     },
     "metadata": {
      "needs_background": "light"
     },
     "output_type": "display_data"
    },
    {
     "data": {
      "image/png": "[encoded data removed]",
      "text/plain": [
       "<Figure size 432x288 with 1 Axes>"
      ]
     },
     "metadata": {
      "needs_background": "light"
     },
     "output_type": "display_data"
    },
    {
     "data": {
      "text/plain": [
       "<Figure size 432x288 with 0 Axes>"
      ]
     },
     "metadata": {},
     "output_type": "display_data"
    }
   ],
   "source": [
    "for label, data in (('Words', words), \n",
    "                    ('Screen Names', screen_names), \n",
    "                    ('Hashtags', hashtags)):\n",
    "\n",
    "    # Build a frequency map for each set of data\n",
    "    # and plot the values\n",
    "    c = Counter(data)\n",
    "    plt.hist(c.values())\n",
    "    \n",
    "    # Add a title and y-label ...\n",
    "    plt.title(label)\n",
    "    plt.ylabel(\"Number of items in bin\")\n",
    "    plt.xlabel(\"Bins (number of times an item appeared)\")\n",
    "    \n",
    "    # ... and display as a new figure\n",
    "    plt.figure()"
   ]
  },
  {
   "cell_type": "markdown",
   "metadata": {},
   "source": [
    "#### Example 1.14. Generating a histogram of retweet counts"
   ]
  },
  {
   "cell_type": "code",
   "execution_count": 54,
   "metadata": {},
   "outputs": [
    {
     "name": "stdout",
     "output_type": "stream",
     "text": [
      "[[548, \"BCCI\", \"RT @BCCI: Captain Kohli with a heart-warming gesture before the start of game at The Gabba #TeamIndia #AUSvIND https://t.co/KPANHQ78FT\", 1065188872034881536], [548, \"BCCI\", \"RT @BCCI: Captain Kohli with a heart-warming gesture before the start of game at The Gabba #TeamIndia #AUSvIND https://t.co/KPANHQ78FT\", 1065188870080397312], [1, \"cricketcomau\", \"RT @cricketcomau: Behrendorff with the ball as India begin their run chase. Rohit and Shikhar opening the batting.\\n\\n174 needed from 17 over\\u2026\", 1065188867190530048], [990, \"SPNSportsIndia\", \"RT @SPNSportsIndia: Sparks will fly when two megastars, @rajinikanth and @akshaykumar meet on screen, and when India and Australia meet on\\u2026\", 1065188860760489984], [4, \"BCCI\", \"RT @BCCI: 1st T20I. 0.4: J Behrendorff to S Dhawan (8), 4 runs, 11/0 https://t.co/LxNw8DrJvS #AusvInd\", 1065188855618387968], [16, \"UPStatsman\", \"RT @UPStatsman: Krunal Pandya conceded 55 runs today from 4 overs\\n\\n- The third most by an Indian bowler in T20Is\\n- The third most by a bowl\\u2026\", 1065188846428508160], [11, \"ESPNcricinfo\", \"RT @ESPNcricinfo: Only five runs off the final five balls for Australia, who finish on 4/158 in 17 overs. Maxwell top-scores with 46\\n\\nIndia\\u2026\", 1065188843467522048], [548, \"BCCI\", \"RT @BCCI: Captain Kohli with a heart-warming gesture before the start of game at The Gabba #TeamIndia #AUSvIND https://t.co/KPANHQ78FT\", 1065188829655588868], [7, \"TuahaSohail\", \"RT @TuahaSohail: My sources tell me that Rohit Sharma group is intentionally underperforming in Kohli's captaincy. This is sad. Country fir\\u2026\", 1065188828938289152], [27, \"ICC\", \"RT @ICC: Play is about to resume!\\n\\nAustralia will bat five more balls, making this a 17 over match. Their score will then be adjusted by DL\\u2026\", 1065188798680621057], [18, \"AskRishabh\", \"RT @AskRishabh: Hardik: Bhai aus tour par jaa rha meri kami mat mehsoos hone dena\\n\\nKrunal: \\n\\n#AUSvIND https://t.co/Ql3KpFjB1o\", 1065188790807851009], [12, \"ICC\", \"RT @ICC: Australia finish their innings on 158/4 from their 17 overs. India will need 174 to win according to the DLS method. \\n\\nGlenn Maxwe\\u2026\", 1065188781802827781], [548, \"BCCI\", \"RT @BCCI: Captain Kohli with a heart-warming gesture before the start of game at The Gabba #TeamIndia #AUSvIND https://t.co/KPANHQ78FT\", 1065188777579155456], [7, \"mipaltan\", \"RT @mipaltan: Rohit Sharma and Shikhar Dhawan make their way to the middle. India will chase a revised target of 174 from 17 overs. \\n\\n#Cric\\u2026\", 1065188774894694400], [83, \"cricketaakash\", \"RT @cricketaakash: Team had chosen Rahul over Pandey. Can understand why. But where does Rahul bat? I wouldn\\u2019t want to put Kohli at 4. Woul\\u2026\", 1065188756733325313], [11, \"ESPNcricinfo\", \"RT @ESPNcricinfo: Only five runs off the final five balls for Australia, who finish on 4/158 in 17 overs. Maxwell top-scores with 46\\n\\nIndia\\u2026\", 1065188718728892421], [17, \"cricbuzz\", \"RT @cricbuzz: India's DLS-adjusted target is 174, after Australia finish with 158/4 in their 17 overs #AUSvIND\\n\\nhttps://t.co/YIVPDIIN6l\", 1065188718712160256], [2, \"CSKian716\", \"RT @CSKian716: This is crazy stuff from Bumrah. Watch a cricket fan fall in love with this guy one ball at a time. #AUSvIND\", 1065188702488453122], [39, \"its_tabrez_\", \"RT @its_tabrez_: Sorry \\ud83d\\ude4f\\ud83d\\ude05\\n\\n#AUSvIND #Bumrah https://t.co/B4vFIbo0oh\", 1065188698130542592], [2, \"KKRiders\", \"RT @KKRiders: The chase begins!\\n\\nS Dhawan &amp; R Sharma walk out to open the innings for #TeamIndia \\ud83c\\uddee\\ud83c\\uddf3\\n\\n#AUSvIND #KorboLorboJeetbo\", 1065188693084958720], [177, \"cricketcomau\", \"RT @cricketcomau: \\\"It's hit the Fox!\\\"\\n\\nJust wait for the camera shot at the end! #AUSvIND https://t.co/yoouEWxc9u\", 1065188685254144000], [2, \"KKRiders\", \"RT @KKRiders: The chase begins!\\n\\nS Dhawan &amp; R Sharma walk out to open the innings for #TeamIndia \\ud83c\\uddee\\ud83c\\uddf3\\n\\n#AUSvIND #KorboLorboJeetbo\", 1065188683995766785], [137, \"BCCI\", \"RT @BCCI: It an all clear. It will be a 17 over game. #TeamIndia will bowl 5 more deliveries. Play to restart 8:05PM local time #AUSvIND ht\\u2026\", 1065188672557830144], [4, \"BCCI\", \"RT @BCCI: 1st T20I. 0.4: J Behrendorff to S Dhawan (8), 4 runs, 11/0 https://t.co/LxNw8DrJvS #AusvInd\", 1065188669672296448], [548, \"BCCI\", \"RT @BCCI: Captain Kohli with a heart-warming gesture before the start of game at The Gabba #TeamIndia #AUSvIND https://t.co/KPANHQ78FT\", 1065188666237014017], [137, \"BCCI\", \"RT @BCCI: It an all clear. It will be a 17 over game. #TeamIndia will bowl 5 more deliveries. Play to restart 8:05PM local time #AUSvIND ht\\u2026\", 1065188661979828230], [990, \"SPNSportsIndia\", \"RT @SPNSportsIndia: Sparks will fly when two megastars, @rajinikanth and @akshaykumar meet on screen, and when India and Australia meet on\\u2026\", 1065188641234837505], [17, \"cricbuzz\", \"RT @cricbuzz: India's DLS-adjusted target is 174, after Australia finish with 158/4 in their 17 overs #AUSvIND\\n\\nhttps://t.co/YIVPDIIN6l\", 1065188622373191680], [3, \"khushikadri\", \"RT @khushikadri: Yeh Lo Ab Humko 174 Runs Chase Karne Padenge \\ud83d\\ude0f\\n\\nJab Ke Unhone Sirf 154 Runs Maare \\n\\nBohot Na Insaafi Hai Yeh \\ud83d\\ude2a \\ud83c\\udfa3 \\n\\nUnki Co\\u2026\", 1065188612348596230], [11, \"ESPNcricinfo\", \"RT @ESPNcricinfo: Only five runs off the final five balls for Australia, who finish on 4/158 in 17 overs. Maxwell top-scores with 46\\n\\nIndia\\u2026\", 1065188609689600000], [202, \"imVlkohli\", \"RT @imVlkohli: Oily hands after eating food made from #SaffolaOil is not good for fielding. You miss catches &amp; fielding like me &amp; my boys.\\u2026\", 1065188590622146560], [2, \"KKRiders\", \"RT @KKRiders: Rain reduces the game to 17 overs but staggering knocks from G Maxwell (46), @lynny50 (37) &amp; M Stoinis (33*) help Australia s\\u2026\", 1065188589502431234], [18, \"cricketcomau\", \"RT @cricketcomau: The revised target is in with confirmation that India need 174 to win from their 17 overs.\\n\\nStream via Kayo in our match\\u2026\", 1065188587912790016], [1, \"ajmalkabeer_\", \"RT @ajmalkabeer_: #AUSvIND 1st T20\\n\\n#Australia -  158/4 (17.1)\\n\\n#India Need 174 Runs From 17 Overs (D/L)\", 1065188582019620864], [21, \"SampathStats\", \"RT @SampathStats: India will be chasing 174 in 17 overs. 15 runs added to Australia's total of 158/4 via DLS. #AUSvIND\", 1065188552072486913], [1, \"suneerchowdhary\", \"RT @suneerchowdhary: Australia scored 158 and the target's jumped up to 174 - quite a jump especially given Bumrah and Bhuvneshwar had an o\\u2026\", 1065188550650544128], [4, \"GuideforAll\", \"RT @GuideforAll: \\ud83d\\udd38India's 1st Sri Vishwakarma Skill Development University will come up in which state ?\\n- #Haryana\\n\\n\\ud83d\\udd38Which country recentl\\u2026\", 1065188548561829888], [66, \"cricketcomau\", \"RT @cricketcomau: UPDATE: Play set to resume at 8:05pm local time. It will be 17 overs per side, so Australia will face five more balls wit\\u2026\", 1065188529251209216], [16, \"Cricketracker\", \"RT @Cricketracker: Glenn Maxwell hits form as IPL Auction is on the way. #AUSvIND #IPL https://t.co/xJDVZFLaDO\", 1065188527082737664], [27, \"ICC\", \"RT @ICC: Play is about to resume!\\n\\nAustralia will bat five more balls, making this a 17 over match. Their score will then be adjusted by DL\\u2026\", 1065188516785725440], [217, \"LMKMovieManiac\", \"RT @LMKMovieManiac: #AkshayKumar promoting #2Point0 along with the soon to begin India tour of Australia cricket matches.. \\n\\n#2Point0FromNo\\u2026\", 1065188490575532032], [11, \"Cinemabuz\", \"RT @Cinemabuz: #2Point0 Promotions goes sky-high at #AUSvIND t20 match #Rajinikanth #Akshaykumar https://t.co/160nHjgpNk\", 1065188485965828096], [548, \"BCCI\", \"RT @BCCI: Captain Kohli with a heart-warming gesture before the start of game at The Gabba #TeamIndia #AUSvIND https://t.co/KPANHQ78FT\", 1065188466391040000], [4, \"CricProf\", \"RT @CricProf: Maxwell v Bumrah - Head to Head in T20s\\n\\nInnings - 7\\nDismissals- 5\\nRuns - 38\\nStrike Rate - 115.2\\nFalse Shot Percentage - 42.8\\u2026\", 1065188465841750017], [10, \"ESPNcric_stats\", \"RT @ESPNcric_stats: If Australia don't bat any more, India's target from 16 overs will be 172 #AUSvIND\", 1065188450066989056], [7, \"cricketcomau\", \"RT @cricketcomau: After an hour delay, the players are back out in the middle! Stoinis 31* and Maxwell 46*.\\n\\nStream live via Kayo in our ma\\u2026\", 1065188446141128704], [12, \"ICC\", \"RT @ICC: Australia finish their innings on 158/4 from their 17 overs. India will need 174 to win according to the DLS method. \\n\\nGlenn Maxwe\\u2026\", 1065188439711191040], [1, \"NorthStandGang\", \"RT @NorthStandGang: Just to show that we're playing in Australia, we start the tour off with a 3.\\nOff and running!\\n#AUSvIND\", 1065188424217493506], [102, \"cricketcomau\", \"RT @cricketcomau: Upper decker! Chris Lynn launched a 108m six into the hands of Old Mate in the stands \\ud83d\\ude4c\\n\\n#AUSvIND @bet365_aus https://t.c\\u2026\", 1065188423378575360], [990, \"SPNSportsIndia\", \"RT @SPNSportsIndia: Sparks will fly when two megastars, @rajinikanth and @akshaykumar meet on screen, and when India and Australia meet on\\u2026\", 1065188418865442816], [12, \"ICC\", \"RT @ICC: Australia finish their innings on 158/4 from their 17 overs. India will need 174 to win according to the DLS method. \\n\\nGlenn Maxwe\\u2026\", 1065188405552664576], [12, \"ICC\", \"RT @ICC: Australia finish their innings on 158/4 from their 17 overs. India will need 174 to win according to the DLS method. \\n\\nGlenn Maxwe\\u2026\", 1065188401165426688], [6, \"RCBTweets\", \"RT @RCBTweets: So \\ud83c\\uddee\\ud83c\\uddf3 will need 174 runs to win in their stipulated 17 overs. \\n\\nCan #TeamIndia chase this or will \\ud83c\\udde6\\ud83c\\uddfa emerge victorious?\\n\\n#AU\\u2026\", 1065188390109241345], [67, \"RCBTweets\", \"RT @RCBTweets: .@imVkohli has won the toss and elected to field first. \\n\\n\\ud83c\\uddee\\ud83c\\uddf3 XI: Rohit, Dhawan, Rahul, @imVkohli, Karthik, Pant, Krunal, Bhu\\u2026\", 1065188379573141504], [7, \"mipaltan\", \"RT @mipaltan: Rohit Sharma and Shikhar Dhawan make their way to the middle. India will chase a revised target of 174 from 17 overs. \\n\\n#Cric\\u2026\", 1065188376192548864], [86, \"gaurav_sundar\", \"RT @gaurav_sundar: Kohli is not a big fan of match ups but Rohit is. In this format I believe it matters a lot. Kohli has a set template to\\u2026\", 1065188371012571137], [1, \"DelhiDaredevils\", \"RT @DelhiDaredevils: .@SDhawan25 and @ImRo45 stride out to the middle! India need 174 to win.\\n\\n#AUSvIND #DilDilli #Dhadkega\", 1065188368034627589], [2, \"BCCI\", \"RT @BCCI: 1st T20I. 0.2: J Behrendorff to S Dhawan (4), 4 runs, 7/0 https://t.co/LxNw8DrJvS #AusvInd\", 1065188361063796737], [548, \"BCCI\", \"RT @BCCI: Captain Kohli with a heart-warming gesture before the start of game at The Gabba #TeamIndia #AUSvIND https://t.co/KPANHQ78FT\", 1065188356760301568], [1, \"FoxCricket\", \"RT @FoxCricket: The chase is on! Sharma and Dhawan open for India. Behrendorff to bowl the first over \\n\\n#AusvInd\\n\\ud83d\\udcfa Watch LIVE on Fox Cricke\\u2026\", 1065188355502030848], [8, \"ESPNcricinfo\", \"RT @ESPNcricinfo: The match has been reduced to 17 overs a side at the Gabba \\n\\nPlay to resume in a few minutes\\n\\nhttps://t.co/Od8fIu6xym #AU\\u2026\", 1065188347033911296], [12, \"ICC\", \"RT @ICC: Australia finish their innings on 158/4 from their 17 overs. India will need 174 to win according to the DLS method. \\n\\nGlenn Maxwe\\u2026\", 1065188314083459077], [110, \"BCCI\", \"RT @BCCI: It's pouring here at The Gabba. We will get back with an update soon #TeamIndia #AUSvIND https://t.co/nmNkWYJjX2\", 1065188312946593794], [12, \"ICC\", \"RT @ICC: Australia finish their innings on 158/4 from their 17 overs. India will need 174 to win according to the DLS method. \\n\\nGlenn Maxwe\\u2026\", 1065188309343686657], [548, \"BCCI\", \"RT @BCCI: Captain Kohli with a heart-warming gesture before the start of game at The Gabba #TeamIndia #AUSvIND https://t.co/KPANHQ78FT\", 1065188309284999169], [137, \"BCCI\", \"RT @BCCI: It an all clear. It will be a 17 over game. #TeamIndia will bowl 5 more deliveries. Play to restart 8:05PM local time #AUSvIND ht\\u2026\", 1065188303954108417], [27, \"ICC\", \"RT @ICC: Play is about to resume!\\n\\nAustralia will bat five more balls, making this a 17 over match. Their score will then be adjusted by DL\\u2026\", 1065188298086391808], [1, \"PatelOnTop\", \"RT @PatelOnTop: AAP leader tells lady TV anchor to 'become a prostitute'\\n\\u092f\\u0947 \\u092d\\u0921\\u093c\\u0935\\u093e \\u0915\\u0947\\u091c\\u0930\\u0940\\u0935\\u093e\\u0932 \\u0905\\u092a\\u0928\\u0940 \\u092c\\u0947\\u091f\\u0940 \\u0915\\u094b \\u0915\\u094b\\u0920\\u0947 \\u092a\\u0930 \\u0915\\u092c \\u092c\\u093f\\u0920\\u093e\\u092f\\u0947\\u0917\\u093e\\ud83d\\ude23\\n\\n#BreatheFit\\n#\\u2026\", 1065188290863738880], [12, \"ICC\", \"RT @ICC: Australia finish their innings on 158/4 from their 17 overs. India will need 174 to win according to the DLS method. \\n\\nGlenn Maxwe\\u2026\", 1065188268126289920], [38, \"trollsangh\", \"RT @trollsangh: Educate your children. don't make him a #Chaiwala \\ud83d\\ude23\\ud83d\\ude23\\ud83d\\ude23\\n#AusvsIndonSonyLIV #EidMiladUnNabi #AUSvIND #TrollSangh #Sabarimala\\n#\\u2026\", 1065188265718886400], [2, \"NewsNationTV\", \"RT @NewsNationTV: Careless shot from Aaron Finch. Kuldeep Yadav bowls the googly and gets the ball to spin away, Finch miscues the slog and\\u2026\", 1065188263315431425], [7, \"mipaltan\", \"RT @mipaltan: Rohit Sharma and Shikhar Dhawan make their way to the middle. India will chase a revised target of 174 from 17 overs. \\n\\n#Cric\\u2026\", 1065188262573043713], [18, \"RCBTweets\", \"RT @RCBTweets: Bumrah does what he does best! \\n\\nMatch reduced to 17 overs and Bumrah delivers an exceptional last over.\\n\\n\\ud83c\\udde6\\ud83c\\uddfa still post a ch\\u2026\", 1065188257304985603], [548, \"BCCI\", \"RT @BCCI: Captain Kohli with a heart-warming gesture before the start of game at The Gabba #TeamIndia #AUSvIND https://t.co/KPANHQ78FT\", 1065188256340275201], [6, \"cricbuzz\", \"RT @cricbuzz: The dangerous Chris Lynn is undone by Kuldeep who is in the middle of a lovely spell #AUSvIND \\n\\nhttps://t.co/YIVPDIIN6l\", 1065188255820214273], [39, \"its_tabrez_\", \"RT @its_tabrez_: Sorry \\ud83d\\ude4f\\ud83d\\ude05\\n\\n#AUSvIND #Bumrah https://t.co/B4vFIbo0oh\", 1065188233326129153], [69, \"SirJadeja\", \"RT @SirJadeja: \\ud83d\\udc491st Wicket: c Kuldeep b Khaleel \\n\\ud83d\\udc492nd Wicket: c Khaleel b Kuldeep\\n\\ud83d\\udc493rd Wicket: c&amp;b Kuldeep Yadav\\n\\nSeems India Is Playing Wi\\u2026\", 1065188227080839169], [137, \"BCCI\", \"RT @BCCI: It an all clear. It will be a 17 over game. #TeamIndia will bowl 5 more deliveries. Play to restart 8:05PM local time #AUSvIND ht\\u2026\", 1065188220965548032], [4, \"NWN2019\", \"RT @NWN2019: Top CEOs have this to say about PM @narendramodi 's reforms\\ud83d\\udc42\\n\\n#EaseOfDoingBusiness #AUSvIND #breathefit #arrestkamalnath https\\u2026\", 1065188212153311232], [3, \"khushikadri\", \"RT @khushikadri: Yeh Lo Ab Humko 174 Runs Chase Karne Padenge \\ud83d\\ude0f\\n\\nJab Ke Unhone Sirf 154 Runs Maare \\n\\nBohot Na Insaafi Hai Yeh \\ud83d\\ude2a \\ud83c\\udfa3 \\n\\nUnki Co\\u2026\", 1065188198622683136], [202, \"imVlkohli\", \"RT @imVlkohli: Oily hands after eating food made from #SaffolaOil is not good for fielding. You miss catches &amp; fielding like me &amp; my boys.\\u2026\", 1065188190846373888], [6, \"indiancricfans1\", \"RT @indiancricfans1: Comment your #Opinion \\nVirat Kohli has a record for most runs in a #calendar year in #T20Is.  641 runs in 2016. Now #R\\u2026\", 1065188188837171200], [3, \"statanalyst\", \"RT @statanalyst: No team has ever managed to score more than 164 in 17 overs in T20I run-chases in Australia. The task is against Team Indi\\u2026\", 1065188187239178241], [1, \"mytentaran\", \"RT @mytentaran: IPL 2019: Full list of players retained, released and traded \\n#IPL #INDvAUS #AUSvIND #Tentaran \\n\\n https://t.co/F5lwXk89sz\", 1065188185989238785], [177, \"cricketcomau\", \"RT @cricketcomau: \\\"It's hit the Fox!\\\"\\n\\nJust wait for the camera shot at the end! #AUSvIND https://t.co/yoouEWxc9u\", 1065188183204225024], [548, \"BCCI\", \"RT @BCCI: Captain Kohli with a heart-warming gesture before the start of game at The Gabba #TeamIndia #AUSvIND https://t.co/KPANHQ78FT\", 1065188182445064192], [78, \"mohanstatsman\", \"RT @mohanstatsman: If India has to bat now, their target in 16 overs will be 172\\n#IndvAus\\n#AusvInd\", 1065188177248346112], [12, \"ICC\", \"RT @ICC: Australia finish their innings on 158/4 from their 17 overs. India will need 174 to win according to the DLS method. \\n\\nGlenn Maxwe\\u2026\", 1065188164925501445], [78, \"BCCI\", \"RT @BCCI: 1st T20I. India win the toss and elect to field https://t.co/LxNw8DrJvS #AusvInd\", 1065188155014488065], [202, \"imVlkohli\", \"RT @imVlkohli: Oily hands after eating food made from #SaffolaOil is not good for fielding. You miss catches &amp; fielding like me &amp; my boys.\\u2026\", 1065188150262280193], [6, \"Official_Ayush\", \"RT @Official_Ayush: @SPNSportsIndia @SPNSportsIndia this is going to be the worst experience of such a high profile #AUSvIND series if you\\u2026\", 1065188146772500480], [548, \"BCCI\", \"RT @BCCI: Captain Kohli with a heart-warming gesture before the start of game at The Gabba #TeamIndia #AUSvIND https://t.co/KPANHQ78FT\", 1065188135754063873], [137, \"BCCI\", \"RT @BCCI: It an all clear. It will be a 17 over game. #TeamIndia will bowl 5 more deliveries. Play to restart 8:05PM local time #AUSvIND ht\\u2026\", 1065188124270059521], [3, \"madam_jadeja\", \"RT @madam_jadeja: Who is better Bowler in T20s? \\ud83e\\udd14\\n\\n#KrunalPandya #INDvAUS #AUSvIND\", 1065188119484477440], [548, \"BCCI\", \"RT @BCCI: Captain Kohli with a heart-warming gesture before the start of game at The Gabba #TeamIndia #AUSvIND https://t.co/KPANHQ78FT\", 1065188113671106560], [120, \"sanjaymanjrekar\", \"RT @sanjaymanjrekar: I know Krunal is a very tempting option to have in the team, but he must never come in place of Chahal or Kuldeep. It\\u2026\", 1065188090803888129], [21, \"SampathStats\", \"RT @SampathStats: India will be chasing 174 in 17 overs. 15 runs added to Australia's total of 158/4 via DLS. #AUSvIND\", 1065188086999539713], [7, \"mipaltan\", \"RT @mipaltan: Rohit Sharma and Shikhar Dhawan make their way to the middle. India will chase a revised target of 174 from 17 overs. \\n\\n#Cric\\u2026\", 1065188082922663939], [177, \"cricketcomau\", \"RT @cricketcomau: \\\"It's hit the Fox!\\\"\\n\\nJust wait for the camera shot at the end! #AUSvIND https://t.co/yoouEWxc9u\", 1065188082197192704], [12, \"ICC\", \"RT @ICC: Australia finish their innings on 158/4 from their 17 overs. India will need 174 to win according to the DLS method. \\n\\nGlenn Maxwe\\u2026\", 1065188063356145664], [7, \"mipaltan\", \"RT @mipaltan: Rohit Sharma and Shikhar Dhawan make their way to the middle. India will chase a revised target of 174 from 17 overs. \\n\\n#Cric\\u2026\", 1065188062945267712], [25, \"cricbuzz\", \"RT @cricbuzz: Play to resume at 8.05pm local (3.35pm IST)\\n\\nAustralia will face five more balls as this match is now a 17-over affair #AUSvI\\u2026\", 1065188054434930688], [17, \"sportsbetcomau\", \"RT @sportsbetcomau: Hitting the Spider Cam should be like catching the Golden Snitch. Game over and your team wins instantly. #AUSvIND\", 1065188053872979968], [20, \"gauravkalra75\", \"RT @gauravkalra75: maxwell in the middle of another IPL auction audition #AUSvIND\", 1065188025758507010], [58, \"ICC\", \"RT @ICC: Rain has stopped play in Brisbane! \\ud83c\\udf27\\ufe0f\\n\\nAustralia are 153/3 after 16.1 overs with Glenn Maxwell on 46 and Marcus Stoinis on 31.\\n\\n#A\\u2026\", 1065188025553100801], [990, \"SPNSportsIndia\", \"RT @SPNSportsIndia: Sparks will fly when two megastars, @rajinikanth and @akshaykumar meet on screen, and when India and Australia meet on\\u2026\", 1065188003629289472], [78, \"mohanstatsman\", \"RT @mohanstatsman: If India has to bat now, their target in 16 overs will be 172\\n#IndvAus\\n#AusvInd\", 1065187990077607936], [17, \"cricbuzz\", \"RT @cricbuzz: India's DLS-adjusted target is 174, after Australia finish with 158/4 in their 17 overs #AUSvIND\\n\\nhttps://t.co/YIVPDIIN6l\", 1065187983828140032], [70, \"FoxSportsLab\", \"RT @FoxSportsLab: .@imVkohli has scored the most T20I runs by any batsman against Australia\\n\\nKohli scored 199 runs @ 160.48 SR in his last\\u2026\", 1065187981974212614], [3, \"khushikadri\", \"RT @khushikadri: Yeh Lo Ab Humko 174 Runs Chase Karne Padenge \\ud83d\\ude0f\\n\\nJab Ke Unhone Sirf 154 Runs Maare \\n\\nBohot Na Insaafi Hai Yeh \\ud83d\\ude2a \\ud83c\\udfa3 \\n\\nUnki Co\\u2026\", 1065187971601715202], [2, \"imtuhindixit\", \"RT @imtuhindixit: #AusvsIndonSonyLIV  Rain was blessing in disguise for India..they save khaleel over and who was bowling last 5 balls..its\\u2026\", 1065187963988959232], [6, \"RCBTweets\", \"RT @RCBTweets: So \\ud83c\\uddee\\ud83c\\uddf3 will need 174 runs to win in their stipulated 17 overs. \\n\\nCan #TeamIndia chase this or will \\ud83c\\udde6\\ud83c\\uddfa emerge victorious?\\n\\n#AU\\u2026\", 1065187962990678016], [7, \"mipaltan\", \"RT @mipaltan: Rohit Sharma and Shikhar Dhawan make their way to the middle. India will chase a revised target of 174 from 17 overs. \\n\\n#Cric\\u2026\", 1065187957286428672], [3, \"IndiaToday\", \"RT @IndiaToday: #INDvAUS #AUSvIND Australia finish with 158/4 after a rain break reduced the match to 17-overs-a-side. But India will chase\\u2026\", 1065187952660226048], [548, \"BCCI\", \"RT @BCCI: Captain Kohli with a heart-warming gesture before the start of game at The Gabba #TeamIndia #AUSvIND https://t.co/KPANHQ78FT\", 1065187944145674240], [39, \"its_tabrez_\", \"RT @its_tabrez_: Sorry \\ud83d\\ude4f\\ud83d\\ude05\\n\\n#AUSvIND #Bumrah https://t.co/B4vFIbo0oh\", 1065187918392713216], [7, \"mipaltan\", \"RT @mipaltan: Rohit Sharma and Shikhar Dhawan make their way to the middle. India will chase a revised target of 174 from 17 overs. \\n\\n#Cric\\u2026\", 1065187917688057856], [49, \"Dr_SimranSingh\", \"RT @Dr_SimranSingh: \\u0938\\u094b\\u092e\\u0928\\u093e\\u0925 \\u092d\\u093e\\u0930\\u0924\\u0940 \\u091c\\u093f\\u0938\\u0947 \\u0924\\u0942 \\u0927\\u0902\\u0927\\u0947 \\u0935\\u093e\\u0932\\u0940 \\u092c\\u094b\\u0932 \\u0930\\u0939\\u093e \\u0939\\u0948 \\u0909\\u0938\\u0940 \\u0927\\u0902\\u0927\\u0947 \\u0935\\u093e\\u0932\\u0940 \\u0915\\u0940 \\u0926\\u094b\\u0938\\u094d\\u0924 \\u0924\\u0947\\u0930\\u0940 \\u092c\\u0947\\u091f\\u0940 \\u0939\\u0948\\n\\n\\u0907\\u0938 \\u0939\\u093f\\u0938\\u093e\\u092c \\u0938\\u0947 \\u0924\\u094b \\u0924\\u0942 \\u0905\\u092a\\u0928\\u0940 \\u092c\\u0947\\u091f\\u0940 \\u0915\\u094b \\u092d\\u0940 \\u0927\\u0902\\u0927\\u0947\\u2026\", 1065187916228440064], [2, \"KKRiders\", \"RT @KKRiders: Rain reduces the game to 17 overs but staggering knocks from G Maxwell (46), @lynny50 (37) &amp; M Stoinis (33*) help Australia s\\u2026\", 1065187904555646976], [38, \"trollsangh\", \"RT @trollsangh: Educate your children. don't make him a #Chaiwala \\ud83d\\ude23\\ud83d\\ude23\\ud83d\\ude23\\n#AusvsIndonSonyLIV #EidMiladUnNabi #AUSvIND #TrollSangh #Sabarimala\\n#\\u2026\", 1065187896427192320], [20, \"cricketcomau\", \"RT @cricketcomau: Glenn Maxwell top-scored with 46 as Australia posted 4-158 from their 17 overs.\\n\\nInfo on the run chase coming soon: https\\u2026\", 1065187887480795136], [27, \"ICC\", \"RT @ICC: Play is about to resume!\\n\\nAustralia will bat five more balls, making this a 17 over match. Their score will then be adjusted by DL\\u2026\", 1065187882074324992], [18, \"cricketcomau\", \"RT @cricketcomau: The revised target is in with confirmation that India need 174 to win from their 17 overs.\\n\\nStream via Kayo in our match\\u2026\", 1065187861157171201], [17, \"Sunildass1106\", \"RT @Sunildass1106: #ThuppakkiMunai\\n#EidMiladUnNabi\\n#AUSvIND\\n#AUSvsIND\\n\\u0915\\u0941\\u0930\\u093e\\u0928 \\u091c\\u094d\\u091e\\u093e\\u0928\\u0926\\u093e\\u0924\\u093e \\u0939\\u091c\\u0930\\u0924 \\u092e\\u094b\\u0939\\u092e\\u094d\\u092e\\u0926 \\u091c\\u0940 \\u0915\\u094b \\u092c\\u093e \\u0916\\u092c\\u0930 \\u0915\\u0947 \\u092c\\u093e\\u0930\\u0947 \\u092e\\u0947\\u0902 \\u091c\\u093e\\u0928\\u0915\\u093e\\u0930\\u0940 \\u0926\\u0947\\u0924\\u093e \\u0939\\u0948\\u2026\", 1065187858544119808], [22, \"cricketcomau\", \"RT @cricketcomau: This looks promising! Covers coming off at the Gabba... #AUSvIND https://t.co/HW09hVOINP\", 1065187845843886081], [6, \"RCBTweets\", \"RT @RCBTweets: So \\ud83c\\uddee\\ud83c\\uddf3 will need 174 runs to win in their stipulated 17 overs. \\n\\nCan #TeamIndia chase this or will \\ud83c\\udde6\\ud83c\\uddfa emerge victorious?\\n\\n#AU\\u2026\", 1065187845344714752], [1, \"indiatvnews\", \"RT @indiatvnews: #AUSvIND 1st T20I: The match has been reduced to 17 overs a-side at the Gabba. Play to resume soon. Australia 153/3 from 1\\u2026\", 1065187843125927937], [202, \"imVlkohli\", \"RT @imVlkohli: Oily hands after eating food made from #SaffolaOil is not good for fielding. You miss catches &amp; fielding like me &amp; my boys.\\u2026\", 1065187842391924744], [1, \"sanelynormal\", \"RT @sanelynormal: Hey if you want to watch fox cricket  coverage of #AUSvIND #INDvAUS here it is.\\n\\nhttps://t.co/rFVEQN1tH7\", 1065187835399925760], [18, \"RCBTweets\", \"RT @RCBTweets: Bumrah does what he does best! \\n\\nMatch reduced to 17 overs and Bumrah delivers an exceptional last over.\\n\\n\\ud83c\\udde6\\ud83c\\uddfa still post a ch\\u2026\", 1065187822724820993], [1, \"IExpressSports\", \"RT @IExpressSports: #AUSvIND \\n\\nIndia need 174 to win in 17 ovs (DLS). Can they chase it down? Rohit Sharma and Shikhar Dhawan out in the mi\\u2026\", 1065187822334853123], [1, \"CricPlex\", \"RT @CricPlex: Australia vs India, 1st T20I  \\ud83c\\udfcf\\ud83c\\udfcf\\nAustralia reach 1\\u20e35\\u20e38\\u20e3/4 in 17 overs, the target for India is 1\\ufe0f\\u20e37\\ufe0f\\u20e34\\ufe0f\\u20e3 as per D/L method. M\\u2026\", 1065187812767608835], [990, \"SPNSportsIndia\", \"RT @SPNSportsIndia: Sparks will fly when two megastars, @rajinikanth and @akshaykumar meet on screen, and when India and Australia meet on\\u2026\", 1065187809093283841], [177, \"cricketcomau\", \"RT @cricketcomau: \\\"It's hit the Fox!\\\"\\n\\nJust wait for the camera shot at the end! #AUSvIND https://t.co/yoouEWxc9u\", 1065187801677922306], [202, \"imVlkohli\", \"RT @imVlkohli: Oily hands after eating food made from #SaffolaOil is not good for fielding. You miss catches &amp; fielding like me &amp; my boys.\\u2026\", 1065187788054650881], [137, \"BCCI\", \"RT @BCCI: It an all clear. It will be a 17 over game. #TeamIndia will bowl 5 more deliveries. Play to restart 8:05PM local time #AUSvIND ht\\u2026\", 1065187787270287360], [137, \"BCCI\", \"RT @BCCI: It an all clear. It will be a 17 over game. #TeamIndia will bowl 5 more deliveries. Play to restart 8:05PM local time #AUSvIND ht\\u2026\", 1065187786054033408], [1, \"dipendra1988\", \"RT @dipendra1988: #AUSvIND\\nThese tribals know better than us about how to deal with these fuckers...\\n\\n@noconversion\\n\\nhttps://t.co/0p5sLhjTCZ\", 1065187774163234816], [6, \"RCBTweets\", \"RT @RCBTweets: So \\ud83c\\uddee\\ud83c\\uddf3 will need 174 runs to win in their stipulated 17 overs. \\n\\nCan #TeamIndia chase this or will \\ud83c\\udde6\\ud83c\\uddfa emerge victorious?\\n\\n#AU\\u2026\", 1065187757293633536], [39, \"its_tabrez_\", \"RT @its_tabrez_: Sorry \\ud83d\\ude4f\\ud83d\\ude05\\n\\n#AUSvIND #Bumrah https://t.co/B4vFIbo0oh\", 1065187753992716291], [78, \"BCCI\", \"RT @BCCI: 1st T20I. India win the toss and elect to field https://t.co/LxNw8DrJvS #AusvInd\", 1065187753179004928], [27, \"ICC\", \"RT @ICC: Play is about to resume!\\n\\nAustralia will bat five more balls, making this a 17 over match. Their score will then be adjusted by DL\\u2026\", 1065187730647339009], [15, \"Msd7official\", \"RT @Msd7official: RT if you miss MS Dhoni in Today Match against Australia...\\n#AUSvIND #dhoni https://t.co/yt19w6xtGQ\", 1065187723688984576], [7, \"SPNSportsIndia\", \"RT @SPNSportsIndia: Reprieve for Marcus Stoinis!\\n\\nAlong with Maxwell, how much more damage can he do? \\ud83e\\udd14\\n\\n1st #AUSvIND T20I LIVE on SONY SIX\\u2026\", 1065187717800054784], [6, \"RCBTweets\", \"RT @RCBTweets: So \\ud83c\\uddee\\ud83c\\uddf3 will need 174 runs to win in their stipulated 17 overs. \\n\\nCan #TeamIndia chase this or will \\ud83c\\udde6\\ud83c\\uddfa emerge victorious?\\n\\n#AU\\u2026\", 1065187716810174464], [548, \"BCCI\", \"RT @BCCI: Captain Kohli with a heart-warming gesture before the start of game at The Gabba #TeamIndia #AUSvIND https://t.co/KPANHQ78FT\", 1065187709809913857], [27, \"ICC\", \"RT @ICC: Play is about to resume!\\n\\nAustralia will bat five more balls, making this a 17 over match. Their score will then be adjusted by DL\\u2026\", 1065187688699977728], [102, \"cricketcomau\", \"RT @cricketcomau: Upper decker! Chris Lynn launched a 108m six into the hands of Old Mate in the stands \\ud83d\\ude4c\\n\\n#AUSvIND @bet365_aus https://t.c\\u2026\", 1065187674196074496], [6, \"VirushkaUpdate_\", \"RT @VirushkaUpdate_: @imVkohli with @Uz_Khawaja before start of the match \\u2764 #AUSvIND https://t.co/wKHdlmpoHa\", 1065187669385211904], [39, \"its_tabrez_\", \"RT @its_tabrez_: Sorry \\ud83d\\ude4f\\ud83d\\ude05\\n\\n#AUSvIND #Bumrah https://t.co/B4vFIbo0oh\", 1065187668051419137], [17, \"cricbuzz\", \"RT @cricbuzz: India's DLS-adjusted target is 174, after Australia finish with 158/4 in their 17 overs #AUSvIND\\n\\nhttps://t.co/YIVPDIIN6l\", 1065187660967202822], [18, \"cricketcomau\", \"RT @cricketcomau: The revised target is in with confirmation that India need 174 to win from their 17 overs.\\n\\nStream via Kayo in our match\\u2026\", 1065187656991002625], [548, \"BCCI\", \"RT @BCCI: Captain Kohli with a heart-warming gesture before the start of game at The Gabba #TeamIndia #AUSvIND https://t.co/KPANHQ78FT\", 1065187655691001856], [30, \"RohitsAvenger\", \"RT @RohitsAvenger: Misfielded, Dropped catch. So Kohli does exercise just to look good with Anushka in tv ads? #AUSvIND\", 1065187643950952449], [86, \"gaurav_sundar\", \"RT @gaurav_sundar: Kohli is not a big fan of match ups but Rohit is. In this format I believe it matters a lot. Kohli has a set template to\\u2026\", 1065187635260321792], [67, \"RCBTweets\", \"RT @RCBTweets: .@imVkohli has won the toss and elected to field first. \\n\\n\\ud83c\\uddee\\ud83c\\uddf3 XI: Rohit, Dhawan, Rahul, @imVkohli, Karthik, Pant, Krunal, Bhu\\u2026\", 1065187619967913984], [38, \"trollsangh\", \"RT @trollsangh: Educate your children. don't make him a #Chaiwala \\ud83d\\ude23\\ud83d\\ude23\\ud83d\\ude23\\n#AusvsIndonSonyLIV #EidMiladUnNabi #AUSvIND #TrollSangh #Sabarimala\\n#\\u2026\", 1065187593510363136], [99, \"cricketcomau\", \"RT @cricketcomau: Fair to say the Indian fans went a little wild when this man strolled out #AUSvIND https://t.co/Uo4KoWFVx0\", 1065187587189465088], [1, \"rkvvss\", \"RT @rkvvss: I saw ads during #AUSvIND which says #AirtelThanks &amp; @airtelindia is so generous in throwing biscuits in the form of #AmazonPri\\u2026\", 1065187584983351296], [137, \"BCCI\", \"RT @BCCI: It an all clear. It will be a 17 over game. #TeamIndia will bowl 5 more deliveries. Play to restart 8:05PM local time #AUSvIND ht\\u2026\", 1065187584744116224], [3, \"IndiaToday\", \"RT @IndiaToday: #INDvAUS #AUSvIND Australia finish with 158/4 after a rain break reduced the match to 17-overs-a-side. But India will chase\\u2026\", 1065187575311163392], [137, \"BCCI\", \"RT @BCCI: It an all clear. It will be a 17 over game. #TeamIndia will bowl 5 more deliveries. Play to restart 8:05PM local time #AUSvIND ht\\u2026\", 1065187574409396224], [2, \"SPNSportsIndia\", \"RT @SPNSportsIndia: A quickfire knock from @Gmaxi_32 and an explosive start from Lynn helped the Aussies put up a competitive total!\\n\\nAdjus\\u2026\", 1065187565710434304], [18, \"RCBTweets\", \"RT @RCBTweets: Bumrah does what he does best! \\n\\nMatch reduced to 17 overs and Bumrah delivers an exceptional last over.\\n\\n\\ud83c\\udde6\\ud83c\\uddfa still post a ch\\u2026\", 1065187557166567424], [27, \"ICC\", \"RT @ICC: Play is about to resume!\\n\\nAustralia will bat five more balls, making this a 17 over match. Their score will then be adjusted by DL\\u2026\", 1065187551596601344], [4, \"NWN2019\", \"RT @NWN2019: Top CEOs have this to say about PM @narendramodi 's reforms\\ud83d\\udc42\\n\\n#EaseOfDoingBusiness #AUSvIND #breathefit #arrestkamalnath https\\u2026\", 1065187549637828610], [2, \"achalasati1\", \"RT @achalasati1: We miss Msdhoni! \\n#AUSvIND #INDvAUS #MSDhoni https://t.co/ZBpgLWevv5\", 1065187548828454912], [6, \"SirRavindraJadu\", \"RT @SirRavindraJadu: @SirJadeja Quiz Time Related To Cricket.\\n\\nWho is the only one Indian bowler who used to bowled and behaved as Australi\\u2026\", 1065187529500983296], [2, \"SPNSportsIndia\", \"RT @SPNSportsIndia: A quickfire knock from @Gmaxi_32 and an explosive start from Lynn helped the Aussies put up a competitive total!\\n\\nAdjus\\u2026\", 1065187518927187968], [1, \"iCricketFreak\", \"RT @iCricketFreak: So 174 is the target for India \\ud83c\\uddee\\ud83c\\uddf3 in 17 overs vs Australia \\ud83c\\udde6\\ud83c\\uddfa\\n\\n#AUSvIND \\ud83c\\udfcf\", 1065187518340046848], [17, \"cricbuzz\", \"RT @cricbuzz: India's DLS-adjusted target is 174, after Australia finish with 158/4 in their 17 overs #AUSvIND\\n\\nhttps://t.co/YIVPDIIN6l\", 1065187506881085441], [64, \"cricketcomau\", \"RT @cricketcomau: BANG! Lynn goes large and Old Mate takes the grab in the stands!\\n\\nWatch live via Kayo: https://t.co/HW09hVOINP #AUSvIND h\\u2026\", 1065187506142859264], [4, \"danbrettig\", \"RT @danbrettig: That over, given DLS calculation to come, was absolute gold for India #AusvInd\", 1065187503185965056], [2, \"Official_Ayush\", \"RT @Official_Ayush: @bhogleharsha @SPNSportsIndia Seems like @SPNSportsIndia don't have enough money to telecast #AUSvIND directly from Aus\\u2026\", 1065187494411427840], [548, \"BCCI\", \"RT @BCCI: Captain Kohli with a heart-warming gesture before the start of game at The Gabba #TeamIndia #AUSvIND https://t.co/KPANHQ78FT\", 1065187488140947458], [21, \"SampathStats\", \"RT @SampathStats: India will be chasing 174 in 17 overs. 15 runs added to Australia's total of 158/4 via DLS. #AUSvIND\", 1065187461985234945], [548, \"BCCI\", \"RT @BCCI: Captain Kohli with a heart-warming gesture before the start of game at The Gabba #TeamIndia #AUSvIND https://t.co/KPANHQ78FT\", 1065187457115729921], [4, \"CricProf\", \"RT @CricProf: Maxwell v Bumrah - Head to Head in T20s\\n\\nInnings - 7\\nDismissals- 5\\nRuns - 38\\nStrike Rate - 115.2\\nFalse Shot Percentage - 42.8\\u2026\", 1065187454972583936], [120, \"sanjaymanjrekar\", \"RT @sanjaymanjrekar: I know Krunal is a very tempting option to have in the team, but he must never come in place of Chahal or Kuldeep. It\\u2026\", 1065187444801191936], [2, \"NewsNationTV\", \"RT @NewsNationTV: Chances of Australia resuming their innings seems bleak as the rain continues to lash the Gabba. Australia are 153/3 afte\\u2026\", 1065187435670196225], [9, \"SonyLIV\", \"RT @SonyLIV: The #MenInBlue embark on their Australian tour. Catch all the high-stakes cricketing drama and action only on #SonyLIV. \\n\\nDown\\u2026\", 1065187427185086465], [3, \"statanalyst\", \"RT @statanalyst: No team has ever managed to score more than 164 in 17 overs in T20I run-chases in Australia. The task is against Team Indi\\u2026\", 1065187422927908871], [137, \"BCCI\", \"RT @BCCI: It an all clear. It will be a 17 over game. #TeamIndia will bowl 5 more deliveries. Play to restart 8:05PM local time #AUSvIND ht\\u2026\", 1065187418733715456], [39, \"its_tabrez_\", \"RT @its_tabrez_: Sorry \\ud83d\\ude4f\\ud83d\\ude05\\n\\n#AUSvIND #Bumrah https://t.co/B4vFIbo0oh\", 1065187417391489025], [137, \"BCCI\", \"RT @BCCI: It an all clear. It will be a 17 over game. #TeamIndia will bowl 5 more deliveries. Play to restart 8:05PM local time #AUSvIND ht\\u2026\", 1065187408189235201], [110, \"BCCI\", \"RT @BCCI: It's pouring here at The Gabba. We will get back with an update soon #TeamIndia #AUSvIND https://t.co/nmNkWYJjX2\", 1065187407375593472], [137, \"BCCI\", \"RT @BCCI: It an all clear. It will be a 17 over game. #TeamIndia will bowl 5 more deliveries. Play to restart 8:05PM local time #AUSvIND ht\\u2026\", 1065187402292039680], [137, \"BCCI\", \"RT @BCCI: It an all clear. It will be a 17 over game. #TeamIndia will bowl 5 more deliveries. Play to restart 8:05PM local time #AUSvIND ht\\u2026\", 1065187393697792000], [69, \"SirJadeja\", \"RT @SirJadeja: \\ud83d\\udc491st Wicket: c Kuldeep b Khaleel \\n\\ud83d\\udc492nd Wicket: c Khaleel b Kuldeep\\n\\ud83d\\udc493rd Wicket: c&amp;b Kuldeep Yadav\\n\\nSeems India Is Playing Wi\\u2026\", 1065187392523575296], [17, \"sportsbetcomau\", \"RT @sportsbetcomau: Hitting the Spider Cam should be like catching the Golden Snitch. Game over and your team wins instantly. #AUSvIND\", 1065187379982422016], [990, \"SPNSportsIndia\", \"RT @SPNSportsIndia: Sparks will fly when two megastars, @rajinikanth and @akshaykumar meet on screen, and when India and Australia meet on\\u2026\", 1065187372583673861], [6, \"VirushkaUpdate_\", \"RT @VirushkaUpdate_: @imVkohli with @Uz_Khawaja before start of the match \\u2764 #AUSvIND https://t.co/wKHdlmpoHa\", 1065187372432805888], [3, \"statanalyst\", \"RT @statanalyst: No team has ever managed to score more than 164 in 17 overs in T20I run-chases in Australia. The task is against Team Indi\\u2026\", 1065187371870756864], [49, \"Dr_SimranSingh\", \"RT @Dr_SimranSingh: \\u0938\\u094b\\u092e\\u0928\\u093e\\u0925 \\u092d\\u093e\\u0930\\u0924\\u0940 \\u091c\\u093f\\u0938\\u0947 \\u0924\\u0942 \\u0927\\u0902\\u0927\\u0947 \\u0935\\u093e\\u0932\\u0940 \\u092c\\u094b\\u0932 \\u0930\\u0939\\u093e \\u0939\\u0948 \\u0909\\u0938\\u0940 \\u0927\\u0902\\u0927\\u0947 \\u0935\\u093e\\u0932\\u0940 \\u0915\\u0940 \\u0926\\u094b\\u0938\\u094d\\u0924 \\u0924\\u0947\\u0930\\u0940 \\u092c\\u0947\\u091f\\u0940 \\u0939\\u0948\\n\\n\\u0907\\u0938 \\u0939\\u093f\\u0938\\u093e\\u092c \\u0938\\u0947 \\u0924\\u094b \\u0924\\u0942 \\u0905\\u092a\\u0928\\u0940 \\u092c\\u0947\\u091f\\u0940 \\u0915\\u094b \\u092d\\u0940 \\u0927\\u0902\\u0927\\u0947\\u2026\", 1065187359191371777], [26, \"ViratGang\", \"RT @ViratGang: [PICS] [EXCLUSIVE] @imVkohli giving away autographs to the #TeamIndia fans, present at @GabbaBrisbane. \\ud83e\\udd29 @BCCI #AUSvIND #Kin\\u2026\", 1065187358855884800], [8, \"ESPNcricinfo\", \"RT @ESPNcricinfo: The match has been reduced to 17 overs a side at the Gabba \\n\\nPlay to resume in a few minutes\\n\\nhttps://t.co/Od8fIu6xym #AU\\u2026\", 1065187357349994496], [4, \"NaturL91\", \"RT @NaturL91: Nabi mohmmad ji ne kabhi mans nhi khaya or bisht me gye\\nJbki unk bad muslim mans khane lge\\nKuran sarif me jhan jhan shaitan k\\u2026\", 1065187321987747840], [548, \"BCCI\", \"RT @BCCI: Captain Kohli with a heart-warming gesture before the start of game at The Gabba #TeamIndia #AUSvIND https://t.co/KPANHQ78FT\", 1065187304401195008], [1, \"appy10_\", \"RT @appy10_: Praising, Criticizing , Trolling is part of game\\n\\nLekin jo bhi bolo, Match day par Twitter me Jaan aa jaati h\\n\\nSaare log activ\\u2026\", 1065187290614382592], [18, \"RCBTweets\", \"RT @RCBTweets: Bumrah does what he does best! \\n\\nMatch reduced to 17 overs and Bumrah delivers an exceptional last over.\\n\\n\\ud83c\\udde6\\ud83c\\uddfa still post a ch\\u2026\", 1065187285673672705], [17, \"cricbuzz\", \"RT @cricbuzz: India's DLS-adjusted target is 174, after Australia finish with 158/4 in their 17 overs #AUSvIND\\n\\nhttps://t.co/YIVPDIIN6l\", 1065187282251104256], [18, \"cricketcomau\", \"RT @cricketcomau: The revised target is in with confirmation that India need 174 to win from their 17 overs.\\n\\nStream via Kayo in our match\\u2026\", 1065187273908486144], [5, \"Chill__Yaar\", \"RT @Chill__Yaar: Kohli is pretty average when it comes to captaincy. Rohit should lead India #AUSvIND\", 1065187265725386752], [548, \"BCCI\", \"RT @BCCI: Captain Kohli with a heart-warming gesture before the start of game at The Gabba #TeamIndia #AUSvIND https://t.co/KPANHQ78FT\", 1065187264139939841], [6, \"VirushkaUpdate_\", \"RT @VirushkaUpdate_: @imVkohli with @Uz_Khawaja before start of the match \\u2764 #AUSvIND https://t.co/wKHdlmpoHa\", 1065187257160675328], [4, \"parulbalwaria\", \"RT @parulbalwaria: #EidMiladUnNabi\\n#AUSvIND\\n\\u0915\\u0941\\u0930\\u093e\\u0928 \\u091c\\u094d\\u091e\\u093e\\u0928\\u0926\\u093e\\u0924\\u093e \\u0939\\u091c\\u0930\\u0924 \\u092e\\u094b\\u0939\\u092e\\u094d\\u092e\\u0926 \\u091c\\u0940 \\u0915\\u094b \\u092c\\u093e \\u0916\\u092c\\u0930 \\u0915\\u0947 \\u092c\\u093e\\u0930\\u0947 \\u092e\\u0947\\u0902 \\u091c\\u093e\\u0928\\u0915\\u093e\\u0930\\u0940 \\u0926\\u0947\\u0924\\u093e \\u0939\\u0948\\u0964 \\u0915\\u094c\\u0928 \\u0939\\u0948 \\u0935\\u0939 \\u092c\\u093e\\u0916\\u092c\\u0930 \\u091c\\u094b \\u0938\\u092c \\u0915\\u093e\\u2026\", 1065187247534698496], [20, \"cricketcomau\", \"RT @cricketcomau: Glenn Maxwell top-scored with 46 as Australia posted 4-158 from their 17 overs.\\n\\nInfo on the run chase coming soon: https\\u2026\", 1065187244447649796], [548, \"BCCI\", \"RT @BCCI: Captain Kohli with a heart-warming gesture before the start of game at The Gabba #TeamIndia #AUSvIND https://t.co/KPANHQ78FT\", 1065187244250550273], [21, \"SampathStats\", \"RT @SampathStats: India will be chasing 174 in 17 overs. 15 runs added to Australia's total of 158/4 via DLS. #AUSvIND\", 1065187240794566657], [4, \"mipaltan\", \"RT @mipaltan: Jasprit Bumrah strikes on the first ball after play resumes to dismiss Maxwell. The match is reduced to a 17-over affair.\\u2026\", 1065187236478480385], [18, \"cricketcomau\", \"RT @cricketcomau: The revised target is in with confirmation that India need 174 to win from their 17 overs.\\n\\nStream via Kayo in our match\\u2026\", 1065187235165818881], [18, \"cricketcomau\", \"RT @cricketcomau: The revised target is in with confirmation that India need 174 to win from their 17 overs.\\n\\nStream via Kayo in our match\\u2026\", 1065187224566857730], [4, \"GuideforAll\", \"RT @GuideforAll: \\ud83d\\udd38India's 1st Sri Vishwakarma Skill Development University will come up in which state ?\\n- #Haryana\\n\\n\\ud83d\\udd38Which country recentl\\u2026\", 1065187213804105729], [20, \"cricketcomau\", \"RT @cricketcomau: Glenn Maxwell top-scored with 46 as Australia posted 4-158 from their 17 overs.\\n\\nInfo on the run chase coming soon: https\\u2026\", 1065187213535834113], [2, \"thefield_in\", \"RT @thefield_in: Can\\u2019t reduce bans on David Warner, Steve Smith just because Australia are struggling, says Shane Warne\\n\\n#AUSvIND\\n\\nRead: ht\\u2026\", 1065187208821301251], [4, \"chetannarula\", \"RT @chetannarula: Official: India need 174 runs to win in 17 overs by DLS method. #AusvInd\", 1065187206040600576], [548, \"BCCI\", \"RT @BCCI: Captain Kohli with a heart-warming gesture before the start of game at The Gabba #TeamIndia #AUSvIND https://t.co/KPANHQ78FT\", 1065187201162588160], [47, \"imVlkohli\", \"RT @imVlkohli: Raining heavily right now. Hope the visitors have brought #Citizen Umbrellas or #Rexburg Raincoat with them else they will c\\u2026\", 1065187187535294465], [548, \"BCCI\", \"RT @BCCI: Captain Kohli with a heart-warming gesture before the start of game at The Gabba #TeamIndia #AUSvIND https://t.co/KPANHQ78FT\", 1065187178836242433], [10, \"imvkohliad\", \"RT @imvkohliad: Please don't troll me for my slippery hands! I was giving my wife Anushka Sharma whose next movie is #Zero a massage with #\\u2026\", 1065187177343184896], [3, \"VirushkaUpdate_\", \"RT @VirushkaUpdate_: @imVkohli during the Toss today \\u2764 #AUSvIND https://t.co/v1SkS6u6BL\", 1065187170711785472], [18, \"cricketcomau\", \"RT @cricketcomau: The revised target is in with confirmation that India need 174 to win from their 17 overs.\\n\\nStream via Kayo in our match\\u2026\", 1065187170103820288], [25, \"cricbuzz\", \"RT @cricbuzz: Play to resume at 8.05pm local (3.35pm IST)\\n\\nAustralia will face five more balls as this match is now a 17-over affair #AUSvI\\u2026\", 1065187169948573696], [21, \"SampathStats\", \"RT @SampathStats: India will be chasing 174 in 17 overs. 15 runs added to Australia's total of 158/4 via DLS. #AUSvIND\", 1065187165330649090], [11, \"iamunknown360\", \"RT @iamunknown360: #AusvsIndonSonyLIV Totally Boring English Commentary missing Australian commentary. \\ud83d\\ude15\\ud83d\\ude29\\ud83d\\ude21#AUSvIND\", 1065187151292260352], [11, \"ESPNcricinfo\", \"RT @ESPNcricinfo: Only five runs off the final five balls for Australia, who finish on 4/158 in 17 overs. Maxwell top-scores with 46\\n\\nIndia\\u2026\", 1065187144187015168], [17, \"cricbuzz\", \"RT @cricbuzz: India's DLS-adjusted target is 174, after Australia finish with 158/4 in their 17 overs #AUSvIND\\n\\nhttps://t.co/YIVPDIIN6l\", 1065187139841871872], [18, \"cricketcomau\", \"RT @cricketcomau: The revised target is in with confirmation that India need 174 to win from their 17 overs.\\n\\nStream via Kayo in our match\\u2026\", 1065187138994548737], [21, \"SampathStats\", \"RT @SampathStats: India will be chasing 174 in 17 overs. 15 runs added to Australia's total of 158/4 via DLS. #AUSvIND\", 1065187130454945792], [1, \"42nikhil\", \"RT @42nikhil: I would prefer a \\\"no commentary\\\" cricket channel then whatever is happening on Sony Six. #AUSvIND\", 1065187120917098500], [548, \"BCCI\", \"RT @BCCI: Captain Kohli with a heart-warming gesture before the start of game at The Gabba #TeamIndia #AUSvIND https://t.co/KPANHQ78FT\", 1065187109248487424], [5, \"VirushkaUpdate_\", \"RT @VirushkaUpdate_: @imVkohli Today before the match \\u2764\\ud83d\\ude0d #AUSvIND https://t.co/tcEphYRJ3c\", 1065187109038768128], [1, \"circleofcricket\", \"RT @circleofcricket: UPDATE: #TeamIndia's target readjusted to 174 runs in 17 overs. #AUSvIND\", 1065187096778858496], [18, \"RCBTweets\", \"RT @RCBTweets: Bumrah does what he does best! \\n\\nMatch reduced to 17 overs and Bumrah delivers an exceptional last over.\\n\\n\\ud83c\\udde6\\ud83c\\uddfa still post a ch\\u2026\", 1065187090600620033], [137, \"BCCI\", \"RT @BCCI: It an all clear. It will be a 17 over game. #TeamIndia will bowl 5 more deliveries. Play to restart 8:05PM local time #AUSvIND ht\\u2026\", 1065187078009307137], [102, \"cricketcomau\", \"RT @cricketcomau: Upper decker! Chris Lynn launched a 108m six into the hands of Old Mate in the stands \\ud83d\\ude4c\\n\\n#AUSvIND @bet365_aus https://t.c\\u2026\", 1065187071973834752], [75, \"ICC\", \"RT @ICC: Can India maintain their good T20I record in Australia or will the hosts rediscover their form in the opening game in Brisbane?\\n\\n#\\u2026\", 1065187071722168320], [20, \"ProfDeano\", \"RT @ProfDeano: Did you know I saw #spidercam for the first time in USA and introduced for the Indian Cricket League in 2007. \\n@Gmaxi_32 you\\u2026\", 1065187067402047488], [81, \"directhitau\", \"RT @directhitau: Ahead of tonight's Gillette T20 blockbuster at the Gabba, @Gmaxi_32 details why all eyes will be on @imVkohli \\n\\n@BKTtires\\u2026\", 1065187063295823872], [17, \"cricbuzz\", \"RT @cricbuzz: India's DLS-adjusted target is 174, after Australia finish with 158/4 in their 17 overs #AUSvIND\\n\\nhttps://t.co/YIVPDIIN6l\", 1065187056492507139], [8, \"BCCI\", \"RT @BCCI: 1st T20I. 7.4: K Ahmed to C Lynn (22), 6 runs, 56/1 https://t.co/LxNw8DrJvS #AusvInd\", 1065187049173471232], [3, \"imsgshinde\", \"RT @imsgshinde: Bumrah gives only 6 runs in last over of innings. Best death bowler in world\\n\\nShane Warne - No No. All the slower balls sli\\u2026\", 1065187034975756294], [217, \"LMKMovieManiac\", \"RT @LMKMovieManiac: #AkshayKumar promoting #2Point0 along with the soon to begin India tour of Australia cricket matches.. \\n\\n#2Point0FromNo\\u2026\", 1065187034720083968], [203, \"imVlkohli\", \"RT @imVlkohli: Oily hands after eating food made from #SaffolaOil is not good for fielding. You miss catches &amp; fielding like me &amp; my boys.\\u2026\", 1065187029640667136], [49, \"Dr_SimranSingh\", \"RT @Dr_SimranSingh: \\u0938\\u094b\\u092e\\u0928\\u093e\\u0925 \\u092d\\u093e\\u0930\\u0924\\u0940 \\u091c\\u093f\\u0938\\u0947 \\u0924\\u0942 \\u0927\\u0902\\u0927\\u0947 \\u0935\\u093e\\u0932\\u0940 \\u092c\\u094b\\u0932 \\u0930\\u0939\\u093e \\u0939\\u0948 \\u0909\\u0938\\u0940 \\u0927\\u0902\\u0927\\u0947 \\u0935\\u093e\\u0932\\u0940 \\u0915\\u0940 \\u0926\\u094b\\u0938\\u094d\\u0924 \\u0924\\u0947\\u0930\\u0940 \\u092c\\u0947\\u091f\\u0940 \\u0939\\u0948\\n\\n\\u0907\\u0938 \\u0939\\u093f\\u0938\\u093e\\u092c \\u0938\\u0947 \\u0924\\u094b \\u0924\\u0942 \\u0905\\u092a\\u0928\\u0940 \\u092c\\u0947\\u091f\\u0940 \\u0915\\u094b \\u092d\\u0940 \\u0927\\u0902\\u0927\\u0947\\u2026\", 1065187028923543552], [1, \"ozrobbo\", \"RT @ozrobbo: India\\u2019s Target is 167 from 17 overs #AUSVIND\", 1065187023357599744], [203, \"imVlkohli\", \"RT @imVlkohli: Oily hands after eating food made from #SaffolaOil is not good for fielding. You miss catches &amp; fielding like me &amp; my boys.\\u2026\", 1065187022980009985], [17, \"cricbuzz\", \"RT @cricbuzz: India's DLS-adjusted target is 174, after Australia finish with 158/4 in their 17 overs #AUSvIND\\n\\nhttps://t.co/YIVPDIIN6l\", 1065187020559998976], [7, \"SunRisers\", \"RT @SunRisers: Out! @imK_Ahmed13 strikes in his very first delivery as he makes D Arcy Short his first victim on Australian soil. \\n\\n\\ud83c\\udde6\\ud83c\\uddfa - 30\\u2026\", 1065187017774919680], [87, \"gaurav_sundar\", \"RT @gaurav_sundar: Kohli is not a big fan of match ups but Rohit is. In this format I believe it matters a lot. Kohli has a set template to\\u2026\", 1065187012808830976], [1, \"parthvyas1989\", \"RT @parthvyas1989: This commentary on Sony six is boring beyond imagination.feel like all dese guys r high n have a hangover from last nigh\\u2026\", 1065187011802292224], [34, \"BiggDeals4U\", \"RT @BiggDeals4U: Anyone who don't have #Jio or #Airtel Sim and are unable to watch  #IndvAus #AUSvIND match live ,then DM me..will give #So\\u2026\", 1065187005225566215], [11, \"ESPNcricinfo\", \"RT @ESPNcricinfo: Only five runs off the final five balls for Australia, who finish on 4/158 in 17 overs. Maxwell top-scores with 46\\n\\nIndia\\u2026\", 1065187003224907776], [203, \"imVlkohli\", \"RT @imVlkohli: Oily hands after eating food made from #SaffolaOil is not good for fielding. You miss catches &amp; fielding like me &amp; my boys.\\u2026\", 1065187002440654849], [17, \"cricbuzz\", \"RT @cricbuzz: 6\\u20e36\\u20e36\\u20e3\\n\\nGlenn Maxwell punishes Krunal Pandya; Australia on the charge #AUSvIND \\n\\nhttps://t.co/YIVPDIIN6l\", 1065186999219433479], [58, \"ICC\", \"RT @ICC: Rain has stopped play in Brisbane! \\ud83c\\udf27\\ufe0f\\n\\nAustralia are 153/3 after 16.1 overs with Glenn Maxwell on 46 and Marcus Stoinis on 31.\\n\\n#A\\u2026\", 1065186986900762624], [137, \"BCCI\", \"RT @BCCI: It an all clear. It will be a 17 over game. #TeamIndia will bowl 5 more deliveries. Play to restart 8:05PM local time #AUSvIND ht\\u2026\", 1065186983713095680], [20, \"ProfDeano\", \"RT @ProfDeano: Did you know I saw #spidercam for the first time in USA and introduced for the Indian Cricket League in 2007. \\n@Gmaxi_32 you\\u2026\", 1065186981469028353], [19, \"cricketcomau\", \"RT @cricketcomau: New drill \\ud83d\\ude48 #AUSvIND https://t.co/wuDDSMlk1i\", 1065186968999317504], [38, \"trollsangh\", \"RT @trollsangh: Educate your children. don't make him a #Chaiwala \\ud83d\\ude23\\ud83d\\ude23\\ud83d\\ude23\\n#AusvsIndonSonyLIV #EidMiladUnNabi #AUSvIND #TrollSangh #Sabarimala\\n#\\u2026\", 1065186966554046469], [18, \"RCBTweets\", \"RT @RCBTweets: Bumrah does what he does best! \\n\\nMatch reduced to 17 overs and Bumrah delivers an exceptional last over.\\n\\n\\ud83c\\udde6\\ud83c\\uddfa still post a ch\\u2026\", 1065186966373834753], [20, \"cricketcomau\", \"RT @cricketcomau: Glenn Maxwell top-scored with 46 as Australia posted 4-158 from their 17 overs.\\n\\nInfo on the run chase coming soon: https\\u2026\", 1065186961520873472], [27, \"ICC\", \"RT @ICC: Play is about to resume!\\n\\nAustralia will bat five more balls, making this a 17 over match. Their score will then be adjusted by DL\\u2026\", 1065186955909046272], [1, \"rajasthanroyals\", \"RT @rajasthanroyals: The innings ends after 17 overs with a score of 158/4.\\nCan India chase down their target of 174 in time?\\n\\nPC: ICC \\n\\n#A\\u2026\", 1065186954231320578], [21, \"SampathStats\", \"RT @SampathStats: India will be chasing 174 in 17 overs. 15 runs added to Australia's total of 158/4 via DLS. #AUSvIND\", 1065186952037588992], [17, \"cricbuzz\", \"RT @cricbuzz: India's DLS-adjusted target is 174, after Australia finish with 158/4 in their 17 overs #AUSvIND\\n\\nhttps://t.co/YIVPDIIN6l\", 1065186945746165760], [2, \"FirstpostSports\", \"RT @FirstpostSports: India will require 174 to win the first T20I (DLS method)\\n\\nFielding restriction will apply only for the first five ove\\u2026\", 1065186939270250497], [18, \"RCBTweets\", \"RT @RCBTweets: Bumrah does what he does best! \\n\\nMatch reduced to 17 overs and Bumrah delivers an exceptional last over.\\n\\n\\ud83c\\udde6\\ud83c\\uddfa still post a ch\\u2026\", 1065186929644314625], [137, \"BCCI\", \"RT @BCCI: It an all clear. It will be a 17 over game. #TeamIndia will bowl 5 more deliveries. Play to restart 8:05PM local time #AUSvIND ht\\u2026\", 1065186919825297408], [548, \"BCCI\", \"RT @BCCI: Captain Kohli with a heart-warming gesture before the start of game at The Gabba #TeamIndia #AUSvIND https://t.co/KPANHQ78FT\", 1065186917254234113], [3, \"suneerchowdhary\", \"RT @suneerchowdhary: Michael Clarke: If I am India, I am picking Kuldeep ahead of Ashwin and Jadeja as my number one spinner at Adelaide.\\u2026\", 1065186909788418049], [37, \"RAJINIism\", \"RT @RAJINIism: #2Point0 Promotions in #INDvAUS\\n\\nAwesome Promotions by #LycaProductions\\n\\n#AUSvIND #AusvsIndonSonyLIV #Rajinikanth #2Point0Fr\\u2026\", 1065186904830660614], [4, \"NWN2019\", \"RT @NWN2019: Top CEOs have this to say about PM @narendramodi 's reforms\\ud83d\\udc42\\n\\n#EaseOfDoingBusiness #AUSvIND #breathefit #arrestkamalnath https\\u2026\", 1065186898090455040], [137, \"BCCI\", \"RT @BCCI: It an all clear. It will be a 17 over game. #TeamIndia will bowl 5 more deliveries. Play to restart 8:05PM local time #AUSvIND ht\\u2026\", 1065186897155084289], [3, \"mytentaran\", \"RT @mytentaran: Here is everything you need to know about the ICC Women World T20 group A and B standings\\n#ICC  #WT20 #SemiFinals #INDvAUS\\u2026\", 1065186882462478336], [2, \"sa9321\", \"RT @sa9321: \\\"It must fee like a home game for you guys!\\\" - @Neroli_M_FOX \\n@SwamiArmy @thebharatarmy #teamindia representing!!!\\n#jaihind #au\\u2026\", 1065186876468813825], [23, \"ESPNcricinfo\", \"RT @ESPNcricinfo: Should India have played Yuzvendra Chahal as well? \\n\\nhttps://t.co/Od8fIu6xym #AUSvIND https://t.co/Fh8JLswsak\", 1065186866461372416]]\n"
     ]
    },
    {
     "data": {
      "image/png": "[encoded data removed]",
      "text/plain": [
       "<Figure size 432x288 with 1 Axes>"
      ]
     },
     "metadata": {
      "needs_background": "light"
     },
     "output_type": "display_data"
    }
   ],
   "source": [
    "# Using underscores while unpacking values in\n",
    "# a tuple is idiomatic for discarding them\n",
    "\n",
    "counts = [count for count, _, _, _ in retweets]\n",
    "\n",
    "plt.hist(counts)\n",
    "plt.title(\"Retweets\")\n",
    "plt.xlabel('Bins (number of times retweeted)')\n",
    "plt.ylabel('Number of tweets in bin')\n",
    "\n",
    "print(counts)"
   ]
  },
  {
   "cell_type": "markdown",
   "metadata": {},
   "source": [
    "# Closing Remarks"
   ]
  },
  {
   "cell_type": "markdown",
   "metadata": {},
   "source": [
    "This chapter introduced Twitter as a successful technology platform that\n",
    "    has grown virally and become \"all the rage,\" given its ability to satisfy\n",
    "    some fundamental human desires relating to communication, curiosity, and\n",
    "    the self-organizing behavior that has emerged from its chaotic network\n",
    "    dynamics. The example code in this chapter got you up and running with\n",
    "    Twitter's API, illustrated how easy (and fun) it is to use Python to\n",
    "    interactively explore and analyze Twitter data, and provided some starting\n",
    "    templates that you can use for mining tweets. We started out the chapter\n",
    "    by learning how to create an authenticated connection and then progressed\n",
    "    through a series of examples that illustrated how to discover trending\n",
    "    topics for particular locales, how to search for tweets that might be\n",
    "    interesting, and how to analyze those tweets using some elementary but\n",
    "    effective techniques based on frequency analysis and simple statistics.\n",
    "    Even what seemed like a somewhat arbitrary trending topic turned out to\n",
    "    lead us down worthwhile paths with lots of possibilities for additional\n",
    "    analysis."
   ]
  },
  {
   "cell_type": "markdown",
   "metadata": {},
   "source": [
    "<blockquote><div><strong>Note:</strong></div><p>Chapter&#160;9, <em>Twitter Cookbook</em> contains a number of Twitter\n",
    "      recipes covering a broad array of topics that range from tweet\n",
    "      harvesting and analysis to the effective use of storage for archiving\n",
    "      tweets to techniques for analyzing followers for insights.</p></blockquote>"
   ]
  },
  {
   "cell_type": "markdown",
   "metadata": {},
   "source": [
    "One of the primary takeaways from this chapter from an analytical\n",
    "    standpoint is that counting is generally the first step to any kind of\n",
    "    meaningful quantitative analysis. Although basic frequency analysis is\n",
    "    simple, it is a powerful tool for your repertoire that shouldn’t be\n",
    "    overlooked just because it’s so obvious; besides, many other advanced\n",
    "    statistics depend on it. On the contrary, frequency analysis and measures\n",
    "    such as lexical diversity should be employed early and often, for\n",
    "    precisely the reason that doing so is so obvious and simple. Oftentimes,\n",
    "    but not always, the results from the simplest techniques can rival the\n",
    "    quality of those from more sophisticated analytics. With respect to data\n",
    "    in the Twitterverse, these modest techniques can usually get you quite a\n",
    "    long way toward answering the question, “What are people talking about\n",
    "    right now?” Now that's something we'd all like to know, isn't it?"
   ]
  },
  {
   "cell_type": "markdown",
   "metadata": {},
   "source": [
    "<blockquote><div><strong>Note:</strong></div><p>The source code outlined for this chapter and all other chapters\n",
    "      is available at <a class=\"ulink\" href=\"http://bit.ly/1a1kNqy\" target=\"\\_top\">GitHub</a> in a\n",
    "      convenient IPython Notebook format that you're highly encouraged to try\n",
    "      out from the comfort of your own web browser.</p></blockquote>"
   ]
  },
  {
   "cell_type": "markdown",
   "metadata": {},
   "source": [
    "# Recommended Exercises"
   ]
  },
  {
   "cell_type": "markdown",
   "metadata": {},
   "source": [
    "<ul class=\"itemizedlist\">\n",
    "            <li class=\"listitem\">\n",
    "              <p>Bookmark and spend some time reviewing <a class=\"ulink\" href=\"http://bit.ly/1a1kSKQ\" target=\"\\_top\">Twitter's API documentation</a>. In\n",
    "          particular, spend some time browsing the information on the <a class=\"ulink\" href=\"http://bit.ly/1a1kZ9i\" target=\"\\_top\">REST API</a> and <a class=\"ulink\" href=\"http://bit.ly/1a1kSL8\" target=\"\\_top\">platform objects</a>.</p>\n",
    "            </li>\n",
    "            <li class=\"listitem\">\n",
    "              <p>If you haven't already, get comfortable working in <a class=\"ulink\" href=\"http://bit.ly/1a1laRY\" target=\"\\_top\">IPython</a> and <a class=\"ulink\" href=\"http://bit.ly/1a1laSf\" target=\"\\_top\">IPython Notebook</a> as a more\n",
    "          productive alternative to the traditional Python interpreter. Over\n",
    "          the course of your social web mining career, the saved time and\n",
    "          increased productivity will really start to add up.</p>\n",
    "            </li>\n",
    "            <li class=\"listitem\">\n",
    "              <p>If you have a Twitter account with a nontrivial number of tweets, request your\n",
    "          historical tweet archive from your <a class=\"ulink\" href=\"http://bit.ly/1a1lb8D\" target=\"\\_top\">account settings</a> and analyze it.\n",
    "          The export of your account data includes files organized by time\n",
    "          period in a convenient JSON format. See the\n",
    "          <span class=\"emphasis\"><em>README.txt</em></span> file included in the downloaded\n",
    "          archive for more details. What are the most common terms that appear\n",
    "          in your tweets? Who do you retweet the most often? How many of your\n",
    "          tweets are retweeted (and why do you think this is the case)?</p>\n",
    "            </li>\n",
    "            <li class=\"listitem\">\n",
    "              <p>Take some time to explore Twitter's REST API with its <a class=\"ulink\" href=\"http://bit.ly/1a1kWui\" target=\"\\_top\">developer console</a>. Although we\n",
    "          opted to dive in with the <code class=\"literal\">twitter</code>\n",
    "          Python package in a programmatic fashion in this chapter, the\n",
    "          console can be useful for exploring the API, the effects of\n",
    "          parameters, and more. The command-line tool <a class=\"ulink\" href=\"http://bit.ly/1a1kZq1\" target=\"\\_top\">Twurl</a> is another option to\n",
    "          consider if you prefer working in a terminal.</p>\n",
    "            </li>\n",
    "            <li class=\"listitem\">\n",
    "              <p>Complete the exercise of determining whether there seems to be\n",
    "          a spiritual or religious affiliation for the users who retweeted the\n",
    "          status citing \"God\" as someone important to them, or follow the\n",
    "          workflow in this chapter for a trending topic or arbitrary search\n",
    "          query of your own choosing. Explore some of the <a class=\"ulink\" href=\"http://bit.ly/1a1l3pN\" target=\"\\_top\">advanced search features</a> that\n",
    "          are available for more precise querying.</p>\n",
    "            </li>\n",
    "            <li class=\"listitem\">\n",
    "              <p>Explore <a class=\"ulink\" href=\"http://yhoo.it/1a1kZ9u\" target=\"\\_top\">Yahoo! GeoPlanet's\n",
    "          Where On Earth ID API</a> so that you can compare and contrast\n",
    "          trends from different locales.</p>\n",
    "            </li>\n",
    "            <li class=\"listitem\">\n",
    "              <p>Take a closer look at <a class=\"ulink\" href=\"http://bit.ly/1a1l7Wv\" target=\"\\_top\"><code class=\"literal\">matplotlib</code></a> and learn how to create\n",
    "          <a class=\"ulink\" href=\"http://bit.ly/1a1lccP\" target=\"\\_top\">beautiful plots of 2D and 3D data\n",
    "          with IPython Notebook</a>.</p>\n",
    "            </li>\n",
    "            <li class=\"listitem\">\n",
    "              <p>Explore and apply some of the exercises from Chapter&#160;9, <em>Twitter Cookbook</em>.</p>\n",
    "            </li>\n",
    "          </ul>"
   ]
  },
  {
   "cell_type": "markdown",
   "metadata": {},
   "source": [
    "# Online Resources"
   ]
  },
  {
   "cell_type": "markdown",
   "metadata": {},
   "source": [
    "The following list of links from this chapter may be useful for\n",
    "    review:"
   ]
  },
  {
   "cell_type": "markdown",
   "metadata": {},
   "source": [
    "<ul class=\"itemizedlist\">\n",
    "            <li class=\"listitem\">\n",
    "              <p>\n",
    "                <a class=\"ulink\" href=\"http://bit.ly/1a1lccP\" target=\"\\_top\">Beautiful plots of 2D and\n",
    "          3D data with IPython Notebook</a>\n",
    "              </p>\n",
    "            </li>\n",
    "            <li class=\"listitem\">\n",
    "              <p>\n",
    "                <a class=\"ulink\" href=\"http://bit.ly/1a1kXyf\" target=\"\\_top\">IPython \"magic\n",
    "          functions\"</a>\n",
    "              </p>\n",
    "            </li>\n",
    "            <li class=\"listitem\">\n",
    "              <p>\n",
    "                <a class=\"ulink\" href=\"http://bit.ly/1a1l2lJ\" target=\"\\_top\">json.org</a>\n",
    "              </p>\n",
    "            </li>\n",
    "            <li class=\"listitem\">\n",
    "              <p>\n",
    "                <a class=\"ulink\" href=\"http://bit.ly/1a1l6BN\" target=\"\\_top\">PyLab</a>\n",
    "              </p>\n",
    "            </li>\n",
    "            <li class=\"listitem\">\n",
    "              <p>\n",
    "                <a class=\"ulink\" href=\"http://bit.ly/1a1l1hy\" target=\"\\_top\">Python list\n",
    "          comprehensions</a>\n",
    "              </p>\n",
    "            </li>\n",
    "            <li class=\"listitem\">\n",
    "              <p>\n",
    "                <a class=\"ulink\" href=\"http://bit.ly/1a1l1hy\" target=\"\\_top\">The official Python\n",
    "          tutorial</a>\n",
    "              </p>\n",
    "            </li>\n",
    "            <li class=\"listitem\">\n",
    "              <p>\n",
    "                <a class=\"ulink\" href=\"http://bit.ly/1a1kZWN\" target=\"\\_top\">OAuth</a>\n",
    "              </p>\n",
    "            </li>\n",
    "            <li class=\"listitem\">\n",
    "              <p>\n",
    "                <a class=\"ulink\" href=\"http://bit.ly/1a1kSKQ\" target=\"\\_top\">Twitter API\n",
    "          documentation</a>\n",
    "              </p>\n",
    "            </li>\n",
    "            <li class=\"listitem\">\n",
    "              <p>\n",
    "                <a class=\"ulink\" href=\"http://bit.ly/1a1l2ly\" target=\"\\_top\">Twitter API Rate Limiting\n",
    "          in v1.1</a>\n",
    "              </p>\n",
    "            </li>\n",
    "            <li class=\"listitem\">\n",
    "              <p>\n",
    "                <a class=\"ulink\" href=\"http://bit.ly/1a1kWui\" target=\"\\_top\">Twitter developer\n",
    "          console</a>\n",
    "              </p>\n",
    "            </li>\n",
    "            <li class=\"listitem\">\n",
    "              <p>\n",
    "                <a class=\"ulink\" href=\"http://bit.ly/1a1kX1a\" target=\"\\_top\">Twitter Developer Rules of\n",
    "          the Road</a>\n",
    "              </p>\n",
    "            </li>\n",
    "            <li class=\"listitem\">\n",
    "              <p>\n",
    "                <a class=\"ulink\" href=\"http://bit.ly/1a1kZWW\" target=\"\\_top\">Twitter's OAuth\n",
    "          documentation</a>\n",
    "              </p>\n",
    "            </li>\n",
    "            <li class=\"listitem\">\n",
    "              <p>\n",
    "                <a class=\"ulink\" href=\"http://bit.ly/1a1l3pN\" target=\"\\_top\">Twitter Search API\n",
    "          operators</a>\n",
    "              </p>\n",
    "            </li>\n",
    "            <li class=\"listitem\">\n",
    "              <p>\n",
    "                <a class=\"ulink\" href=\"http://bit.ly/1a1l1ya\" target=\"\\_top\">Twitter Streaming\n",
    "          API</a>\n",
    "              </p>\n",
    "            </li>\n",
    "            <li class=\"listitem\">\n",
    "              <p>\n",
    "                <a class=\"ulink\" href=\"http://bit.ly/1a1kWKB\" target=\"\\_top\">Twitter terms of\n",
    "          service</a>\n",
    "              </p>\n",
    "            </li>\n",
    "            <li class=\"listitem\">\n",
    "              <p>\n",
    "                <a class=\"ulink\" href=\"http://bit.ly/1a1kZq1\" target=\"\\_top\">Twurl</a>\n",
    "              </p>\n",
    "            </li>\n",
    "            <li class=\"listitem\">\n",
    "              <p>\n",
    "                <a class=\"ulink\" href=\"http://yhoo.it/1a1kZ9u\" target=\"\\_top\">Yahoo! GeoPlanet's Where\n",
    "          On Earth ID API</a>\n",
    "              </p>\n",
    "            </li>\n",
    "          </ul>"
   ]
  },
  {
   "cell_type": "markdown",
   "metadata": {},
   "source": [
    "<br />\n",
    "        <hr style=\"width: 100; align: left;\" />\n",
    "        <div class=\"footnote\">\n",
    "          <p><sup>[1] </sup>Although it's an implementation detail, it may be worth noting\n",
    "          that Twitter's v1.1 API still implements OAuth 1.0a, whereas many\n",
    "          other social web properties have since upgraded to OAuth 2.0.</p>\n",
    "        </div>"
   ]
  }
 ],
 "metadata": {
  "kernelspec": {
   "display_name": "Python 3",
   "language": "python",
   "name": "python3"
  },
  "language_info": {
   "codemirror_mode": {
    "name": "ipython",
    "version": 3
   },
   "file_extension": ".py",
   "mimetype": "text/x-python",
   "name": "python",
   "nbconvert_exporter": "python",
   "pygments_lexer": "ipython3",
   "version": "3.4.3"
  }
 },
 "nbformat": 4,
 "nbformat_minor": 1
}
